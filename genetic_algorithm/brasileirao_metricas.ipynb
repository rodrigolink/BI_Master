{
 "cells": [
  {
   "cell_type": "markdown",
   "metadata": {
    "id": "r6P8xlu2dmvB"
   },
   "source": [
    "# <center>Otimização de tabela do Campeonato Brasileiro de Futebol usando Algoritmos Genéticos</center>"
   ]
  },
  {
   "cell_type": "markdown",
   "metadata": {
    "id": "TROcOVQidmvL"
   },
   "source": [
    "## 1. Introdução"
   ]
  },
  {
   "cell_type": "markdown",
   "metadata": {
    "id": "XQimdFqUdmvM"
   },
   "source": [
    "O Campeonato Brasileiro de Futebol é o principal torneio do esporte mais popular do país. Com 20 times, tem representantes de quase todas as regiões do Brasil (região Norte já esteve presente em edições passadas). Como o Brasil é um país de tamanho continental, o torneio envolve viagens longas, principalmente para os times do Nordeste.<br> \n",
    "\n",
    "A partir do conjunto de premissas apresentadas adiante, vamos utilizar Algoritmos Genéticos para propor uma tabela que minimize o impacto dessas longas viagens, embora seja claro que haverá times que estão geograficamente mais distantes e não há como evitar diferenças. Propomos três métricas para essa otimização, todas utilizando as  distâncias viajadas por cada time.<br>\n",
    "\n",
    "Esse é um tipo de problema conhecido como TTP (*Traveling Tournament Problem*), Problema de Torneio Itinerante. Existe um conjunto gigante de possíveis ordenamentos e é bastante complicado obter o resultado ótimo, principalmente com um número grande de participantes. "
   ]
  },
  {
   "cell_type": "markdown",
   "metadata": {
    "id": "0xH5j2RfdmvM"
   },
   "source": [
    "## 2. Dados disponíveis"
   ]
  },
  {
   "cell_type": "markdown",
   "metadata": {
    "id": "vbfnF5XNdmvN"
   },
   "source": [
    "Temos duas entradas importantes para poder realizar esse estudo.\n",
    "1. A lista de times participantes do campeonato;\n",
    "2. A tabela do campeonato de 2020."
   ]
  },
  {
   "cell_type": "markdown",
   "metadata": {
    "id": "JjpMlgzIdmvN"
   },
   "source": [
    "**Vamos importar as bibliotecas necessárias para apresentar os dados.**"
   ]
  },
  {
   "cell_type": "code",
   "execution_count": 10,
   "metadata": {
    "id": "T8wug6XsdmvO"
   },
   "outputs": [],
   "source": [
    "import pandas as pd\n",
    "import numpy as np\n",
    "import matplotlib.pyplot as plt\n",
    "import math\n",
    "\n",
    "%matplotlib inline"
   ]
  },
  {
   "cell_type": "markdown",
   "metadata": {
    "id": "_yJHFLQDdmvO"
   },
   "source": [
    "### 2.1. Lista de participantes"
   ]
  },
  {
   "cell_type": "markdown",
   "metadata": {
    "id": "4hsnCLFYdmvO"
   },
   "source": [
    "Precisamos da lista com o nome dos 20 participantes do campeonato, junto com a sua cidade de origem. Como estamos interessados na distância viajada por cada equipe, vamos pegar as coordenadas (latitude e longitude) do ponto central de cada cidade para calcular o percurso entre as partidas."
   ]
  },
  {
   "cell_type": "code",
   "execution_count": 11,
   "metadata": {
    "colab": {
     "base_uri": "https://localhost:8080/",
     "height": 204
    },
    "id": "rZqx-hAodmvP",
    "outputId": "f052221b-22f7-4dc9-abfb-3ed3eb5d11e3"
   },
   "outputs": [
    {
     "data": {
      "text/html": [
       "<div>\n",
       "<style scoped>\n",
       "    .dataframe tbody tr th:only-of-type {\n",
       "        vertical-align: middle;\n",
       "    }\n",
       "\n",
       "    .dataframe tbody tr th {\n",
       "        vertical-align: top;\n",
       "    }\n",
       "\n",
       "    .dataframe thead th {\n",
       "        text-align: right;\n",
       "    }\n",
       "</style>\n",
       "<table border=\"1\" class=\"dataframe\">\n",
       "  <thead>\n",
       "    <tr style=\"text-align: right;\">\n",
       "      <th></th>\n",
       "      <th>Time</th>\n",
       "      <th>Cidade</th>\n",
       "    </tr>\n",
       "  </thead>\n",
       "  <tbody>\n",
       "    <tr>\n",
       "      <th>0</th>\n",
       "      <td>Atlético Goianiense</td>\n",
       "      <td>Goiânia</td>\n",
       "    </tr>\n",
       "    <tr>\n",
       "      <th>1</th>\n",
       "      <td>Atlético Mineiro</td>\n",
       "      <td>Belo Horizonte</td>\n",
       "    </tr>\n",
       "    <tr>\n",
       "      <th>2</th>\n",
       "      <td>Athletico Paranaense</td>\n",
       "      <td>Curitiba</td>\n",
       "    </tr>\n",
       "    <tr>\n",
       "      <th>3</th>\n",
       "      <td>Bahia</td>\n",
       "      <td>Salvador</td>\n",
       "    </tr>\n",
       "    <tr>\n",
       "      <th>4</th>\n",
       "      <td>Botafogo</td>\n",
       "      <td>Rio de Janeiro</td>\n",
       "    </tr>\n",
       "  </tbody>\n",
       "</table>\n",
       "</div>"
      ],
      "text/plain": [
       "                    Time          Cidade\n",
       "0   Atlético Goianiense          Goiânia\n",
       "1      Atlético Mineiro   Belo Horizonte\n",
       "2  Athletico Paranaense         Curitiba\n",
       "3                 Bahia         Salvador\n",
       "4              Botafogo   Rio de Janeiro"
      ]
     },
     "execution_count": 11,
     "metadata": {},
     "output_type": "execute_result"
    }
   ],
   "source": [
    "lista_times_20=pd.read_csv('times.csv')\n",
    "lista_times_20.head()"
   ]
  },
  {
   "cell_type": "markdown",
   "metadata": {
    "id": "UajIwTHZdmvQ"
   },
   "source": [
    "Montaremos posteriormente uma tabela 20x20 com a distância entre as cidades de cada time."
   ]
  },
  {
   "cell_type": "markdown",
   "metadata": {
    "id": "M7RYDg9edmvQ"
   },
   "source": [
    "### 2.2. Tabela de 2020"
   ]
  },
  {
   "cell_type": "markdown",
   "metadata": {
    "id": "BXNoSXOydmvQ"
   },
   "source": [
    "Pegamos como ponto de partida a programação do campeonato de 2020, onde temos a ordem das partidas para cada um dos 20 times. O torneio é realizado em duas fases, onde a segunda parte repete os jogos da primeira, com mando de campo invertido. Com isso, só precisamos nos preocupar com a metade dos jogos."
   ]
  },
  {
   "cell_type": "markdown",
   "metadata": {
    "id": "2azGvKyZdmvR"
   },
   "source": [
    "Para o nosso problema, organizamos a montagem das primeiras 19 rodadas em duas tabelas, uma com a sequência de times enfrentados e outra com a sequência de mandos de campo (*casa/fora*)."
   ]
  },
  {
   "cell_type": "markdown",
   "metadata": {
    "id": "DSUzagZldmvR"
   },
   "source": [
    "#### 2.2.1 Sequência de jogos"
   ]
  },
  {
   "cell_type": "code",
   "execution_count": 12,
   "metadata": {
    "colab": {
     "base_uri": "https://localhost:8080/",
     "height": 326
    },
    "id": "WG07PWvadmvR",
    "outputId": "77f41528-9c27-425a-b99b-5b30367e8528"
   },
   "outputs": [
    {
     "data": {
      "text/html": [
       "<div>\n",
       "<style scoped>\n",
       "    .dataframe tbody tr th:only-of-type {\n",
       "        vertical-align: middle;\n",
       "    }\n",
       "\n",
       "    .dataframe tbody tr th {\n",
       "        vertical-align: top;\n",
       "    }\n",
       "\n",
       "    .dataframe thead th {\n",
       "        text-align: right;\n",
       "    }\n",
       "</style>\n",
       "<table border=\"1\" class=\"dataframe\">\n",
       "  <thead>\n",
       "    <tr style=\"text-align: right;\">\n",
       "      <th></th>\n",
       "      <th>Time</th>\n",
       "      <th>Rodada 1</th>\n",
       "      <th>Rodada 2</th>\n",
       "      <th>Rodada 3</th>\n",
       "      <th>Rodada 4</th>\n",
       "      <th>Rodada 5</th>\n",
       "      <th>Rodada 6</th>\n",
       "      <th>Rodada 7</th>\n",
       "      <th>Rodada 8</th>\n",
       "      <th>Rodada 9</th>\n",
       "      <th>Rodada 10</th>\n",
       "      <th>Rodada 11</th>\n",
       "      <th>Rodada 12</th>\n",
       "      <th>Rodada 13</th>\n",
       "      <th>Rodada 14</th>\n",
       "      <th>Rodada 15</th>\n",
       "      <th>Rodada 16</th>\n",
       "      <th>Rodada 17</th>\n",
       "      <th>Rodada 18</th>\n",
       "      <th>Rodada 19</th>\n",
       "    </tr>\n",
       "  </thead>\n",
       "  <tbody>\n",
       "    <tr>\n",
       "      <th>0</th>\n",
       "      <td>Athlético Paranaense</td>\n",
       "      <td>Fortaleza</td>\n",
       "      <td>Goiás</td>\n",
       "      <td>Santos</td>\n",
       "      <td>Palmeiras</td>\n",
       "      <td>Fluminense</td>\n",
       "      <td>Atlético Mineiro</td>\n",
       "      <td>Red Bull Bragantino</td>\n",
       "      <td>Vasco da Gama</td>\n",
       "      <td>Botafogo</td>\n",
       "      <td>Coritiba</td>\n",
       "      <td>São Paulo</td>\n",
       "      <td>Bahia</td>\n",
       "      <td>Flamengo</td>\n",
       "      <td>Ceará</td>\n",
       "      <td>Internacional</td>\n",
       "      <td>Corinthians</td>\n",
       "      <td>Atlético Goianiense</td>\n",
       "      <td>Grêmio</td>\n",
       "      <td>Sport</td>\n",
       "    </tr>\n",
       "    <tr>\n",
       "      <th>1</th>\n",
       "      <td>Atlético Goianiense</td>\n",
       "      <td>Corinthians</td>\n",
       "      <td>Flamengo</td>\n",
       "      <td>Sport</td>\n",
       "      <td>Internacional</td>\n",
       "      <td>Goiás</td>\n",
       "      <td>Ceará</td>\n",
       "      <td>Fluminense</td>\n",
       "      <td>Grêmio</td>\n",
       "      <td>Vasco da Gama</td>\n",
       "      <td>Bahia</td>\n",
       "      <td>Atlético Mineiro</td>\n",
       "      <td>Botafogo</td>\n",
       "      <td>Fortaleza</td>\n",
       "      <td>São Paulo</td>\n",
       "      <td>Red Bull Bragantino</td>\n",
       "      <td>Santos</td>\n",
       "      <td>Athlético Paranaense</td>\n",
       "      <td>Palmeiras</td>\n",
       "      <td>Coritiba</td>\n",
       "    </tr>\n",
       "    <tr>\n",
       "      <th>2</th>\n",
       "      <td>Atlético Mineiro</td>\n",
       "      <td>Flamengo</td>\n",
       "      <td>Corinthians</td>\n",
       "      <td>Ceará</td>\n",
       "      <td>Botafogo</td>\n",
       "      <td>Internacional</td>\n",
       "      <td>Athlético Paranaense</td>\n",
       "      <td>São Paulo</td>\n",
       "      <td>Coritiba</td>\n",
       "      <td>Santos</td>\n",
       "      <td>Red Bull Bragantino</td>\n",
       "      <td>Atlético Goianiense</td>\n",
       "      <td>Grêmio</td>\n",
       "      <td>Vasco da Gama</td>\n",
       "      <td>Fortaleza</td>\n",
       "      <td>Goiás</td>\n",
       "      <td>Fluminense</td>\n",
       "      <td>Bahia</td>\n",
       "      <td>Sport</td>\n",
       "      <td>Palmeiras</td>\n",
       "    </tr>\n",
       "    <tr>\n",
       "      <th>3</th>\n",
       "      <td>Bahia</td>\n",
       "      <td>Botafogo</td>\n",
       "      <td>Coritiba</td>\n",
       "      <td>Red Bull Bragantino</td>\n",
       "      <td>São Paulo</td>\n",
       "      <td>Ceará</td>\n",
       "      <td>Palmeiras</td>\n",
       "      <td>Flamengo</td>\n",
       "      <td>Internacional</td>\n",
       "      <td>Grêmio</td>\n",
       "      <td>Atlético Goianiense</td>\n",
       "      <td>Corinthians</td>\n",
       "      <td>Athlético Paranaense</td>\n",
       "      <td>Sport</td>\n",
       "      <td>Vasco da Gama</td>\n",
       "      <td>Fluminense</td>\n",
       "      <td>Goiás</td>\n",
       "      <td>Atlético Mineiro</td>\n",
       "      <td>Fortaleza</td>\n",
       "      <td>Santos</td>\n",
       "    </tr>\n",
       "    <tr>\n",
       "      <th>4</th>\n",
       "      <td>Botafogo</td>\n",
       "      <td>Bahia</td>\n",
       "      <td>Red Bull Bragantino</td>\n",
       "      <td>Fortaleza</td>\n",
       "      <td>Atlético Mineiro</td>\n",
       "      <td>Flamengo</td>\n",
       "      <td>Internacional</td>\n",
       "      <td>Coritiba</td>\n",
       "      <td>Corinthians</td>\n",
       "      <td>Athlético Paranaense</td>\n",
       "      <td>Vasco da Gama</td>\n",
       "      <td>Santos</td>\n",
       "      <td>Atlético Goianiense</td>\n",
       "      <td>Fluminense</td>\n",
       "      <td>Palmeiras</td>\n",
       "      <td>Sport</td>\n",
       "      <td>Grêmio</td>\n",
       "      <td>Goiás</td>\n",
       "      <td>São Paulo</td>\n",
       "      <td>Ceará</td>\n",
       "    </tr>\n",
       "  </tbody>\n",
       "</table>\n",
       "</div>"
      ],
      "text/plain": [
       "                   Time     Rodada 1             Rodada 2  \\\n",
       "0  Athlético Paranaense    Fortaleza                Goiás   \n",
       "1   Atlético Goianiense  Corinthians             Flamengo   \n",
       "2      Atlético Mineiro     Flamengo          Corinthians   \n",
       "3                 Bahia     Botafogo             Coritiba   \n",
       "4              Botafogo        Bahia  Red Bull Bragantino   \n",
       "\n",
       "              Rodada 3          Rodada 4       Rodada 5              Rodada 6  \\\n",
       "0               Santos         Palmeiras     Fluminense      Atlético Mineiro   \n",
       "1                Sport     Internacional          Goiás                 Ceará   \n",
       "2                Ceará          Botafogo  Internacional  Athlético Paranaense   \n",
       "3  Red Bull Bragantino         São Paulo          Ceará             Palmeiras   \n",
       "4            Fortaleza  Atlético Mineiro       Flamengo         Internacional   \n",
       "\n",
       "              Rodada 7       Rodada 8              Rodada 9  \\\n",
       "0  Red Bull Bragantino  Vasco da Gama              Botafogo   \n",
       "1           Fluminense         Grêmio         Vasco da Gama   \n",
       "2            São Paulo       Coritiba                Santos   \n",
       "3             Flamengo  Internacional                Grêmio   \n",
       "4             Coritiba    Corinthians  Athlético Paranaense   \n",
       "\n",
       "             Rodada 10            Rodada 11             Rodada 12  \\\n",
       "0             Coritiba            São Paulo                 Bahia   \n",
       "1                Bahia     Atlético Mineiro              Botafogo   \n",
       "2  Red Bull Bragantino  Atlético Goianiense                Grêmio   \n",
       "3  Atlético Goianiense          Corinthians  Athlético Paranaense   \n",
       "4        Vasco da Gama               Santos   Atlético Goianiense   \n",
       "\n",
       "       Rodada 13      Rodada 14            Rodada 15    Rodada 16  \\\n",
       "0       Flamengo          Ceará        Internacional  Corinthians   \n",
       "1      Fortaleza      São Paulo  Red Bull Bragantino       Santos   \n",
       "2  Vasco da Gama      Fortaleza                Goiás   Fluminense   \n",
       "3          Sport  Vasco da Gama           Fluminense        Goiás   \n",
       "4     Fluminense      Palmeiras                Sport       Grêmio   \n",
       "\n",
       "              Rodada 17  Rodada 18  Rodada 19  \n",
       "0   Atlético Goianiense     Grêmio      Sport  \n",
       "1  Athlético Paranaense  Palmeiras   Coritiba  \n",
       "2                 Bahia      Sport  Palmeiras  \n",
       "3      Atlético Mineiro  Fortaleza     Santos  \n",
       "4                 Goiás  São Paulo      Ceará  "
      ]
     },
     "execution_count": 12,
     "metadata": {},
     "output_type": "execute_result"
    }
   ],
   "source": [
    "enfrentamentos_20=pd.read_csv('enfrentamentos.csv')\n",
    "enfrentamentos_20.head()"
   ]
  },
  {
   "cell_type": "markdown",
   "metadata": {
    "id": "-NW8yF_KdmvS"
   },
   "source": [
    "#### 2.2.2 Mando de campo"
   ]
  },
  {
   "cell_type": "code",
   "execution_count": 13,
   "metadata": {
    "colab": {
     "base_uri": "https://localhost:8080/",
     "height": 255
    },
    "id": "c2tV8zA0dmvS",
    "outputId": "e4660d2c-062a-4b29-94c5-60fd44dd0375"
   },
   "outputs": [
    {
     "data": {
      "text/html": [
       "<div>\n",
       "<style scoped>\n",
       "    .dataframe tbody tr th:only-of-type {\n",
       "        vertical-align: middle;\n",
       "    }\n",
       "\n",
       "    .dataframe tbody tr th {\n",
       "        vertical-align: top;\n",
       "    }\n",
       "\n",
       "    .dataframe thead th {\n",
       "        text-align: right;\n",
       "    }\n",
       "</style>\n",
       "<table border=\"1\" class=\"dataframe\">\n",
       "  <thead>\n",
       "    <tr style=\"text-align: right;\">\n",
       "      <th></th>\n",
       "      <th>Time</th>\n",
       "      <th>Rodada 1</th>\n",
       "      <th>Rodada 2</th>\n",
       "      <th>Rodada 3</th>\n",
       "      <th>Rodada 4</th>\n",
       "      <th>Rodada 5</th>\n",
       "      <th>Rodada 6</th>\n",
       "      <th>Rodada 7</th>\n",
       "      <th>Rodada 8</th>\n",
       "      <th>Rodada 9</th>\n",
       "      <th>Rodada 10</th>\n",
       "      <th>Rodada 11</th>\n",
       "      <th>Rodada 12</th>\n",
       "      <th>Rodada 13</th>\n",
       "      <th>Rodada 14</th>\n",
       "      <th>Rodada 15</th>\n",
       "      <th>Rodada 16</th>\n",
       "      <th>Rodada 17</th>\n",
       "      <th>Rodada 18</th>\n",
       "      <th>Rodada 19</th>\n",
       "    </tr>\n",
       "  </thead>\n",
       "  <tbody>\n",
       "    <tr>\n",
       "      <th>0</th>\n",
       "      <td>Athlético Paranaense</td>\n",
       "      <td>f</td>\n",
       "      <td>c</td>\n",
       "      <td>f</td>\n",
       "      <td>c</td>\n",
       "      <td>c</td>\n",
       "      <td>f</td>\n",
       "      <td>c</td>\n",
       "      <td>f</td>\n",
       "      <td>c</td>\n",
       "      <td>c</td>\n",
       "      <td>f</td>\n",
       "      <td>c</td>\n",
       "      <td>f</td>\n",
       "      <td>c</td>\n",
       "      <td>f</td>\n",
       "      <td>c</td>\n",
       "      <td>f</td>\n",
       "      <td>c</td>\n",
       "      <td>f</td>\n",
       "    </tr>\n",
       "    <tr>\n",
       "      <th>1</th>\n",
       "      <td>Atlético Goianiense</td>\n",
       "      <td>f</td>\n",
       "      <td>c</td>\n",
       "      <td>c</td>\n",
       "      <td>f</td>\n",
       "      <td>f</td>\n",
       "      <td>c</td>\n",
       "      <td>f</td>\n",
       "      <td>c</td>\n",
       "      <td>f</td>\n",
       "      <td>f</td>\n",
       "      <td>c</td>\n",
       "      <td>c</td>\n",
       "      <td>f</td>\n",
       "      <td>f</td>\n",
       "      <td>c</td>\n",
       "      <td>f</td>\n",
       "      <td>c</td>\n",
       "      <td>c</td>\n",
       "      <td>f</td>\n",
       "    </tr>\n",
       "    <tr>\n",
       "      <th>2</th>\n",
       "      <td>Atlético Mineiro</td>\n",
       "      <td>f</td>\n",
       "      <td>c</td>\n",
       "      <td>c</td>\n",
       "      <td>f</td>\n",
       "      <td>f</td>\n",
       "      <td>c</td>\n",
       "      <td>c</td>\n",
       "      <td>f</td>\n",
       "      <td>f</td>\n",
       "      <td>c</td>\n",
       "      <td>f</td>\n",
       "      <td>c</td>\n",
       "      <td>c</td>\n",
       "      <td>f</td>\n",
       "      <td>c</td>\n",
       "      <td>c</td>\n",
       "      <td>f</td>\n",
       "      <td>c</td>\n",
       "      <td>f</td>\n",
       "    </tr>\n",
       "    <tr>\n",
       "      <th>3</th>\n",
       "      <td>Bahia</td>\n",
       "      <td>f</td>\n",
       "      <td>c</td>\n",
       "      <td>c</td>\n",
       "      <td>f</td>\n",
       "      <td>f</td>\n",
       "      <td>c</td>\n",
       "      <td>c</td>\n",
       "      <td>f</td>\n",
       "      <td>c</td>\n",
       "      <td>c</td>\n",
       "      <td>f</td>\n",
       "      <td>f</td>\n",
       "      <td>c</td>\n",
       "      <td>c</td>\n",
       "      <td>f</td>\n",
       "      <td>f</td>\n",
       "      <td>c</td>\n",
       "      <td>c</td>\n",
       "      <td>f</td>\n",
       "    </tr>\n",
       "    <tr>\n",
       "      <th>4</th>\n",
       "      <td>Botafogo</td>\n",
       "      <td>c</td>\n",
       "      <td>f</td>\n",
       "      <td>f</td>\n",
       "      <td>c</td>\n",
       "      <td>f</td>\n",
       "      <td>c</td>\n",
       "      <td>c</td>\n",
       "      <td>f</td>\n",
       "      <td>f</td>\n",
       "      <td>c</td>\n",
       "      <td>c</td>\n",
       "      <td>f</td>\n",
       "      <td>c</td>\n",
       "      <td>c</td>\n",
       "      <td>f</td>\n",
       "      <td>f</td>\n",
       "      <td>c</td>\n",
       "      <td>f</td>\n",
       "      <td>c</td>\n",
       "    </tr>\n",
       "  </tbody>\n",
       "</table>\n",
       "</div>"
      ],
      "text/plain": [
       "                   Time Rodada 1 Rodada 2 Rodada 3 Rodada 4 Rodada 5 Rodada 6  \\\n",
       "0  Athlético Paranaense        f        c        f        c        c        f   \n",
       "1   Atlético Goianiense        f        c        c        f        f        c   \n",
       "2      Atlético Mineiro        f        c        c        f        f        c   \n",
       "3                 Bahia        f        c        c        f        f        c   \n",
       "4              Botafogo        c        f        f        c        f        c   \n",
       "\n",
       "  Rodada 7 Rodada 8 Rodada 9 Rodada 10 Rodada 11 Rodada 12 Rodada 13  \\\n",
       "0        c        f        c         c         f         c         f   \n",
       "1        f        c        f         f         c         c         f   \n",
       "2        c        f        f         c         f         c         c   \n",
       "3        c        f        c         c         f         f         c   \n",
       "4        c        f        f         c         c         f         c   \n",
       "\n",
       "  Rodada 14 Rodada 15 Rodada 16 Rodada 17 Rodada 18 Rodada 19  \n",
       "0         c         f         c         f         c         f  \n",
       "1         f         c         f         c         c         f  \n",
       "2         f         c         c         f         c         f  \n",
       "3         c         f         f         c         c         f  \n",
       "4         c         f         f         c         f         c  "
      ]
     },
     "execution_count": 13,
     "metadata": {},
     "output_type": "execute_result"
    }
   ],
   "source": [
    "mando_20=pd.read_csv('mando.csv')\n",
    "mando_20.head()"
   ]
  },
  {
   "cell_type": "markdown",
   "metadata": {
    "id": "zTzcspsQdmvS"
   },
   "source": [
    "## 3. Metodologia"
   ]
  },
  {
   "cell_type": "markdown",
   "metadata": {
    "id": "gllatQn2dmvS"
   },
   "source": [
    "Esse problema é complexo, pois envolve muitas combinações possíveis. Para o Campeonato Brasileiro, o mais provável é que a tabela seja montada de maneira artesanal, respeitando apenas uma premissa:\n",
    "1. Nenhum time pode jogar mais do que duas partidas seguidas em casa ou fora.\n"
   ]
  },
  {
   "cell_type": "markdown",
   "metadata": {
    "id": "dA0m-c99dmvT"
   },
   "source": [
    "Para o nosso exercício, vamos trabalhar com uma versão *express* do Campeonato Brasileiro. O campeonato continua com as suas 38 rodadas, mas temos mais uma premissa em nosso modelo: são duas partidas por semana.\n",
    "\n",
    "2. O time não retorna para sua cidade após cada partida, indo diretamente para a sede da próxima partida.\n",
    "\n",
    "Isso só é relevante para a avaliação dos resultados do algoritmo genético, não influenciando na tabela de jogos."
   ]
  },
  {
   "cell_type": "markdown",
   "metadata": {
    "id": "kbUX--WNdmvT"
   },
   "source": [
    "Temos 4 tabelas em nosso conjunto de dados:\n",
    "1. lista de times\n",
    "2. lista de confrontos\n",
    "3. lista de mandos de campo\n",
    "4. distância entre sedes\n",
    "\n",
    "A última tabela é apenas utilizada na função de avaliação. Vamos mexer nas três outras tabelas para podermos aplicar nosso algoritmo genético."
   ]
  },
  {
   "cell_type": "markdown",
   "metadata": {
    "id": "3GB_LEjKdmvU"
   },
   "source": [
    "Primeiramente, vamos generalizar as tabelas, substituindo os nomes dos times por uma posição da equipe. Por exemplo, Athlético Paranaense será subtituido por Time01, Atlético Goianiense como Time02, etc. Dessa forma, temos três novas tabelas genéricas."
   ]
  },
  {
   "cell_type": "code",
   "execution_count": 14,
   "metadata": {
    "id": "XgFaYwWpdmvW"
   },
   "outputs": [],
   "source": [
    "generico=['Time01','Time02','Time03','Time04','Time05','Time06','Time07','Time08','Time09','Time10','Time11','Time12','Time13','Time14','Time15','Time16','Time17','Time18','Time19','Time20']"
   ]
  },
  {
   "cell_type": "code",
   "execution_count": 15,
   "metadata": {
    "colab": {
     "base_uri": "https://localhost:8080/",
     "height": 218
    },
    "id": "eFNvmqR9dmvW",
    "outputId": "73f4af4e-7301-41ac-ce8c-8f0332ea1719"
   },
   "outputs": [
    {
     "data": {
      "text/html": [
       "<div>\n",
       "<style scoped>\n",
       "    .dataframe tbody tr th:only-of-type {\n",
       "        vertical-align: middle;\n",
       "    }\n",
       "\n",
       "    .dataframe tbody tr th {\n",
       "        vertical-align: top;\n",
       "    }\n",
       "\n",
       "    .dataframe thead th {\n",
       "        text-align: right;\n",
       "    }\n",
       "</style>\n",
       "<table border=\"1\" class=\"dataframe\">\n",
       "  <thead>\n",
       "    <tr style=\"text-align: right;\">\n",
       "      <th></th>\n",
       "    </tr>\n",
       "    <tr>\n",
       "      <th>Time</th>\n",
       "    </tr>\n",
       "  </thead>\n",
       "  <tbody>\n",
       "    <tr>\n",
       "      <th>Time01</th>\n",
       "    </tr>\n",
       "    <tr>\n",
       "      <th>Time02</th>\n",
       "    </tr>\n",
       "    <tr>\n",
       "      <th>Time03</th>\n",
       "    </tr>\n",
       "    <tr>\n",
       "      <th>Time04</th>\n",
       "    </tr>\n",
       "    <tr>\n",
       "      <th>Time05</th>\n",
       "    </tr>\n",
       "  </tbody>\n",
       "</table>\n",
       "</div>"
      ],
      "text/plain": [
       "Empty DataFrame\n",
       "Columns: []\n",
       "Index: [Time01, Time02, Time03, Time04, Time05]"
      ]
     },
     "execution_count": 15,
     "metadata": {},
     "output_type": "execute_result"
    }
   ],
   "source": [
    "lista=lista_times_20['Time'].tolist()\n",
    "lista_times = lista_times_20.replace(lista,generico)\n",
    "lista_times.drop(columns=['Cidade'],inplace=True)\n",
    "lista_times = lista_times.set_index('Time')\n",
    "lista_times.head()"
   ]
  },
  {
   "cell_type": "code",
   "execution_count": 16,
   "metadata": {
    "colab": {
     "base_uri": "https://localhost:8080/",
     "height": 252
    },
    "id": "u1veNFHcdmvX",
    "outputId": "09453f13-379a-445a-d03f-04e3739eb8e8"
   },
   "outputs": [
    {
     "data": {
      "text/html": [
       "<div>\n",
       "<style scoped>\n",
       "    .dataframe tbody tr th:only-of-type {\n",
       "        vertical-align: middle;\n",
       "    }\n",
       "\n",
       "    .dataframe tbody tr th {\n",
       "        vertical-align: top;\n",
       "    }\n",
       "\n",
       "    .dataframe thead th {\n",
       "        text-align: right;\n",
       "    }\n",
       "</style>\n",
       "<table border=\"1\" class=\"dataframe\">\n",
       "  <thead>\n",
       "    <tr style=\"text-align: right;\">\n",
       "      <th></th>\n",
       "      <th>Rodada 1</th>\n",
       "      <th>Rodada 2</th>\n",
       "      <th>Rodada 3</th>\n",
       "      <th>Rodada 4</th>\n",
       "      <th>Rodada 5</th>\n",
       "      <th>Rodada 6</th>\n",
       "      <th>Rodada 7</th>\n",
       "      <th>Rodada 8</th>\n",
       "      <th>Rodada 9</th>\n",
       "      <th>Rodada 10</th>\n",
       "      <th>Rodada 11</th>\n",
       "      <th>Rodada 12</th>\n",
       "      <th>Rodada 13</th>\n",
       "      <th>Rodada 14</th>\n",
       "      <th>Rodada 15</th>\n",
       "      <th>Rodada 16</th>\n",
       "      <th>Rodada 17</th>\n",
       "      <th>Rodada 18</th>\n",
       "      <th>Rodada 19</th>\n",
       "    </tr>\n",
       "    <tr>\n",
       "      <th>Time</th>\n",
       "      <th></th>\n",
       "      <th></th>\n",
       "      <th></th>\n",
       "      <th></th>\n",
       "      <th></th>\n",
       "      <th></th>\n",
       "      <th></th>\n",
       "      <th></th>\n",
       "      <th></th>\n",
       "      <th></th>\n",
       "      <th></th>\n",
       "      <th></th>\n",
       "      <th></th>\n",
       "      <th></th>\n",
       "      <th></th>\n",
       "      <th></th>\n",
       "      <th></th>\n",
       "      <th></th>\n",
       "      <th></th>\n",
       "    </tr>\n",
       "  </thead>\n",
       "  <tbody>\n",
       "    <tr>\n",
       "      <th>Time01</th>\n",
       "      <td>Time11</td>\n",
       "      <td>Time12</td>\n",
       "      <td>Time17</td>\n",
       "      <td>Time15</td>\n",
       "      <td>Time10</td>\n",
       "      <td>Time03</td>\n",
       "      <td>Time16</td>\n",
       "      <td>Time20</td>\n",
       "      <td>Time05</td>\n",
       "      <td>Time08</td>\n",
       "      <td>Time18</td>\n",
       "      <td>Time04</td>\n",
       "      <td>Time09</td>\n",
       "      <td>Time06</td>\n",
       "      <td>Time14</td>\n",
       "      <td>Time07</td>\n",
       "      <td>Time02</td>\n",
       "      <td>Time13</td>\n",
       "      <td>Time19</td>\n",
       "    </tr>\n",
       "    <tr>\n",
       "      <th>Time02</th>\n",
       "      <td>Time07</td>\n",
       "      <td>Time09</td>\n",
       "      <td>Time19</td>\n",
       "      <td>Time14</td>\n",
       "      <td>Time12</td>\n",
       "      <td>Time06</td>\n",
       "      <td>Time10</td>\n",
       "      <td>Time13</td>\n",
       "      <td>Time20</td>\n",
       "      <td>Time04</td>\n",
       "      <td>Time03</td>\n",
       "      <td>Time05</td>\n",
       "      <td>Time11</td>\n",
       "      <td>Time18</td>\n",
       "      <td>Time16</td>\n",
       "      <td>Time17</td>\n",
       "      <td>Time01</td>\n",
       "      <td>Time15</td>\n",
       "      <td>Time08</td>\n",
       "    </tr>\n",
       "    <tr>\n",
       "      <th>Time03</th>\n",
       "      <td>Time09</td>\n",
       "      <td>Time07</td>\n",
       "      <td>Time06</td>\n",
       "      <td>Time05</td>\n",
       "      <td>Time14</td>\n",
       "      <td>Time01</td>\n",
       "      <td>Time18</td>\n",
       "      <td>Time08</td>\n",
       "      <td>Time17</td>\n",
       "      <td>Time16</td>\n",
       "      <td>Time02</td>\n",
       "      <td>Time13</td>\n",
       "      <td>Time20</td>\n",
       "      <td>Time11</td>\n",
       "      <td>Time12</td>\n",
       "      <td>Time10</td>\n",
       "      <td>Time04</td>\n",
       "      <td>Time19</td>\n",
       "      <td>Time15</td>\n",
       "    </tr>\n",
       "    <tr>\n",
       "      <th>Time04</th>\n",
       "      <td>Time05</td>\n",
       "      <td>Time08</td>\n",
       "      <td>Time16</td>\n",
       "      <td>Time18</td>\n",
       "      <td>Time06</td>\n",
       "      <td>Time15</td>\n",
       "      <td>Time09</td>\n",
       "      <td>Time14</td>\n",
       "      <td>Time13</td>\n",
       "      <td>Time02</td>\n",
       "      <td>Time07</td>\n",
       "      <td>Time01</td>\n",
       "      <td>Time19</td>\n",
       "      <td>Time20</td>\n",
       "      <td>Time10</td>\n",
       "      <td>Time12</td>\n",
       "      <td>Time03</td>\n",
       "      <td>Time11</td>\n",
       "      <td>Time17</td>\n",
       "    </tr>\n",
       "    <tr>\n",
       "      <th>Time05</th>\n",
       "      <td>Time04</td>\n",
       "      <td>Time16</td>\n",
       "      <td>Time11</td>\n",
       "      <td>Time03</td>\n",
       "      <td>Time09</td>\n",
       "      <td>Time14</td>\n",
       "      <td>Time08</td>\n",
       "      <td>Time07</td>\n",
       "      <td>Time01</td>\n",
       "      <td>Time20</td>\n",
       "      <td>Time17</td>\n",
       "      <td>Time02</td>\n",
       "      <td>Time10</td>\n",
       "      <td>Time15</td>\n",
       "      <td>Time19</td>\n",
       "      <td>Time13</td>\n",
       "      <td>Time12</td>\n",
       "      <td>Time18</td>\n",
       "      <td>Time06</td>\n",
       "    </tr>\n",
       "  </tbody>\n",
       "</table>\n",
       "</div>"
      ],
      "text/plain": [
       "       Rodada 1 Rodada 2 Rodada 3 Rodada 4 Rodada 5 Rodada 6 Rodada 7  \\\n",
       "Time                                                                    \n",
       "Time01   Time11   Time12   Time17   Time15   Time10   Time03   Time16   \n",
       "Time02   Time07   Time09   Time19   Time14   Time12   Time06   Time10   \n",
       "Time03   Time09   Time07   Time06   Time05   Time14   Time01   Time18   \n",
       "Time04   Time05   Time08   Time16   Time18   Time06   Time15   Time09   \n",
       "Time05   Time04   Time16   Time11   Time03   Time09   Time14   Time08   \n",
       "\n",
       "       Rodada 8 Rodada 9 Rodada 10 Rodada 11 Rodada 12 Rodada 13 Rodada 14  \\\n",
       "Time                                                                         \n",
       "Time01   Time20   Time05    Time08    Time18    Time04    Time09    Time06   \n",
       "Time02   Time13   Time20    Time04    Time03    Time05    Time11    Time18   \n",
       "Time03   Time08   Time17    Time16    Time02    Time13    Time20    Time11   \n",
       "Time04   Time14   Time13    Time02    Time07    Time01    Time19    Time20   \n",
       "Time05   Time07   Time01    Time20    Time17    Time02    Time10    Time15   \n",
       "\n",
       "       Rodada 15 Rodada 16 Rodada 17 Rodada 18 Rodada 19  \n",
       "Time                                                      \n",
       "Time01    Time14    Time07    Time02    Time13    Time19  \n",
       "Time02    Time16    Time17    Time01    Time15    Time08  \n",
       "Time03    Time12    Time10    Time04    Time19    Time15  \n",
       "Time04    Time10    Time12    Time03    Time11    Time17  \n",
       "Time05    Time19    Time13    Time12    Time18    Time06  "
      ]
     },
     "execution_count": 16,
     "metadata": {},
     "output_type": "execute_result"
    }
   ],
   "source": [
    "lista = enfrentamentos_20['Time'].tolist()\n",
    "enfrentamentos = enfrentamentos_20.replace(lista,generico)\n",
    "enfrentamentos = enfrentamentos.set_index('Time')\n",
    "enfrentamentos.head()"
   ]
  },
  {
   "cell_type": "code",
   "execution_count": 17,
   "metadata": {
    "colab": {
     "base_uri": "https://localhost:8080/",
     "height": 252
    },
    "id": "ZIkr4Ng9dmvY",
    "outputId": "1509fc38-1f79-400d-b7db-aeffe3a80811"
   },
   "outputs": [
    {
     "data": {
      "text/html": [
       "<div>\n",
       "<style scoped>\n",
       "    .dataframe tbody tr th:only-of-type {\n",
       "        vertical-align: middle;\n",
       "    }\n",
       "\n",
       "    .dataframe tbody tr th {\n",
       "        vertical-align: top;\n",
       "    }\n",
       "\n",
       "    .dataframe thead th {\n",
       "        text-align: right;\n",
       "    }\n",
       "</style>\n",
       "<table border=\"1\" class=\"dataframe\">\n",
       "  <thead>\n",
       "    <tr style=\"text-align: right;\">\n",
       "      <th></th>\n",
       "      <th>Rodada 1</th>\n",
       "      <th>Rodada 2</th>\n",
       "      <th>Rodada 3</th>\n",
       "      <th>Rodada 4</th>\n",
       "      <th>Rodada 5</th>\n",
       "      <th>Rodada 6</th>\n",
       "      <th>Rodada 7</th>\n",
       "      <th>Rodada 8</th>\n",
       "      <th>Rodada 9</th>\n",
       "      <th>Rodada 10</th>\n",
       "      <th>Rodada 11</th>\n",
       "      <th>Rodada 12</th>\n",
       "      <th>Rodada 13</th>\n",
       "      <th>Rodada 14</th>\n",
       "      <th>Rodada 15</th>\n",
       "      <th>Rodada 16</th>\n",
       "      <th>Rodada 17</th>\n",
       "      <th>Rodada 18</th>\n",
       "      <th>Rodada 19</th>\n",
       "    </tr>\n",
       "    <tr>\n",
       "      <th>Time</th>\n",
       "      <th></th>\n",
       "      <th></th>\n",
       "      <th></th>\n",
       "      <th></th>\n",
       "      <th></th>\n",
       "      <th></th>\n",
       "      <th></th>\n",
       "      <th></th>\n",
       "      <th></th>\n",
       "      <th></th>\n",
       "      <th></th>\n",
       "      <th></th>\n",
       "      <th></th>\n",
       "      <th></th>\n",
       "      <th></th>\n",
       "      <th></th>\n",
       "      <th></th>\n",
       "      <th></th>\n",
       "      <th></th>\n",
       "    </tr>\n",
       "  </thead>\n",
       "  <tbody>\n",
       "    <tr>\n",
       "      <th>Time01</th>\n",
       "      <td>1</td>\n",
       "      <td>0</td>\n",
       "      <td>1</td>\n",
       "      <td>0</td>\n",
       "      <td>0</td>\n",
       "      <td>1</td>\n",
       "      <td>0</td>\n",
       "      <td>1</td>\n",
       "      <td>0</td>\n",
       "      <td>0</td>\n",
       "      <td>1</td>\n",
       "      <td>0</td>\n",
       "      <td>1</td>\n",
       "      <td>0</td>\n",
       "      <td>1</td>\n",
       "      <td>0</td>\n",
       "      <td>1</td>\n",
       "      <td>0</td>\n",
       "      <td>1</td>\n",
       "    </tr>\n",
       "    <tr>\n",
       "      <th>Time02</th>\n",
       "      <td>1</td>\n",
       "      <td>0</td>\n",
       "      <td>0</td>\n",
       "      <td>1</td>\n",
       "      <td>1</td>\n",
       "      <td>0</td>\n",
       "      <td>1</td>\n",
       "      <td>0</td>\n",
       "      <td>1</td>\n",
       "      <td>1</td>\n",
       "      <td>0</td>\n",
       "      <td>0</td>\n",
       "      <td>1</td>\n",
       "      <td>1</td>\n",
       "      <td>0</td>\n",
       "      <td>1</td>\n",
       "      <td>0</td>\n",
       "      <td>0</td>\n",
       "      <td>1</td>\n",
       "    </tr>\n",
       "    <tr>\n",
       "      <th>Time03</th>\n",
       "      <td>1</td>\n",
       "      <td>0</td>\n",
       "      <td>0</td>\n",
       "      <td>1</td>\n",
       "      <td>1</td>\n",
       "      <td>0</td>\n",
       "      <td>0</td>\n",
       "      <td>1</td>\n",
       "      <td>1</td>\n",
       "      <td>0</td>\n",
       "      <td>1</td>\n",
       "      <td>0</td>\n",
       "      <td>0</td>\n",
       "      <td>1</td>\n",
       "      <td>0</td>\n",
       "      <td>0</td>\n",
       "      <td>1</td>\n",
       "      <td>0</td>\n",
       "      <td>1</td>\n",
       "    </tr>\n",
       "    <tr>\n",
       "      <th>Time04</th>\n",
       "      <td>1</td>\n",
       "      <td>0</td>\n",
       "      <td>0</td>\n",
       "      <td>1</td>\n",
       "      <td>1</td>\n",
       "      <td>0</td>\n",
       "      <td>0</td>\n",
       "      <td>1</td>\n",
       "      <td>0</td>\n",
       "      <td>0</td>\n",
       "      <td>1</td>\n",
       "      <td>1</td>\n",
       "      <td>0</td>\n",
       "      <td>0</td>\n",
       "      <td>1</td>\n",
       "      <td>1</td>\n",
       "      <td>0</td>\n",
       "      <td>0</td>\n",
       "      <td>1</td>\n",
       "    </tr>\n",
       "    <tr>\n",
       "      <th>Time05</th>\n",
       "      <td>0</td>\n",
       "      <td>1</td>\n",
       "      <td>1</td>\n",
       "      <td>0</td>\n",
       "      <td>1</td>\n",
       "      <td>0</td>\n",
       "      <td>0</td>\n",
       "      <td>1</td>\n",
       "      <td>1</td>\n",
       "      <td>0</td>\n",
       "      <td>0</td>\n",
       "      <td>1</td>\n",
       "      <td>0</td>\n",
       "      <td>0</td>\n",
       "      <td>1</td>\n",
       "      <td>1</td>\n",
       "      <td>0</td>\n",
       "      <td>1</td>\n",
       "      <td>0</td>\n",
       "    </tr>\n",
       "  </tbody>\n",
       "</table>\n",
       "</div>"
      ],
      "text/plain": [
       "        Rodada 1  Rodada 2  Rodada 3  Rodada 4  Rodada 5  Rodada 6  Rodada 7  \\\n",
       "Time                                                                           \n",
       "Time01         1         0         1         0         0         1         0   \n",
       "Time02         1         0         0         1         1         0         1   \n",
       "Time03         1         0         0         1         1         0         0   \n",
       "Time04         1         0         0         1         1         0         0   \n",
       "Time05         0         1         1         0         1         0         0   \n",
       "\n",
       "        Rodada 8  Rodada 9  Rodada 10  Rodada 11  Rodada 12  Rodada 13  \\\n",
       "Time                                                                     \n",
       "Time01         1         0          0          1          0          1   \n",
       "Time02         0         1          1          0          0          1   \n",
       "Time03         1         1          0          1          0          0   \n",
       "Time04         1         0          0          1          1          0   \n",
       "Time05         1         1          0          0          1          0   \n",
       "\n",
       "        Rodada 14  Rodada 15  Rodada 16  Rodada 17  Rodada 18  Rodada 19  \n",
       "Time                                                                      \n",
       "Time01          0          1          0          1          0          1  \n",
       "Time02          1          0          1          0          0          1  \n",
       "Time03          1          0          0          1          0          1  \n",
       "Time04          0          1          1          0          0          1  \n",
       "Time05          0          1          1          0          1          0  "
      ]
     },
     "execution_count": 17,
     "metadata": {},
     "output_type": "execute_result"
    }
   ],
   "source": [
    "lista =mando_20['Time'].tolist()\n",
    "mando = mando_20.replace(lista,generico)\n",
    "mando = mando.replace(['c','f'],[0,1])\n",
    "mando = mando.set_index('Time')\n",
    "mando.head()"
   ]
  },
  {
   "cell_type": "markdown",
   "metadata": {
    "id": "KJPVdVX0dmvY"
   },
   "source": [
    "De novo, esse problema é muito complexo. Precisaríamos trabalhar com as três tabelas ao mesmo tempo para chegar na solução ótima. Como não temos a menor ideia de como fazer isso, vamos atacar o problema em três frentes."
   ]
  },
  {
   "cell_type": "markdown",
   "metadata": {
    "id": "6JhcG7TzdmvZ"
   },
   "source": [
    "### 3.1. Lista de times"
   ]
  },
  {
   "cell_type": "markdown",
   "metadata": {
    "id": "QR_JsoUrdmvZ"
   },
   "source": [
    "Vamos tentar otimizar a ordem dos times, mantendo as duas outras tabelas fixas. Ou seja, a questão é definir qual equipe é o Time01, qual é o Time02, até o Time20. "
   ]
  },
  {
   "cell_type": "code",
   "execution_count": 18,
   "metadata": {
    "colab": {
     "base_uri": "https://localhost:8080/"
    },
    "id": "XPPZ9OUzdmvZ",
    "outputId": "e4ddabd4-9c64-42a6-92e0-dd02ad073d7d"
   },
   "outputs": [
    {
     "name": "stdout",
     "output_type": "stream",
     "text": [
      "Existem 2432902008176640000 possibilidades para esse arranjo de times.\n"
     ]
    }
   ],
   "source": [
    "print('Existem',math.factorial(20),'possibilidades para esse arranjo de times.')"
   ]
  },
  {
   "cell_type": "markdown",
   "metadata": {
    "id": "FfEy25OldmvZ"
   },
   "source": [
    "Obviamente esse é um problema que teria um alto custo computacional caso fosse necessário varrer todas as possibilidades."
   ]
  },
  {
   "cell_type": "markdown",
   "metadata": {
    "id": "u7L7LlW0dmva"
   },
   "source": [
    "Em nosso algoritmo genético, o nosso gene é um vetor com números de 0 a 19, correlacionando a lista de equipes participantes com as etiquetas Time01, Time02,..., Time20. A mutação proposta em cada geração é a mudança de posição entre duas equipes."
   ]
  },
  {
   "cell_type": "markdown",
   "metadata": {
    "id": "tVywj8yddmva"
   },
   "source": [
    "### 3.2. Mandos de campo"
   ]
  },
  {
   "cell_type": "markdown",
   "metadata": {
    "id": "KOCvnxHDdmva"
   },
   "source": [
    "Vamos tentar otimizar os mandos de campo, mantendo as duas outras tabelas fixas. Ou seja, a questão é definir a sequência de jogos em casa ou fora para cada equipe, mas devemos respeitar a premissa de não ter mais de duas partidas em casa ou fora em sequência."
   ]
  },
  {
   "cell_type": "markdown",
   "metadata": {
    "id": "2XZpdYIMdmva"
   },
   "source": [
    "Em nosso algoritmo genético, o nosso gene é a matriz 20x19, onde cada linha é um time e cada coluna é uma rodada.  A mutação proposta em cada geração é a escolha aleatória de uma partida na tabela de enfrentamentos e a inversão do mando de campo na outra tabela. Ela deve respeitar a premissa, ou seja, uma mutação só será aceita se não criar um caso onde haja 3 partidas seguidas em casa ou fora para os dois times envolvidos."
   ]
  },
  {
   "cell_type": "markdown",
   "metadata": {
    "id": "neobT_HOdmvb"
   },
   "source": [
    "### 3.3. Ordem de enfrentamentos"
   ]
  },
  {
   "cell_type": "markdown",
   "metadata": {
    "id": "5j7vL9fZdmvb"
   },
   "source": [
    "Vamos tentar otimizar a ordem das rodadas, mantendo as duas outras tabelas fixas. Ou seja, a questão é definir a sequência de times que cada um vai enfrentar. De novo, precisamos respeitar a premissa de não ter mais de duas partidas em casa ou fora em sequência."
   ]
  },
  {
   "cell_type": "markdown",
   "metadata": {
    "id": "dx4f1U3Rdmvb"
   },
   "source": [
    "Em nosso algoritmo genético, o nosso gene é um vetor com números de 0 a 18. A mutação proposta em cada geração é a mudança de posição entre duas rodadas. Ela deve respeitar a premissa, ou seja, uma mutação só será aceita se não criar um caso onde haja 3 partidas seguidas em casa ou fora para os dois times envolvidos."
   ]
  },
  {
   "cell_type": "markdown",
   "metadata": {
    "id": "NTnL6FUAdmvb"
   },
   "source": [
    "## 4. Atualização para 2021"
   ]
  },
  {
   "cell_type": "markdown",
   "metadata": {
    "id": "Rs6NSdlmdmvc"
   },
   "source": [
    "Vamos carregar a lista de participantes para o Campeonato de 2021, com as cidades de cada equipe. "
   ]
  },
  {
   "cell_type": "code",
   "execution_count": 19,
   "metadata": {
    "colab": {
     "base_uri": "https://localhost:8080/",
     "height": 204
    },
    "id": "YpYbF4A4dmvc",
    "outputId": "33a3d9be-9120-45ab-f21d-107a1c65541f"
   },
   "outputs": [
    {
     "data": {
      "text/html": [
       "<div>\n",
       "<style scoped>\n",
       "    .dataframe tbody tr th:only-of-type {\n",
       "        vertical-align: middle;\n",
       "    }\n",
       "\n",
       "    .dataframe tbody tr th {\n",
       "        vertical-align: top;\n",
       "    }\n",
       "\n",
       "    .dataframe thead th {\n",
       "        text-align: right;\n",
       "    }\n",
       "</style>\n",
       "<table border=\"1\" class=\"dataframe\">\n",
       "  <thead>\n",
       "    <tr style=\"text-align: right;\">\n",
       "      <th></th>\n",
       "      <th>Time</th>\n",
       "      <th>Cidade</th>\n",
       "    </tr>\n",
       "  </thead>\n",
       "  <tbody>\n",
       "    <tr>\n",
       "      <th>0</th>\n",
       "      <td>América</td>\n",
       "      <td>Belo Horizonte</td>\n",
       "    </tr>\n",
       "    <tr>\n",
       "      <th>1</th>\n",
       "      <td>Athlético Paranaense</td>\n",
       "      <td>Curitiba</td>\n",
       "    </tr>\n",
       "    <tr>\n",
       "      <th>2</th>\n",
       "      <td>Atlético Goianiense</td>\n",
       "      <td>Goiânia</td>\n",
       "    </tr>\n",
       "    <tr>\n",
       "      <th>3</th>\n",
       "      <td>Atlético Mineiro</td>\n",
       "      <td>Belo Horizonte</td>\n",
       "    </tr>\n",
       "    <tr>\n",
       "      <th>4</th>\n",
       "      <td>Bahia</td>\n",
       "      <td>Salvador</td>\n",
       "    </tr>\n",
       "  </tbody>\n",
       "</table>\n",
       "</div>"
      ],
      "text/plain": [
       "                   Time          Cidade\n",
       "0               América  Belo Horizonte\n",
       "1  Athlético Paranaense        Curitiba\n",
       "2   Atlético Goianiense         Goiânia\n",
       "3      Atlético Mineiro  Belo Horizonte\n",
       "4                 Bahia        Salvador"
      ]
     },
     "execution_count": 19,
     "metadata": {},
     "output_type": "execute_result"
    }
   ],
   "source": [
    "lista_times_21=pd.read_csv('times_21.csv')\n",
    "lista_times_21.head()"
   ]
  },
  {
   "cell_type": "markdown",
   "metadata": {
    "id": "8G41eIoedmvc"
   },
   "source": [
    "Vamos usar uma biblioteca que retorna as coordenadas (Latitude e Longitude) de cada cidade e vamos criar uma tabela com a distância entre as cidades. Cada linha é um dos times, assim como as colunas."
   ]
  },
  {
   "cell_type": "markdown",
   "metadata": {
    "id": "EaUZz-Jzdmvc"
   },
   "source": [
    "Importando as bibliotecas necessárias."
   ]
  },
  {
   "cell_type": "code",
   "execution_count": 20,
   "metadata": {
    "colab": {
     "base_uri": "https://localhost:8080/"
    },
    "id": "CDLXeLredmvd",
    "outputId": "2a2b9361-5cc2-4864-e300-9bf9d358aac9"
   },
   "outputs": [
    {
     "name": "stdout",
     "output_type": "stream",
     "text": [
      "Requirement already satisfied: geopy in /home/rodrigolink/anaconda3/lib/python3.8/site-packages (2.1.0)\n",
      "Requirement already satisfied: geographiclib<2,>=1.49 in /home/rodrigolink/anaconda3/lib/python3.8/site-packages (from geopy) (1.50)\n"
     ]
    }
   ],
   "source": [
    "!pip3 install geopy\n",
    "from geopy.geocoders import Nominatim\n",
    "import time\n",
    "app = Nominatim(user_agent=\"gabrasileirao\")"
   ]
  },
  {
   "cell_type": "markdown",
   "metadata": {
    "id": "hY1gMu5Wdmvd"
   },
   "source": [
    "Definindo a função que busca as coordenadas."
   ]
  },
  {
   "cell_type": "code",
   "execution_count": 21,
   "metadata": {
    "id": "a8chMgYNdmvd"
   },
   "outputs": [],
   "source": [
    "def get_location_by_address(address):\n",
    "    \"\"\"This function returns a location as raw from an address\n",
    "    will repeat until success\"\"\"\n",
    "    time.sleep(1)\n",
    "    try:\n",
    "        return app.geocode(address).raw\n",
    "    except:\n",
    "        return get_location_by_address(address)"
   ]
  },
  {
   "cell_type": "markdown",
   "metadata": {
    "id": "VVkJeI8_dmvd"
   },
   "source": [
    "Buscando as coordenadas para cada cidade na lista."
   ]
  },
  {
   "cell_type": "code",
   "execution_count": 22,
   "metadata": {
    "colab": {
     "base_uri": "https://localhost:8080/",
     "height": 544
    },
    "id": "1KY1DrE4dmve",
    "outputId": "e0a8ae3d-e192-457a-ef62-e0b29ff904df"
   },
   "outputs": [
    {
     "name": "stdout",
     "output_type": "stream",
     "text": [
      "0\n",
      "1\n",
      "2\n",
      "3\n",
      "4\n",
      "5\n",
      "6\n",
      "7\n",
      "8\n",
      "9\n",
      "10\n",
      "11\n",
      "12\n",
      "13\n",
      "14\n",
      "15\n",
      "16\n",
      "17\n",
      "18\n",
      "19\n"
     ]
    },
    {
     "data": {
      "text/html": [
       "<div>\n",
       "<style scoped>\n",
       "    .dataframe tbody tr th:only-of-type {\n",
       "        vertical-align: middle;\n",
       "    }\n",
       "\n",
       "    .dataframe tbody tr th {\n",
       "        vertical-align: top;\n",
       "    }\n",
       "\n",
       "    .dataframe thead th {\n",
       "        text-align: right;\n",
       "    }\n",
       "</style>\n",
       "<table border=\"1\" class=\"dataframe\">\n",
       "  <thead>\n",
       "    <tr style=\"text-align: right;\">\n",
       "      <th></th>\n",
       "      <th>Time</th>\n",
       "      <th>Cidade</th>\n",
       "      <th>Latitude</th>\n",
       "      <th>Longitude</th>\n",
       "    </tr>\n",
       "  </thead>\n",
       "  <tbody>\n",
       "    <tr>\n",
       "      <th>0</th>\n",
       "      <td>América</td>\n",
       "      <td>Belo Horizonte</td>\n",
       "      <td>-19.9227318</td>\n",
       "      <td>-43.9450948</td>\n",
       "    </tr>\n",
       "    <tr>\n",
       "      <th>1</th>\n",
       "      <td>Athlético Paranaense</td>\n",
       "      <td>Curitiba</td>\n",
       "      <td>-25.4295963</td>\n",
       "      <td>-49.2712724</td>\n",
       "    </tr>\n",
       "    <tr>\n",
       "      <th>2</th>\n",
       "      <td>Atlético Goianiense</td>\n",
       "      <td>Goiânia</td>\n",
       "      <td>-16.680882</td>\n",
       "      <td>-49.2532691</td>\n",
       "    </tr>\n",
       "    <tr>\n",
       "      <th>3</th>\n",
       "      <td>Atlético Mineiro</td>\n",
       "      <td>Belo Horizonte</td>\n",
       "      <td>-19.9227318</td>\n",
       "      <td>-43.9450948</td>\n",
       "    </tr>\n",
       "    <tr>\n",
       "      <th>4</th>\n",
       "      <td>Bahia</td>\n",
       "      <td>Salvador</td>\n",
       "      <td>-12.9822499</td>\n",
       "      <td>-38.4812772</td>\n",
       "    </tr>\n",
       "  </tbody>\n",
       "</table>\n",
       "</div>"
      ],
      "text/plain": [
       "                   Time          Cidade     Latitude    Longitude\n",
       "0               América  Belo Horizonte  -19.9227318  -43.9450948\n",
       "1  Athlético Paranaense        Curitiba  -25.4295963  -49.2712724\n",
       "2   Atlético Goianiense         Goiânia   -16.680882  -49.2532691\n",
       "3      Atlético Mineiro  Belo Horizonte  -19.9227318  -43.9450948\n",
       "4                 Bahia        Salvador  -12.9822499  -38.4812772"
      ]
     },
     "execution_count": 22,
     "metadata": {},
     "output_type": "execute_result"
    }
   ],
   "source": [
    "lista_times_21['Latitude']=0.\n",
    "lista_times_21['Longitude']=0.\n",
    "for ii in range(lista_times_21.shape[0]):\n",
    "    print(ii)\n",
    "    address = [lista_times_21.iloc[ii,1],'Brazil']\n",
    "    location = get_location_by_address(address)\n",
    "    lista_times_21.iloc[ii,-2] = location[\"lat\"]\n",
    "    lista_times_21.iloc[ii,-1] = location[\"lon\"]\n",
    "lista_times_21.head()"
   ]
  },
  {
   "cell_type": "code",
   "execution_count": 23,
   "metadata": {
    "id": "1XZC7SUvdmve"
   },
   "outputs": [],
   "source": [
    "lista_times_21['Latitude']=lista_times_21['Latitude'].astype(float)\n",
    "lista_times_21['Longitude']=lista_times_21['Longitude'].astype(float)"
   ]
  },
  {
   "cell_type": "markdown",
   "metadata": {
    "id": "TB6tBj4pdmve"
   },
   "source": [
    "Vamos conferir no mapa se está tudo correto."
   ]
  },
  {
   "cell_type": "code",
   "execution_count": 24,
   "metadata": {
    "colab": {
     "base_uri": "https://localhost:8080/"
    },
    "id": "ZKkGMbNYdmve",
    "outputId": "e21dec96-0a22-432f-dd04-0ebe511aea24"
   },
   "outputs": [
    {
     "name": "stdout",
     "output_type": "stream",
     "text": [
      "Requirement already satisfied: folium in /home/rodrigolink/anaconda3/lib/python3.8/site-packages (0.12.1)\n",
      "Requirement already satisfied: numpy in /home/rodrigolink/anaconda3/lib/python3.8/site-packages (from folium) (1.18.5)\n",
      "Requirement already satisfied: jinja2>=2.9 in /home/rodrigolink/anaconda3/lib/python3.8/site-packages (from folium) (2.11.2)\n",
      "Requirement already satisfied: requests in /home/rodrigolink/anaconda3/lib/python3.8/site-packages (from folium) (2.24.0)\n",
      "Requirement already satisfied: branca>=0.3.0 in /home/rodrigolink/anaconda3/lib/python3.8/site-packages (from folium) (0.4.2)\n",
      "Requirement already satisfied: MarkupSafe>=0.23 in /home/rodrigolink/anaconda3/lib/python3.8/site-packages (from jinja2>=2.9->folium) (1.1.1)\n",
      "Requirement already satisfied: chardet<4,>=3.0.2 in /home/rodrigolink/anaconda3/lib/python3.8/site-packages (from requests->folium) (3.0.4)\n",
      "Requirement already satisfied: idna<3,>=2.5 in /home/rodrigolink/anaconda3/lib/python3.8/site-packages (from requests->folium) (2.10)\n",
      "Requirement already satisfied: certifi>=2017.4.17 in /home/rodrigolink/anaconda3/lib/python3.8/site-packages (from requests->folium) (2020.6.20)\n",
      "Requirement already satisfied: urllib3!=1.25.0,!=1.25.1,<1.26,>=1.21.1 in /home/rodrigolink/anaconda3/lib/python3.8/site-packages (from requests->folium) (1.25.9)\n"
     ]
    }
   ],
   "source": [
    "!pip install folium\n",
    "import folium # map rendering library"
   ]
  },
  {
   "cell_type": "code",
   "execution_count": 25,
   "metadata": {
    "colab": {
     "base_uri": "https://localhost:8080/",
     "height": 915
    },
    "id": "iKkWRk7idmvf",
    "outputId": "81ae2a86-4d40-46bc-a1c6-3d84461e77e9"
   },
   "outputs": [
    {
     "data": {
      "text/html": [
       "<div style=\"width:100%;\"><div style=\"position:relative;width:100%;height:0;padding-bottom:60%;\"><span style=\"color:#565656\">Make this Notebook Trusted to load map: File -> Trust Notebook</span><iframe src=\"about:blank\" style=\"position:absolute;width:100%;height:100%;left:0;top:0;border:none !important;\" data-html=%3C%21DOCTYPE%20html%3E%0A%3Chead%3E%20%20%20%20%0A%20%20%20%20%3Cmeta%20http-equiv%3D%22content-type%22%20content%3D%22text/html%3B%20charset%3DUTF-8%22%20/%3E%0A%20%20%20%20%0A%20%20%20%20%20%20%20%20%3Cscript%3E%0A%20%20%20%20%20%20%20%20%20%20%20%20L_NO_TOUCH%20%3D%20false%3B%0A%20%20%20%20%20%20%20%20%20%20%20%20L_DISABLE_3D%20%3D%20false%3B%0A%20%20%20%20%20%20%20%20%3C/script%3E%0A%20%20%20%20%0A%20%20%20%20%3Cstyle%3Ehtml%2C%20body%20%7Bwidth%3A%20100%25%3Bheight%3A%20100%25%3Bmargin%3A%200%3Bpadding%3A%200%3B%7D%3C/style%3E%0A%20%20%20%20%3Cstyle%3E%23map%20%7Bposition%3Aabsolute%3Btop%3A0%3Bbottom%3A0%3Bright%3A0%3Bleft%3A0%3B%7D%3C/style%3E%0A%20%20%20%20%3Cscript%20src%3D%22https%3A//cdn.jsdelivr.net/npm/leaflet%401.6.0/dist/leaflet.js%22%3E%3C/script%3E%0A%20%20%20%20%3Cscript%20src%3D%22https%3A//code.jquery.com/jquery-1.12.4.min.js%22%3E%3C/script%3E%0A%20%20%20%20%3Cscript%20src%3D%22https%3A//maxcdn.bootstrapcdn.com/bootstrap/3.2.0/js/bootstrap.min.js%22%3E%3C/script%3E%0A%20%20%20%20%3Cscript%20src%3D%22https%3A//cdnjs.cloudflare.com/ajax/libs/Leaflet.awesome-markers/2.0.2/leaflet.awesome-markers.js%22%3E%3C/script%3E%0A%20%20%20%20%3Clink%20rel%3D%22stylesheet%22%20href%3D%22https%3A//cdn.jsdelivr.net/npm/leaflet%401.6.0/dist/leaflet.css%22/%3E%0A%20%20%20%20%3Clink%20rel%3D%22stylesheet%22%20href%3D%22https%3A//maxcdn.bootstrapcdn.com/bootstrap/3.2.0/css/bootstrap.min.css%22/%3E%0A%20%20%20%20%3Clink%20rel%3D%22stylesheet%22%20href%3D%22https%3A//maxcdn.bootstrapcdn.com/bootstrap/3.2.0/css/bootstrap-theme.min.css%22/%3E%0A%20%20%20%20%3Clink%20rel%3D%22stylesheet%22%20href%3D%22https%3A//maxcdn.bootstrapcdn.com/font-awesome/4.6.3/css/font-awesome.min.css%22/%3E%0A%20%20%20%20%3Clink%20rel%3D%22stylesheet%22%20href%3D%22https%3A//cdnjs.cloudflare.com/ajax/libs/Leaflet.awesome-markers/2.0.2/leaflet.awesome-markers.css%22/%3E%0A%20%20%20%20%3Clink%20rel%3D%22stylesheet%22%20href%3D%22https%3A//cdn.jsdelivr.net/gh/python-visualization/folium/folium/templates/leaflet.awesome.rotate.min.css%22/%3E%0A%20%20%20%20%0A%20%20%20%20%20%20%20%20%20%20%20%20%3Cmeta%20name%3D%22viewport%22%20content%3D%22width%3Ddevice-width%2C%0A%20%20%20%20%20%20%20%20%20%20%20%20%20%20%20%20initial-scale%3D1.0%2C%20maximum-scale%3D1.0%2C%20user-scalable%3Dno%22%20/%3E%0A%20%20%20%20%20%20%20%20%20%20%20%20%3Cstyle%3E%0A%20%20%20%20%20%20%20%20%20%20%20%20%20%20%20%20%23map_4bbc430962344e2eb516552d83bf385c%20%7B%0A%20%20%20%20%20%20%20%20%20%20%20%20%20%20%20%20%20%20%20%20position%3A%20relative%3B%0A%20%20%20%20%20%20%20%20%20%20%20%20%20%20%20%20%20%20%20%20width%3A%20100.0%25%3B%0A%20%20%20%20%20%20%20%20%20%20%20%20%20%20%20%20%20%20%20%20height%3A%20100.0%25%3B%0A%20%20%20%20%20%20%20%20%20%20%20%20%20%20%20%20%20%20%20%20left%3A%200.0%25%3B%0A%20%20%20%20%20%20%20%20%20%20%20%20%20%20%20%20%20%20%20%20top%3A%200.0%25%3B%0A%20%20%20%20%20%20%20%20%20%20%20%20%20%20%20%20%7D%0A%20%20%20%20%20%20%20%20%20%20%20%20%3C/style%3E%0A%20%20%20%20%20%20%20%20%0A%3C/head%3E%0A%3Cbody%3E%20%20%20%20%0A%20%20%20%20%0A%20%20%20%20%20%20%20%20%20%20%20%20%3Cdiv%20class%3D%22folium-map%22%20id%3D%22map_4bbc430962344e2eb516552d83bf385c%22%20%3E%3C/div%3E%0A%20%20%20%20%20%20%20%20%0A%3C/body%3E%0A%3Cscript%3E%20%20%20%20%0A%20%20%20%20%0A%20%20%20%20%20%20%20%20%20%20%20%20var%20map_4bbc430962344e2eb516552d83bf385c%20%3D%20L.map%28%0A%20%20%20%20%20%20%20%20%20%20%20%20%20%20%20%20%22map_4bbc430962344e2eb516552d83bf385c%22%2C%0A%20%20%20%20%20%20%20%20%20%20%20%20%20%20%20%20%7B%0A%20%20%20%20%20%20%20%20%20%20%20%20%20%20%20%20%20%20%20%20center%3A%20%5B-10.3333333%2C%20-53.2%5D%2C%0A%20%20%20%20%20%20%20%20%20%20%20%20%20%20%20%20%20%20%20%20crs%3A%20L.CRS.EPSG3857%2C%0A%20%20%20%20%20%20%20%20%20%20%20%20%20%20%20%20%20%20%20%20zoom%3A%204%2C%0A%20%20%20%20%20%20%20%20%20%20%20%20%20%20%20%20%20%20%20%20zoomControl%3A%20true%2C%0A%20%20%20%20%20%20%20%20%20%20%20%20%20%20%20%20%20%20%20%20preferCanvas%3A%20false%2C%0A%20%20%20%20%20%20%20%20%20%20%20%20%20%20%20%20%7D%0A%20%20%20%20%20%20%20%20%20%20%20%20%29%3B%0A%0A%20%20%20%20%20%20%20%20%20%20%20%20%0A%0A%20%20%20%20%20%20%20%20%0A%20%20%20%20%0A%20%20%20%20%20%20%20%20%20%20%20%20var%20tile_layer_1022218e24844c4c8840fdab362e7f5a%20%3D%20L.tileLayer%28%0A%20%20%20%20%20%20%20%20%20%20%20%20%20%20%20%20%22https%3A//%7Bs%7D.tile.openstreetmap.org/%7Bz%7D/%7Bx%7D/%7By%7D.png%22%2C%0A%20%20%20%20%20%20%20%20%20%20%20%20%20%20%20%20%7B%22attribution%22%3A%20%22Data%20by%20%5Cu0026copy%3B%20%5Cu003ca%20href%3D%5C%22http%3A//openstreetmap.org%5C%22%5Cu003eOpenStreetMap%5Cu003c/a%5Cu003e%2C%20under%20%5Cu003ca%20href%3D%5C%22http%3A//www.openstreetmap.org/copyright%5C%22%5Cu003eODbL%5Cu003c/a%5Cu003e.%22%2C%20%22detectRetina%22%3A%20false%2C%20%22maxNativeZoom%22%3A%2018%2C%20%22maxZoom%22%3A%2018%2C%20%22minZoom%22%3A%200%2C%20%22noWrap%22%3A%20false%2C%20%22opacity%22%3A%201%2C%20%22subdomains%22%3A%20%22abc%22%2C%20%22tms%22%3A%20false%7D%0A%20%20%20%20%20%20%20%20%20%20%20%20%29.addTo%28map_4bbc430962344e2eb516552d83bf385c%29%3B%0A%20%20%20%20%20%20%20%20%0A%20%20%20%20%0A%20%20%20%20%20%20%20%20%20%20%20%20var%20circle_marker_e32e48e82fb14012b59581228361d107%20%3D%20L.circleMarker%28%0A%20%20%20%20%20%20%20%20%20%20%20%20%20%20%20%20%5B-19.9227318%2C%20-43.9450948%5D%2C%0A%20%20%20%20%20%20%20%20%20%20%20%20%20%20%20%20%7B%22bubblingMouseEvents%22%3A%20true%2C%20%22color%22%3A%20%22blue%22%2C%20%22dashArray%22%3A%20null%2C%20%22dashOffset%22%3A%20null%2C%20%22fill%22%3A%20true%2C%20%22fillColor%22%3A%20%22%233186cc%22%2C%20%22fillOpacity%22%3A%200.7%2C%20%22fillRule%22%3A%20%22evenodd%22%2C%20%22lineCap%22%3A%20%22round%22%2C%20%22lineJoin%22%3A%20%22round%22%2C%20%22opacity%22%3A%201.0%2C%20%22radius%22%3A%205%2C%20%22stroke%22%3A%20true%2C%20%22weight%22%3A%203%7D%0A%20%20%20%20%20%20%20%20%20%20%20%20%29.addTo%28map_4bbc430962344e2eb516552d83bf385c%29%3B%0A%20%20%20%20%20%20%20%20%0A%20%20%20%20%0A%20%20%20%20%20%20%20%20var%20popup_8b0b852abde8473ba1690cc29f5e8bf3%20%3D%20L.popup%28%7B%22maxWidth%22%3A%20%22100%25%22%7D%29%3B%0A%0A%20%20%20%20%20%20%20%20%0A%20%20%20%20%20%20%20%20%20%20%20%20var%20html_ab8d57dc070a42c0b1722e41326b4921%20%3D%20%24%28%60%3Cdiv%20id%3D%22html_ab8d57dc070a42c0b1722e41326b4921%22%20style%3D%22width%3A%20100.0%25%3B%20height%3A%20100.0%25%3B%22%3EAm%C3%A9rica%3C/div%3E%60%29%5B0%5D%3B%0A%20%20%20%20%20%20%20%20%20%20%20%20popup_8b0b852abde8473ba1690cc29f5e8bf3.setContent%28html_ab8d57dc070a42c0b1722e41326b4921%29%3B%0A%20%20%20%20%20%20%20%20%0A%0A%20%20%20%20%20%20%20%20circle_marker_e32e48e82fb14012b59581228361d107.bindPopup%28popup_8b0b852abde8473ba1690cc29f5e8bf3%29%0A%20%20%20%20%20%20%20%20%3B%0A%0A%20%20%20%20%20%20%20%20%0A%20%20%20%20%0A%20%20%20%20%0A%20%20%20%20%20%20%20%20%20%20%20%20var%20circle_marker_190521daffb2495588ad2aafdf825dd9%20%3D%20L.circleMarker%28%0A%20%20%20%20%20%20%20%20%20%20%20%20%20%20%20%20%5B-25.4295963%2C%20-49.2712724%5D%2C%0A%20%20%20%20%20%20%20%20%20%20%20%20%20%20%20%20%7B%22bubblingMouseEvents%22%3A%20true%2C%20%22color%22%3A%20%22blue%22%2C%20%22dashArray%22%3A%20null%2C%20%22dashOffset%22%3A%20null%2C%20%22fill%22%3A%20true%2C%20%22fillColor%22%3A%20%22%233186cc%22%2C%20%22fillOpacity%22%3A%200.7%2C%20%22fillRule%22%3A%20%22evenodd%22%2C%20%22lineCap%22%3A%20%22round%22%2C%20%22lineJoin%22%3A%20%22round%22%2C%20%22opacity%22%3A%201.0%2C%20%22radius%22%3A%205%2C%20%22stroke%22%3A%20true%2C%20%22weight%22%3A%203%7D%0A%20%20%20%20%20%20%20%20%20%20%20%20%29.addTo%28map_4bbc430962344e2eb516552d83bf385c%29%3B%0A%20%20%20%20%20%20%20%20%0A%20%20%20%20%0A%20%20%20%20%20%20%20%20var%20popup_e0a0298f4e544f348772dab0a1e81383%20%3D%20L.popup%28%7B%22maxWidth%22%3A%20%22100%25%22%7D%29%3B%0A%0A%20%20%20%20%20%20%20%20%0A%20%20%20%20%20%20%20%20%20%20%20%20var%20html_a9c6d3014fc04da3a2038964729a4c7e%20%3D%20%24%28%60%3Cdiv%20id%3D%22html_a9c6d3014fc04da3a2038964729a4c7e%22%20style%3D%22width%3A%20100.0%25%3B%20height%3A%20100.0%25%3B%22%3EAthl%C3%A9tico%20Paranaense%3C/div%3E%60%29%5B0%5D%3B%0A%20%20%20%20%20%20%20%20%20%20%20%20popup_e0a0298f4e544f348772dab0a1e81383.setContent%28html_a9c6d3014fc04da3a2038964729a4c7e%29%3B%0A%20%20%20%20%20%20%20%20%0A%0A%20%20%20%20%20%20%20%20circle_marker_190521daffb2495588ad2aafdf825dd9.bindPopup%28popup_e0a0298f4e544f348772dab0a1e81383%29%0A%20%20%20%20%20%20%20%20%3B%0A%0A%20%20%20%20%20%20%20%20%0A%20%20%20%20%0A%20%20%20%20%0A%20%20%20%20%20%20%20%20%20%20%20%20var%20circle_marker_3a0ebc8fc1464c91b3afc25a8ecd5e6a%20%3D%20L.circleMarker%28%0A%20%20%20%20%20%20%20%20%20%20%20%20%20%20%20%20%5B-16.680882%2C%20-49.2532691%5D%2C%0A%20%20%20%20%20%20%20%20%20%20%20%20%20%20%20%20%7B%22bubblingMouseEvents%22%3A%20true%2C%20%22color%22%3A%20%22blue%22%2C%20%22dashArray%22%3A%20null%2C%20%22dashOffset%22%3A%20null%2C%20%22fill%22%3A%20true%2C%20%22fillColor%22%3A%20%22%233186cc%22%2C%20%22fillOpacity%22%3A%200.7%2C%20%22fillRule%22%3A%20%22evenodd%22%2C%20%22lineCap%22%3A%20%22round%22%2C%20%22lineJoin%22%3A%20%22round%22%2C%20%22opacity%22%3A%201.0%2C%20%22radius%22%3A%205%2C%20%22stroke%22%3A%20true%2C%20%22weight%22%3A%203%7D%0A%20%20%20%20%20%20%20%20%20%20%20%20%29.addTo%28map_4bbc430962344e2eb516552d83bf385c%29%3B%0A%20%20%20%20%20%20%20%20%0A%20%20%20%20%0A%20%20%20%20%20%20%20%20var%20popup_5fd5c7823e5e4937b259f0e5bffc4a1d%20%3D%20L.popup%28%7B%22maxWidth%22%3A%20%22100%25%22%7D%29%3B%0A%0A%20%20%20%20%20%20%20%20%0A%20%20%20%20%20%20%20%20%20%20%20%20var%20html_7282e4b259b348a4b09378a05d173d20%20%3D%20%24%28%60%3Cdiv%20id%3D%22html_7282e4b259b348a4b09378a05d173d20%22%20style%3D%22width%3A%20100.0%25%3B%20height%3A%20100.0%25%3B%22%3EAtl%C3%A9tico%20Goianiense%3C/div%3E%60%29%5B0%5D%3B%0A%20%20%20%20%20%20%20%20%20%20%20%20popup_5fd5c7823e5e4937b259f0e5bffc4a1d.setContent%28html_7282e4b259b348a4b09378a05d173d20%29%3B%0A%20%20%20%20%20%20%20%20%0A%0A%20%20%20%20%20%20%20%20circle_marker_3a0ebc8fc1464c91b3afc25a8ecd5e6a.bindPopup%28popup_5fd5c7823e5e4937b259f0e5bffc4a1d%29%0A%20%20%20%20%20%20%20%20%3B%0A%0A%20%20%20%20%20%20%20%20%0A%20%20%20%20%0A%20%20%20%20%0A%20%20%20%20%20%20%20%20%20%20%20%20var%20circle_marker_3b2c6ed5a9144a288010e74bf7dd61a6%20%3D%20L.circleMarker%28%0A%20%20%20%20%20%20%20%20%20%20%20%20%20%20%20%20%5B-19.9227318%2C%20-43.9450948%5D%2C%0A%20%20%20%20%20%20%20%20%20%20%20%20%20%20%20%20%7B%22bubblingMouseEvents%22%3A%20true%2C%20%22color%22%3A%20%22blue%22%2C%20%22dashArray%22%3A%20null%2C%20%22dashOffset%22%3A%20null%2C%20%22fill%22%3A%20true%2C%20%22fillColor%22%3A%20%22%233186cc%22%2C%20%22fillOpacity%22%3A%200.7%2C%20%22fillRule%22%3A%20%22evenodd%22%2C%20%22lineCap%22%3A%20%22round%22%2C%20%22lineJoin%22%3A%20%22round%22%2C%20%22opacity%22%3A%201.0%2C%20%22radius%22%3A%205%2C%20%22stroke%22%3A%20true%2C%20%22weight%22%3A%203%7D%0A%20%20%20%20%20%20%20%20%20%20%20%20%29.addTo%28map_4bbc430962344e2eb516552d83bf385c%29%3B%0A%20%20%20%20%20%20%20%20%0A%20%20%20%20%0A%20%20%20%20%20%20%20%20var%20popup_921be0ab72534aa2922a9f81be9061d7%20%3D%20L.popup%28%7B%22maxWidth%22%3A%20%22100%25%22%7D%29%3B%0A%0A%20%20%20%20%20%20%20%20%0A%20%20%20%20%20%20%20%20%20%20%20%20var%20html_50817e6201c5449a9dcc01664cb4da8a%20%3D%20%24%28%60%3Cdiv%20id%3D%22html_50817e6201c5449a9dcc01664cb4da8a%22%20style%3D%22width%3A%20100.0%25%3B%20height%3A%20100.0%25%3B%22%3EAtl%C3%A9tico%20Mineiro%3C/div%3E%60%29%5B0%5D%3B%0A%20%20%20%20%20%20%20%20%20%20%20%20popup_921be0ab72534aa2922a9f81be9061d7.setContent%28html_50817e6201c5449a9dcc01664cb4da8a%29%3B%0A%20%20%20%20%20%20%20%20%0A%0A%20%20%20%20%20%20%20%20circle_marker_3b2c6ed5a9144a288010e74bf7dd61a6.bindPopup%28popup_921be0ab72534aa2922a9f81be9061d7%29%0A%20%20%20%20%20%20%20%20%3B%0A%0A%20%20%20%20%20%20%20%20%0A%20%20%20%20%0A%20%20%20%20%0A%20%20%20%20%20%20%20%20%20%20%20%20var%20circle_marker_456f36bc88144fe8a860afa470eb96b8%20%3D%20L.circleMarker%28%0A%20%20%20%20%20%20%20%20%20%20%20%20%20%20%20%20%5B-12.9822499%2C%20-38.4812772%5D%2C%0A%20%20%20%20%20%20%20%20%20%20%20%20%20%20%20%20%7B%22bubblingMouseEvents%22%3A%20true%2C%20%22color%22%3A%20%22blue%22%2C%20%22dashArray%22%3A%20null%2C%20%22dashOffset%22%3A%20null%2C%20%22fill%22%3A%20true%2C%20%22fillColor%22%3A%20%22%233186cc%22%2C%20%22fillOpacity%22%3A%200.7%2C%20%22fillRule%22%3A%20%22evenodd%22%2C%20%22lineCap%22%3A%20%22round%22%2C%20%22lineJoin%22%3A%20%22round%22%2C%20%22opacity%22%3A%201.0%2C%20%22radius%22%3A%205%2C%20%22stroke%22%3A%20true%2C%20%22weight%22%3A%203%7D%0A%20%20%20%20%20%20%20%20%20%20%20%20%29.addTo%28map_4bbc430962344e2eb516552d83bf385c%29%3B%0A%20%20%20%20%20%20%20%20%0A%20%20%20%20%0A%20%20%20%20%20%20%20%20var%20popup_12ff08b4615e434ea26656dfb9423a38%20%3D%20L.popup%28%7B%22maxWidth%22%3A%20%22100%25%22%7D%29%3B%0A%0A%20%20%20%20%20%20%20%20%0A%20%20%20%20%20%20%20%20%20%20%20%20var%20html_d78c41819dcd47b89f0f14f684c480b2%20%3D%20%24%28%60%3Cdiv%20id%3D%22html_d78c41819dcd47b89f0f14f684c480b2%22%20style%3D%22width%3A%20100.0%25%3B%20height%3A%20100.0%25%3B%22%3EBahia%3C/div%3E%60%29%5B0%5D%3B%0A%20%20%20%20%20%20%20%20%20%20%20%20popup_12ff08b4615e434ea26656dfb9423a38.setContent%28html_d78c41819dcd47b89f0f14f684c480b2%29%3B%0A%20%20%20%20%20%20%20%20%0A%0A%20%20%20%20%20%20%20%20circle_marker_456f36bc88144fe8a860afa470eb96b8.bindPopup%28popup_12ff08b4615e434ea26656dfb9423a38%29%0A%20%20%20%20%20%20%20%20%3B%0A%0A%20%20%20%20%20%20%20%20%0A%20%20%20%20%0A%20%20%20%20%0A%20%20%20%20%20%20%20%20%20%20%20%20var%20circle_marker_60f2e03794fd4eafa69d5d9dbe536af8%20%3D%20L.circleMarker%28%0A%20%20%20%20%20%20%20%20%20%20%20%20%20%20%20%20%5B-22.9520235%2C%20-46.5418586%5D%2C%0A%20%20%20%20%20%20%20%20%20%20%20%20%20%20%20%20%7B%22bubblingMouseEvents%22%3A%20true%2C%20%22color%22%3A%20%22blue%22%2C%20%22dashArray%22%3A%20null%2C%20%22dashOffset%22%3A%20null%2C%20%22fill%22%3A%20true%2C%20%22fillColor%22%3A%20%22%233186cc%22%2C%20%22fillOpacity%22%3A%200.7%2C%20%22fillRule%22%3A%20%22evenodd%22%2C%20%22lineCap%22%3A%20%22round%22%2C%20%22lineJoin%22%3A%20%22round%22%2C%20%22opacity%22%3A%201.0%2C%20%22radius%22%3A%205%2C%20%22stroke%22%3A%20true%2C%20%22weight%22%3A%203%7D%0A%20%20%20%20%20%20%20%20%20%20%20%20%29.addTo%28map_4bbc430962344e2eb516552d83bf385c%29%3B%0A%20%20%20%20%20%20%20%20%0A%20%20%20%20%0A%20%20%20%20%20%20%20%20var%20popup_085ba42088ee4aac9afab5ba9860eb52%20%3D%20L.popup%28%7B%22maxWidth%22%3A%20%22100%25%22%7D%29%3B%0A%0A%20%20%20%20%20%20%20%20%0A%20%20%20%20%20%20%20%20%20%20%20%20var%20html_6e9d8e52c9d543c2b7716d3e8371ddcb%20%3D%20%24%28%60%3Cdiv%20id%3D%22html_6e9d8e52c9d543c2b7716d3e8371ddcb%22%20style%3D%22width%3A%20100.0%25%3B%20height%3A%20100.0%25%3B%22%3EBragantino%3C/div%3E%60%29%5B0%5D%3B%0A%20%20%20%20%20%20%20%20%20%20%20%20popup_085ba42088ee4aac9afab5ba9860eb52.setContent%28html_6e9d8e52c9d543c2b7716d3e8371ddcb%29%3B%0A%20%20%20%20%20%20%20%20%0A%0A%20%20%20%20%20%20%20%20circle_marker_60f2e03794fd4eafa69d5d9dbe536af8.bindPopup%28popup_085ba42088ee4aac9afab5ba9860eb52%29%0A%20%20%20%20%20%20%20%20%3B%0A%0A%20%20%20%20%20%20%20%20%0A%20%20%20%20%0A%20%20%20%20%0A%20%20%20%20%20%20%20%20%20%20%20%20var%20circle_marker_f67a45146e8b41e0934bcbf48790c1a8%20%3D%20L.circleMarker%28%0A%20%20%20%20%20%20%20%20%20%20%20%20%20%20%20%20%5B-3.7304512%2C%20-38.5217989%5D%2C%0A%20%20%20%20%20%20%20%20%20%20%20%20%20%20%20%20%7B%22bubblingMouseEvents%22%3A%20true%2C%20%22color%22%3A%20%22blue%22%2C%20%22dashArray%22%3A%20null%2C%20%22dashOffset%22%3A%20null%2C%20%22fill%22%3A%20true%2C%20%22fillColor%22%3A%20%22%233186cc%22%2C%20%22fillOpacity%22%3A%200.7%2C%20%22fillRule%22%3A%20%22evenodd%22%2C%20%22lineCap%22%3A%20%22round%22%2C%20%22lineJoin%22%3A%20%22round%22%2C%20%22opacity%22%3A%201.0%2C%20%22radius%22%3A%205%2C%20%22stroke%22%3A%20true%2C%20%22weight%22%3A%203%7D%0A%20%20%20%20%20%20%20%20%20%20%20%20%29.addTo%28map_4bbc430962344e2eb516552d83bf385c%29%3B%0A%20%20%20%20%20%20%20%20%0A%20%20%20%20%0A%20%20%20%20%20%20%20%20var%20popup_8c300627819f4d9ba84ad18c1aaca046%20%3D%20L.popup%28%7B%22maxWidth%22%3A%20%22100%25%22%7D%29%3B%0A%0A%20%20%20%20%20%20%20%20%0A%20%20%20%20%20%20%20%20%20%20%20%20var%20html_5fd5065252784177b565f79a961a8ab9%20%3D%20%24%28%60%3Cdiv%20id%3D%22html_5fd5065252784177b565f79a961a8ab9%22%20style%3D%22width%3A%20100.0%25%3B%20height%3A%20100.0%25%3B%22%3ECear%C3%A1%3C/div%3E%60%29%5B0%5D%3B%0A%20%20%20%20%20%20%20%20%20%20%20%20popup_8c300627819f4d9ba84ad18c1aaca046.setContent%28html_5fd5065252784177b565f79a961a8ab9%29%3B%0A%20%20%20%20%20%20%20%20%0A%0A%20%20%20%20%20%20%20%20circle_marker_f67a45146e8b41e0934bcbf48790c1a8.bindPopup%28popup_8c300627819f4d9ba84ad18c1aaca046%29%0A%20%20%20%20%20%20%20%20%3B%0A%0A%20%20%20%20%20%20%20%20%0A%20%20%20%20%0A%20%20%20%20%0A%20%20%20%20%20%20%20%20%20%20%20%20var%20circle_marker_e69ae9afdf494a80a89331cefc839523%20%3D%20L.circleMarker%28%0A%20%20%20%20%20%20%20%20%20%20%20%20%20%20%20%20%5B-27.0922364%2C%20-52.6166878%5D%2C%0A%20%20%20%20%20%20%20%20%20%20%20%20%20%20%20%20%7B%22bubblingMouseEvents%22%3A%20true%2C%20%22color%22%3A%20%22blue%22%2C%20%22dashArray%22%3A%20null%2C%20%22dashOffset%22%3A%20null%2C%20%22fill%22%3A%20true%2C%20%22fillColor%22%3A%20%22%233186cc%22%2C%20%22fillOpacity%22%3A%200.7%2C%20%22fillRule%22%3A%20%22evenodd%22%2C%20%22lineCap%22%3A%20%22round%22%2C%20%22lineJoin%22%3A%20%22round%22%2C%20%22opacity%22%3A%201.0%2C%20%22radius%22%3A%205%2C%20%22stroke%22%3A%20true%2C%20%22weight%22%3A%203%7D%0A%20%20%20%20%20%20%20%20%20%20%20%20%29.addTo%28map_4bbc430962344e2eb516552d83bf385c%29%3B%0A%20%20%20%20%20%20%20%20%0A%20%20%20%20%0A%20%20%20%20%20%20%20%20var%20popup_4ac4b7c936ea41eab9ec11b0f7b34c32%20%3D%20L.popup%28%7B%22maxWidth%22%3A%20%22100%25%22%7D%29%3B%0A%0A%20%20%20%20%20%20%20%20%0A%20%20%20%20%20%20%20%20%20%20%20%20var%20html_da25e2e9821d4f679dc37c2c995f8795%20%3D%20%24%28%60%3Cdiv%20id%3D%22html_da25e2e9821d4f679dc37c2c995f8795%22%20style%3D%22width%3A%20100.0%25%3B%20height%3A%20100.0%25%3B%22%3EChapecoense%3C/div%3E%60%29%5B0%5D%3B%0A%20%20%20%20%20%20%20%20%20%20%20%20popup_4ac4b7c936ea41eab9ec11b0f7b34c32.setContent%28html_da25e2e9821d4f679dc37c2c995f8795%29%3B%0A%20%20%20%20%20%20%20%20%0A%0A%20%20%20%20%20%20%20%20circle_marker_e69ae9afdf494a80a89331cefc839523.bindPopup%28popup_4ac4b7c936ea41eab9ec11b0f7b34c32%29%0A%20%20%20%20%20%20%20%20%3B%0A%0A%20%20%20%20%20%20%20%20%0A%20%20%20%20%0A%20%20%20%20%0A%20%20%20%20%20%20%20%20%20%20%20%20var%20circle_marker_3abc711722914439acacf673730fecf3%20%3D%20L.circleMarker%28%0A%20%20%20%20%20%20%20%20%20%20%20%20%20%20%20%20%5B-23.5506507%2C%20-46.6333824%5D%2C%0A%20%20%20%20%20%20%20%20%20%20%20%20%20%20%20%20%7B%22bubblingMouseEvents%22%3A%20true%2C%20%22color%22%3A%20%22blue%22%2C%20%22dashArray%22%3A%20null%2C%20%22dashOffset%22%3A%20null%2C%20%22fill%22%3A%20true%2C%20%22fillColor%22%3A%20%22%233186cc%22%2C%20%22fillOpacity%22%3A%200.7%2C%20%22fillRule%22%3A%20%22evenodd%22%2C%20%22lineCap%22%3A%20%22round%22%2C%20%22lineJoin%22%3A%20%22round%22%2C%20%22opacity%22%3A%201.0%2C%20%22radius%22%3A%205%2C%20%22stroke%22%3A%20true%2C%20%22weight%22%3A%203%7D%0A%20%20%20%20%20%20%20%20%20%20%20%20%29.addTo%28map_4bbc430962344e2eb516552d83bf385c%29%3B%0A%20%20%20%20%20%20%20%20%0A%20%20%20%20%0A%20%20%20%20%20%20%20%20var%20popup_5facf278962b4db485adaba11092b03a%20%3D%20L.popup%28%7B%22maxWidth%22%3A%20%22100%25%22%7D%29%3B%0A%0A%20%20%20%20%20%20%20%20%0A%20%20%20%20%20%20%20%20%20%20%20%20var%20html_fa704faa6bf64e83a5d1ded48d954bec%20%3D%20%24%28%60%3Cdiv%20id%3D%22html_fa704faa6bf64e83a5d1ded48d954bec%22%20style%3D%22width%3A%20100.0%25%3B%20height%3A%20100.0%25%3B%22%3ECorinthians%3C/div%3E%60%29%5B0%5D%3B%0A%20%20%20%20%20%20%20%20%20%20%20%20popup_5facf278962b4db485adaba11092b03a.setContent%28html_fa704faa6bf64e83a5d1ded48d954bec%29%3B%0A%20%20%20%20%20%20%20%20%0A%0A%20%20%20%20%20%20%20%20circle_marker_3abc711722914439acacf673730fecf3.bindPopup%28popup_5facf278962b4db485adaba11092b03a%29%0A%20%20%20%20%20%20%20%20%3B%0A%0A%20%20%20%20%20%20%20%20%0A%20%20%20%20%0A%20%20%20%20%0A%20%20%20%20%20%20%20%20%20%20%20%20var%20circle_marker_722be45f3bba4783815045fabbc30e57%20%3D%20L.circleMarker%28%0A%20%20%20%20%20%20%20%20%20%20%20%20%20%20%20%20%5B-15.5986686%2C%20-56.0991301%5D%2C%0A%20%20%20%20%20%20%20%20%20%20%20%20%20%20%20%20%7B%22bubblingMouseEvents%22%3A%20true%2C%20%22color%22%3A%20%22blue%22%2C%20%22dashArray%22%3A%20null%2C%20%22dashOffset%22%3A%20null%2C%20%22fill%22%3A%20true%2C%20%22fillColor%22%3A%20%22%233186cc%22%2C%20%22fillOpacity%22%3A%200.7%2C%20%22fillRule%22%3A%20%22evenodd%22%2C%20%22lineCap%22%3A%20%22round%22%2C%20%22lineJoin%22%3A%20%22round%22%2C%20%22opacity%22%3A%201.0%2C%20%22radius%22%3A%205%2C%20%22stroke%22%3A%20true%2C%20%22weight%22%3A%203%7D%0A%20%20%20%20%20%20%20%20%20%20%20%20%29.addTo%28map_4bbc430962344e2eb516552d83bf385c%29%3B%0A%20%20%20%20%20%20%20%20%0A%20%20%20%20%0A%20%20%20%20%20%20%20%20var%20popup_cb60430c5cc0457491dd25bf32a3fe64%20%3D%20L.popup%28%7B%22maxWidth%22%3A%20%22100%25%22%7D%29%3B%0A%0A%20%20%20%20%20%20%20%20%0A%20%20%20%20%20%20%20%20%20%20%20%20var%20html_44a0b984a452416a8475288af69e348c%20%3D%20%24%28%60%3Cdiv%20id%3D%22html_44a0b984a452416a8475288af69e348c%22%20style%3D%22width%3A%20100.0%25%3B%20height%3A%20100.0%25%3B%22%3ECuiab%C3%A1%3C/div%3E%60%29%5B0%5D%3B%0A%20%20%20%20%20%20%20%20%20%20%20%20popup_cb60430c5cc0457491dd25bf32a3fe64.setContent%28html_44a0b984a452416a8475288af69e348c%29%3B%0A%20%20%20%20%20%20%20%20%0A%0A%20%20%20%20%20%20%20%20circle_marker_722be45f3bba4783815045fabbc30e57.bindPopup%28popup_cb60430c5cc0457491dd25bf32a3fe64%29%0A%20%20%20%20%20%20%20%20%3B%0A%0A%20%20%20%20%20%20%20%20%0A%20%20%20%20%0A%20%20%20%20%0A%20%20%20%20%20%20%20%20%20%20%20%20var%20circle_marker_50e08a61618a4ad9b51f13314dc923e2%20%3D%20L.circleMarker%28%0A%20%20%20%20%20%20%20%20%20%20%20%20%20%20%20%20%5B-22.9110137%2C%20-43.2093727%5D%2C%0A%20%20%20%20%20%20%20%20%20%20%20%20%20%20%20%20%7B%22bubblingMouseEvents%22%3A%20true%2C%20%22color%22%3A%20%22blue%22%2C%20%22dashArray%22%3A%20null%2C%20%22dashOffset%22%3A%20null%2C%20%22fill%22%3A%20true%2C%20%22fillColor%22%3A%20%22%233186cc%22%2C%20%22fillOpacity%22%3A%200.7%2C%20%22fillRule%22%3A%20%22evenodd%22%2C%20%22lineCap%22%3A%20%22round%22%2C%20%22lineJoin%22%3A%20%22round%22%2C%20%22opacity%22%3A%201.0%2C%20%22radius%22%3A%205%2C%20%22stroke%22%3A%20true%2C%20%22weight%22%3A%203%7D%0A%20%20%20%20%20%20%20%20%20%20%20%20%29.addTo%28map_4bbc430962344e2eb516552d83bf385c%29%3B%0A%20%20%20%20%20%20%20%20%0A%20%20%20%20%0A%20%20%20%20%20%20%20%20var%20popup_08fb1ff7c559401ab8358a2e0b4c1001%20%3D%20L.popup%28%7B%22maxWidth%22%3A%20%22100%25%22%7D%29%3B%0A%0A%20%20%20%20%20%20%20%20%0A%20%20%20%20%20%20%20%20%20%20%20%20var%20html_f5d731e03cd54f948306826d28f65742%20%3D%20%24%28%60%3Cdiv%20id%3D%22html_f5d731e03cd54f948306826d28f65742%22%20style%3D%22width%3A%20100.0%25%3B%20height%3A%20100.0%25%3B%22%3EFlamengo%3C/div%3E%60%29%5B0%5D%3B%0A%20%20%20%20%20%20%20%20%20%20%20%20popup_08fb1ff7c559401ab8358a2e0b4c1001.setContent%28html_f5d731e03cd54f948306826d28f65742%29%3B%0A%20%20%20%20%20%20%20%20%0A%0A%20%20%20%20%20%20%20%20circle_marker_50e08a61618a4ad9b51f13314dc923e2.bindPopup%28popup_08fb1ff7c559401ab8358a2e0b4c1001%29%0A%20%20%20%20%20%20%20%20%3B%0A%0A%20%20%20%20%20%20%20%20%0A%20%20%20%20%0A%20%20%20%20%0A%20%20%20%20%20%20%20%20%20%20%20%20var%20circle_marker_0cb32b946f0140a9b051d3c399c184d0%20%3D%20L.circleMarker%28%0A%20%20%20%20%20%20%20%20%20%20%20%20%20%20%20%20%5B-22.9110137%2C%20-43.2093727%5D%2C%0A%20%20%20%20%20%20%20%20%20%20%20%20%20%20%20%20%7B%22bubblingMouseEvents%22%3A%20true%2C%20%22color%22%3A%20%22blue%22%2C%20%22dashArray%22%3A%20null%2C%20%22dashOffset%22%3A%20null%2C%20%22fill%22%3A%20true%2C%20%22fillColor%22%3A%20%22%233186cc%22%2C%20%22fillOpacity%22%3A%200.7%2C%20%22fillRule%22%3A%20%22evenodd%22%2C%20%22lineCap%22%3A%20%22round%22%2C%20%22lineJoin%22%3A%20%22round%22%2C%20%22opacity%22%3A%201.0%2C%20%22radius%22%3A%205%2C%20%22stroke%22%3A%20true%2C%20%22weight%22%3A%203%7D%0A%20%20%20%20%20%20%20%20%20%20%20%20%29.addTo%28map_4bbc430962344e2eb516552d83bf385c%29%3B%0A%20%20%20%20%20%20%20%20%0A%20%20%20%20%0A%20%20%20%20%20%20%20%20var%20popup_a9059a702c3b426482f2728d200987fe%20%3D%20L.popup%28%7B%22maxWidth%22%3A%20%22100%25%22%7D%29%3B%0A%0A%20%20%20%20%20%20%20%20%0A%20%20%20%20%20%20%20%20%20%20%20%20var%20html_9e18fb0d27904243bafcc0ac1330e3f0%20%3D%20%24%28%60%3Cdiv%20id%3D%22html_9e18fb0d27904243bafcc0ac1330e3f0%22%20style%3D%22width%3A%20100.0%25%3B%20height%3A%20100.0%25%3B%22%3EFluminense%3C/div%3E%60%29%5B0%5D%3B%0A%20%20%20%20%20%20%20%20%20%20%20%20popup_a9059a702c3b426482f2728d200987fe.setContent%28html_9e18fb0d27904243bafcc0ac1330e3f0%29%3B%0A%20%20%20%20%20%20%20%20%0A%0A%20%20%20%20%20%20%20%20circle_marker_0cb32b946f0140a9b051d3c399c184d0.bindPopup%28popup_a9059a702c3b426482f2728d200987fe%29%0A%20%20%20%20%20%20%20%20%3B%0A%0A%20%20%20%20%20%20%20%20%0A%20%20%20%20%0A%20%20%20%20%0A%20%20%20%20%20%20%20%20%20%20%20%20var%20circle_marker_1ba19c72968f4abe81276943ea929b81%20%3D%20L.circleMarker%28%0A%20%20%20%20%20%20%20%20%20%20%20%20%20%20%20%20%5B-3.7304512%2C%20-38.5217989%5D%2C%0A%20%20%20%20%20%20%20%20%20%20%20%20%20%20%20%20%7B%22bubblingMouseEvents%22%3A%20true%2C%20%22color%22%3A%20%22blue%22%2C%20%22dashArray%22%3A%20null%2C%20%22dashOffset%22%3A%20null%2C%20%22fill%22%3A%20true%2C%20%22fillColor%22%3A%20%22%233186cc%22%2C%20%22fillOpacity%22%3A%200.7%2C%20%22fillRule%22%3A%20%22evenodd%22%2C%20%22lineCap%22%3A%20%22round%22%2C%20%22lineJoin%22%3A%20%22round%22%2C%20%22opacity%22%3A%201.0%2C%20%22radius%22%3A%205%2C%20%22stroke%22%3A%20true%2C%20%22weight%22%3A%203%7D%0A%20%20%20%20%20%20%20%20%20%20%20%20%29.addTo%28map_4bbc430962344e2eb516552d83bf385c%29%3B%0A%20%20%20%20%20%20%20%20%0A%20%20%20%20%0A%20%20%20%20%20%20%20%20var%20popup_d3be135b7f4e4a3f92687371d7b508ee%20%3D%20L.popup%28%7B%22maxWidth%22%3A%20%22100%25%22%7D%29%3B%0A%0A%20%20%20%20%20%20%20%20%0A%20%20%20%20%20%20%20%20%20%20%20%20var%20html_219b4533c8ba4508ac1a17e1638d4f02%20%3D%20%24%28%60%3Cdiv%20id%3D%22html_219b4533c8ba4508ac1a17e1638d4f02%22%20style%3D%22width%3A%20100.0%25%3B%20height%3A%20100.0%25%3B%22%3EFortaleza%3C/div%3E%60%29%5B0%5D%3B%0A%20%20%20%20%20%20%20%20%20%20%20%20popup_d3be135b7f4e4a3f92687371d7b508ee.setContent%28html_219b4533c8ba4508ac1a17e1638d4f02%29%3B%0A%20%20%20%20%20%20%20%20%0A%0A%20%20%20%20%20%20%20%20circle_marker_1ba19c72968f4abe81276943ea929b81.bindPopup%28popup_d3be135b7f4e4a3f92687371d7b508ee%29%0A%20%20%20%20%20%20%20%20%3B%0A%0A%20%20%20%20%20%20%20%20%0A%20%20%20%20%0A%20%20%20%20%0A%20%20%20%20%20%20%20%20%20%20%20%20var%20circle_marker_00f6c1dea1d24e09b25bdf543ced35fd%20%3D%20L.circleMarker%28%0A%20%20%20%20%20%20%20%20%20%20%20%20%20%20%20%20%5B-30.0324999%2C%20-51.2303767%5D%2C%0A%20%20%20%20%20%20%20%20%20%20%20%20%20%20%20%20%7B%22bubblingMouseEvents%22%3A%20true%2C%20%22color%22%3A%20%22blue%22%2C%20%22dashArray%22%3A%20null%2C%20%22dashOffset%22%3A%20null%2C%20%22fill%22%3A%20true%2C%20%22fillColor%22%3A%20%22%233186cc%22%2C%20%22fillOpacity%22%3A%200.7%2C%20%22fillRule%22%3A%20%22evenodd%22%2C%20%22lineCap%22%3A%20%22round%22%2C%20%22lineJoin%22%3A%20%22round%22%2C%20%22opacity%22%3A%201.0%2C%20%22radius%22%3A%205%2C%20%22stroke%22%3A%20true%2C%20%22weight%22%3A%203%7D%0A%20%20%20%20%20%20%20%20%20%20%20%20%29.addTo%28map_4bbc430962344e2eb516552d83bf385c%29%3B%0A%20%20%20%20%20%20%20%20%0A%20%20%20%20%0A%20%20%20%20%20%20%20%20var%20popup_728ccd40c1654d749b24281b3cf5d366%20%3D%20L.popup%28%7B%22maxWidth%22%3A%20%22100%25%22%7D%29%3B%0A%0A%20%20%20%20%20%20%20%20%0A%20%20%20%20%20%20%20%20%20%20%20%20var%20html_2308eab0a78a4f6294e224589334b293%20%3D%20%24%28%60%3Cdiv%20id%3D%22html_2308eab0a78a4f6294e224589334b293%22%20style%3D%22width%3A%20100.0%25%3B%20height%3A%20100.0%25%3B%22%3EGr%C3%AAmio%3C/div%3E%60%29%5B0%5D%3B%0A%20%20%20%20%20%20%20%20%20%20%20%20popup_728ccd40c1654d749b24281b3cf5d366.setContent%28html_2308eab0a78a4f6294e224589334b293%29%3B%0A%20%20%20%20%20%20%20%20%0A%0A%20%20%20%20%20%20%20%20circle_marker_00f6c1dea1d24e09b25bdf543ced35fd.bindPopup%28popup_728ccd40c1654d749b24281b3cf5d366%29%0A%20%20%20%20%20%20%20%20%3B%0A%0A%20%20%20%20%20%20%20%20%0A%20%20%20%20%0A%20%20%20%20%0A%20%20%20%20%20%20%20%20%20%20%20%20var%20circle_marker_9babcd13838f431aa624d1106043be46%20%3D%20L.circleMarker%28%0A%20%20%20%20%20%20%20%20%20%20%20%20%20%20%20%20%5B-30.0324999%2C%20-51.2303767%5D%2C%0A%20%20%20%20%20%20%20%20%20%20%20%20%20%20%20%20%7B%22bubblingMouseEvents%22%3A%20true%2C%20%22color%22%3A%20%22blue%22%2C%20%22dashArray%22%3A%20null%2C%20%22dashOffset%22%3A%20null%2C%20%22fill%22%3A%20true%2C%20%22fillColor%22%3A%20%22%233186cc%22%2C%20%22fillOpacity%22%3A%200.7%2C%20%22fillRule%22%3A%20%22evenodd%22%2C%20%22lineCap%22%3A%20%22round%22%2C%20%22lineJoin%22%3A%20%22round%22%2C%20%22opacity%22%3A%201.0%2C%20%22radius%22%3A%205%2C%20%22stroke%22%3A%20true%2C%20%22weight%22%3A%203%7D%0A%20%20%20%20%20%20%20%20%20%20%20%20%29.addTo%28map_4bbc430962344e2eb516552d83bf385c%29%3B%0A%20%20%20%20%20%20%20%20%0A%20%20%20%20%0A%20%20%20%20%20%20%20%20var%20popup_5084a08980c542b2811d44bd67d2e031%20%3D%20L.popup%28%7B%22maxWidth%22%3A%20%22100%25%22%7D%29%3B%0A%0A%20%20%20%20%20%20%20%20%0A%20%20%20%20%20%20%20%20%20%20%20%20var%20html_f8726ca320634f63857e1735b96871bf%20%3D%20%24%28%60%3Cdiv%20id%3D%22html_f8726ca320634f63857e1735b96871bf%22%20style%3D%22width%3A%20100.0%25%3B%20height%3A%20100.0%25%3B%22%3EInternacional%3C/div%3E%60%29%5B0%5D%3B%0A%20%20%20%20%20%20%20%20%20%20%20%20popup_5084a08980c542b2811d44bd67d2e031.setContent%28html_f8726ca320634f63857e1735b96871bf%29%3B%0A%20%20%20%20%20%20%20%20%0A%0A%20%20%20%20%20%20%20%20circle_marker_9babcd13838f431aa624d1106043be46.bindPopup%28popup_5084a08980c542b2811d44bd67d2e031%29%0A%20%20%20%20%20%20%20%20%3B%0A%0A%20%20%20%20%20%20%20%20%0A%20%20%20%20%0A%20%20%20%20%0A%20%20%20%20%20%20%20%20%20%20%20%20var%20circle_marker_08db23d7240f4f25ab90ea3b06a01294%20%3D%20L.circleMarker%28%0A%20%20%20%20%20%20%20%20%20%20%20%20%20%20%20%20%5B-29.1684951%2C%20-51.1796197%5D%2C%0A%20%20%20%20%20%20%20%20%20%20%20%20%20%20%20%20%7B%22bubblingMouseEvents%22%3A%20true%2C%20%22color%22%3A%20%22blue%22%2C%20%22dashArray%22%3A%20null%2C%20%22dashOffset%22%3A%20null%2C%20%22fill%22%3A%20true%2C%20%22fillColor%22%3A%20%22%233186cc%22%2C%20%22fillOpacity%22%3A%200.7%2C%20%22fillRule%22%3A%20%22evenodd%22%2C%20%22lineCap%22%3A%20%22round%22%2C%20%22lineJoin%22%3A%20%22round%22%2C%20%22opacity%22%3A%201.0%2C%20%22radius%22%3A%205%2C%20%22stroke%22%3A%20true%2C%20%22weight%22%3A%203%7D%0A%20%20%20%20%20%20%20%20%20%20%20%20%29.addTo%28map_4bbc430962344e2eb516552d83bf385c%29%3B%0A%20%20%20%20%20%20%20%20%0A%20%20%20%20%0A%20%20%20%20%20%20%20%20var%20popup_5904ead5135648cfa770754aa322dee3%20%3D%20L.popup%28%7B%22maxWidth%22%3A%20%22100%25%22%7D%29%3B%0A%0A%20%20%20%20%20%20%20%20%0A%20%20%20%20%20%20%20%20%20%20%20%20var%20html_4523ff73fd134499a1df248b784e6971%20%3D%20%24%28%60%3Cdiv%20id%3D%22html_4523ff73fd134499a1df248b784e6971%22%20style%3D%22width%3A%20100.0%25%3B%20height%3A%20100.0%25%3B%22%3EJuventude%3C/div%3E%60%29%5B0%5D%3B%0A%20%20%20%20%20%20%20%20%20%20%20%20popup_5904ead5135648cfa770754aa322dee3.setContent%28html_4523ff73fd134499a1df248b784e6971%29%3B%0A%20%20%20%20%20%20%20%20%0A%0A%20%20%20%20%20%20%20%20circle_marker_08db23d7240f4f25ab90ea3b06a01294.bindPopup%28popup_5904ead5135648cfa770754aa322dee3%29%0A%20%20%20%20%20%20%20%20%3B%0A%0A%20%20%20%20%20%20%20%20%0A%20%20%20%20%0A%20%20%20%20%0A%20%20%20%20%20%20%20%20%20%20%20%20var%20circle_marker_ad8edf135bdd44e8bcd28ab8567d49e3%20%3D%20L.circleMarker%28%0A%20%20%20%20%20%20%20%20%20%20%20%20%20%20%20%20%5B-23.5506507%2C%20-46.6333824%5D%2C%0A%20%20%20%20%20%20%20%20%20%20%20%20%20%20%20%20%7B%22bubblingMouseEvents%22%3A%20true%2C%20%22color%22%3A%20%22blue%22%2C%20%22dashArray%22%3A%20null%2C%20%22dashOffset%22%3A%20null%2C%20%22fill%22%3A%20true%2C%20%22fillColor%22%3A%20%22%233186cc%22%2C%20%22fillOpacity%22%3A%200.7%2C%20%22fillRule%22%3A%20%22evenodd%22%2C%20%22lineCap%22%3A%20%22round%22%2C%20%22lineJoin%22%3A%20%22round%22%2C%20%22opacity%22%3A%201.0%2C%20%22radius%22%3A%205%2C%20%22stroke%22%3A%20true%2C%20%22weight%22%3A%203%7D%0A%20%20%20%20%20%20%20%20%20%20%20%20%29.addTo%28map_4bbc430962344e2eb516552d83bf385c%29%3B%0A%20%20%20%20%20%20%20%20%0A%20%20%20%20%0A%20%20%20%20%20%20%20%20var%20popup_58d836f02de8436dab113aa9bb012965%20%3D%20L.popup%28%7B%22maxWidth%22%3A%20%22100%25%22%7D%29%3B%0A%0A%20%20%20%20%20%20%20%20%0A%20%20%20%20%20%20%20%20%20%20%20%20var%20html_d3a70e55fba5434582cfa5a0d51a51ad%20%3D%20%24%28%60%3Cdiv%20id%3D%22html_d3a70e55fba5434582cfa5a0d51a51ad%22%20style%3D%22width%3A%20100.0%25%3B%20height%3A%20100.0%25%3B%22%3EPalmeiras%3C/div%3E%60%29%5B0%5D%3B%0A%20%20%20%20%20%20%20%20%20%20%20%20popup_58d836f02de8436dab113aa9bb012965.setContent%28html_d3a70e55fba5434582cfa5a0d51a51ad%29%3B%0A%20%20%20%20%20%20%20%20%0A%0A%20%20%20%20%20%20%20%20circle_marker_ad8edf135bdd44e8bcd28ab8567d49e3.bindPopup%28popup_58d836f02de8436dab113aa9bb012965%29%0A%20%20%20%20%20%20%20%20%3B%0A%0A%20%20%20%20%20%20%20%20%0A%20%20%20%20%0A%20%20%20%20%0A%20%20%20%20%20%20%20%20%20%20%20%20var%20circle_marker_458c6cae5aac4fb39a23bde2c207c0c3%20%3D%20L.circleMarker%28%0A%20%20%20%20%20%20%20%20%20%20%20%20%20%20%20%20%5B-23.960833%2C%20-46.333889%5D%2C%0A%20%20%20%20%20%20%20%20%20%20%20%20%20%20%20%20%7B%22bubblingMouseEvents%22%3A%20true%2C%20%22color%22%3A%20%22blue%22%2C%20%22dashArray%22%3A%20null%2C%20%22dashOffset%22%3A%20null%2C%20%22fill%22%3A%20true%2C%20%22fillColor%22%3A%20%22%233186cc%22%2C%20%22fillOpacity%22%3A%200.7%2C%20%22fillRule%22%3A%20%22evenodd%22%2C%20%22lineCap%22%3A%20%22round%22%2C%20%22lineJoin%22%3A%20%22round%22%2C%20%22opacity%22%3A%201.0%2C%20%22radius%22%3A%205%2C%20%22stroke%22%3A%20true%2C%20%22weight%22%3A%203%7D%0A%20%20%20%20%20%20%20%20%20%20%20%20%29.addTo%28map_4bbc430962344e2eb516552d83bf385c%29%3B%0A%20%20%20%20%20%20%20%20%0A%20%20%20%20%0A%20%20%20%20%20%20%20%20var%20popup_3c7b2634793a43f693a554217fa0ce1f%20%3D%20L.popup%28%7B%22maxWidth%22%3A%20%22100%25%22%7D%29%3B%0A%0A%20%20%20%20%20%20%20%20%0A%20%20%20%20%20%20%20%20%20%20%20%20var%20html_dd03e90d40184a9dacb48af117ffdf38%20%3D%20%24%28%60%3Cdiv%20id%3D%22html_dd03e90d40184a9dacb48af117ffdf38%22%20style%3D%22width%3A%20100.0%25%3B%20height%3A%20100.0%25%3B%22%3ESantos%3C/div%3E%60%29%5B0%5D%3B%0A%20%20%20%20%20%20%20%20%20%20%20%20popup_3c7b2634793a43f693a554217fa0ce1f.setContent%28html_dd03e90d40184a9dacb48af117ffdf38%29%3B%0A%20%20%20%20%20%20%20%20%0A%0A%20%20%20%20%20%20%20%20circle_marker_458c6cae5aac4fb39a23bde2c207c0c3.bindPopup%28popup_3c7b2634793a43f693a554217fa0ce1f%29%0A%20%20%20%20%20%20%20%20%3B%0A%0A%20%20%20%20%20%20%20%20%0A%20%20%20%20%0A%20%20%20%20%0A%20%20%20%20%20%20%20%20%20%20%20%20var%20circle_marker_55bcccecbddb43f59727f498d0d8fb30%20%3D%20L.circleMarker%28%0A%20%20%20%20%20%20%20%20%20%20%20%20%20%20%20%20%5B-23.5506507%2C%20-46.6333824%5D%2C%0A%20%20%20%20%20%20%20%20%20%20%20%20%20%20%20%20%7B%22bubblingMouseEvents%22%3A%20true%2C%20%22color%22%3A%20%22blue%22%2C%20%22dashArray%22%3A%20null%2C%20%22dashOffset%22%3A%20null%2C%20%22fill%22%3A%20true%2C%20%22fillColor%22%3A%20%22%233186cc%22%2C%20%22fillOpacity%22%3A%200.7%2C%20%22fillRule%22%3A%20%22evenodd%22%2C%20%22lineCap%22%3A%20%22round%22%2C%20%22lineJoin%22%3A%20%22round%22%2C%20%22opacity%22%3A%201.0%2C%20%22radius%22%3A%205%2C%20%22stroke%22%3A%20true%2C%20%22weight%22%3A%203%7D%0A%20%20%20%20%20%20%20%20%20%20%20%20%29.addTo%28map_4bbc430962344e2eb516552d83bf385c%29%3B%0A%20%20%20%20%20%20%20%20%0A%20%20%20%20%0A%20%20%20%20%20%20%20%20var%20popup_e903e3ff97de4385a0b0ce2eb6142fab%20%3D%20L.popup%28%7B%22maxWidth%22%3A%20%22100%25%22%7D%29%3B%0A%0A%20%20%20%20%20%20%20%20%0A%20%20%20%20%20%20%20%20%20%20%20%20var%20html_0c5be1b6cabf46c5916b39beb244256e%20%3D%20%24%28%60%3Cdiv%20id%3D%22html_0c5be1b6cabf46c5916b39beb244256e%22%20style%3D%22width%3A%20100.0%25%3B%20height%3A%20100.0%25%3B%22%3ES%C3%A3o%20Paulo%3C/div%3E%60%29%5B0%5D%3B%0A%20%20%20%20%20%20%20%20%20%20%20%20popup_e903e3ff97de4385a0b0ce2eb6142fab.setContent%28html_0c5be1b6cabf46c5916b39beb244256e%29%3B%0A%20%20%20%20%20%20%20%20%0A%0A%20%20%20%20%20%20%20%20circle_marker_55bcccecbddb43f59727f498d0d8fb30.bindPopup%28popup_e903e3ff97de4385a0b0ce2eb6142fab%29%0A%20%20%20%20%20%20%20%20%3B%0A%0A%20%20%20%20%20%20%20%20%0A%20%20%20%20%0A%20%20%20%20%0A%20%20%20%20%20%20%20%20%20%20%20%20var%20circle_marker_cebf13f6911347ed8123030a6be48712%20%3D%20L.circleMarker%28%0A%20%20%20%20%20%20%20%20%20%20%20%20%20%20%20%20%5B-8.0584933%2C%20-34.8848193%5D%2C%0A%20%20%20%20%20%20%20%20%20%20%20%20%20%20%20%20%7B%22bubblingMouseEvents%22%3A%20true%2C%20%22color%22%3A%20%22blue%22%2C%20%22dashArray%22%3A%20null%2C%20%22dashOffset%22%3A%20null%2C%20%22fill%22%3A%20true%2C%20%22fillColor%22%3A%20%22%233186cc%22%2C%20%22fillOpacity%22%3A%200.7%2C%20%22fillRule%22%3A%20%22evenodd%22%2C%20%22lineCap%22%3A%20%22round%22%2C%20%22lineJoin%22%3A%20%22round%22%2C%20%22opacity%22%3A%201.0%2C%20%22radius%22%3A%205%2C%20%22stroke%22%3A%20true%2C%20%22weight%22%3A%203%7D%0A%20%20%20%20%20%20%20%20%20%20%20%20%29.addTo%28map_4bbc430962344e2eb516552d83bf385c%29%3B%0A%20%20%20%20%20%20%20%20%0A%20%20%20%20%0A%20%20%20%20%20%20%20%20var%20popup_c9eef3f20474400f96b0d00980075225%20%3D%20L.popup%28%7B%22maxWidth%22%3A%20%22100%25%22%7D%29%3B%0A%0A%20%20%20%20%20%20%20%20%0A%20%20%20%20%20%20%20%20%20%20%20%20var%20html_4fe626451913478dbad62f39697df717%20%3D%20%24%28%60%3Cdiv%20id%3D%22html_4fe626451913478dbad62f39697df717%22%20style%3D%22width%3A%20100.0%25%3B%20height%3A%20100.0%25%3B%22%3ESport%3C/div%3E%60%29%5B0%5D%3B%0A%20%20%20%20%20%20%20%20%20%20%20%20popup_c9eef3f20474400f96b0d00980075225.setContent%28html_4fe626451913478dbad62f39697df717%29%3B%0A%20%20%20%20%20%20%20%20%0A%0A%20%20%20%20%20%20%20%20circle_marker_cebf13f6911347ed8123030a6be48712.bindPopup%28popup_c9eef3f20474400f96b0d00980075225%29%0A%20%20%20%20%20%20%20%20%3B%0A%0A%20%20%20%20%20%20%20%20%0A%20%20%20%20%0A%3C/script%3E onload=\"this.contentDocument.open();this.contentDocument.write(    decodeURIComponent(this.getAttribute('data-html')));this.contentDocument.close();\" allowfullscreen webkitallowfullscreen mozallowfullscreen></iframe></div></div>"
      ],
      "text/plain": [
       "<folium.folium.Map at 0x7f649d87c0a0>"
      ]
     },
     "execution_count": 25,
     "metadata": {},
     "output_type": "execute_result"
    }
   ],
   "source": [
    "#mapa centrado em Brasília\n",
    "map_brasil = folium.Map(location=[-10.3333333, -53.2], zoom_start=4)\n",
    "\n",
    "# add markers to map\n",
    "for lat, lng, time in zip(lista_times_21['Latitude'], lista_times_21['Longitude'], lista_times_21['Time']):\n",
    "    label = '{}'.format(time)\n",
    "    label = folium.Popup(label, parse_html=True)\n",
    "    folium.CircleMarker(\n",
    "        [lat, lng],\n",
    "        radius=5,\n",
    "        popup=label,\n",
    "        color='blue',\n",
    "        fill=True,\n",
    "        fill_color='#3186cc',\n",
    "        fill_opacity=0.7,\n",
    "        parse_html=False).add_to(map_brasil)  \n",
    "    \n",
    "map_brasil"
   ]
  },
  {
   "cell_type": "markdown",
   "metadata": {
    "id": "8iIAsICDdmvf"
   },
   "source": [
    "Temos nossos 20 times espalhados em 14 cidades, em 11 estados. Agora precisamos construir a tabela com as distâncias. De novo, vamos definir uma função que faz esse cálculo."
   ]
  },
  {
   "cell_type": "markdown",
   "metadata": {
    "id": "cRNuHHyCdmvg"
   },
   "source": [
    "Vamos criar a tabela e depois populá-la com as distâncias."
   ]
  },
  {
   "cell_type": "code",
   "execution_count": 32,
   "metadata": {
    "colab": {
     "base_uri": "https://localhost:8080/",
     "height": 292
    },
    "id": "yUbltxZZdmvg",
    "outputId": "248c89a3-9f97-4030-a90a-506aa9b4e632"
   },
   "outputs": [
    {
     "data": {
      "text/html": [
       "<div>\n",
       "<style scoped>\n",
       "    .dataframe tbody tr th:only-of-type {\n",
       "        vertical-align: middle;\n",
       "    }\n",
       "\n",
       "    .dataframe tbody tr th {\n",
       "        vertical-align: top;\n",
       "    }\n",
       "\n",
       "    .dataframe thead th {\n",
       "        text-align: right;\n",
       "    }\n",
       "</style>\n",
       "<table border=\"1\" class=\"dataframe\">\n",
       "  <thead>\n",
       "    <tr style=\"text-align: right;\">\n",
       "      <th></th>\n",
       "      <th>Time</th>\n",
       "      <th>América</th>\n",
       "      <th>Athlético Paranaense</th>\n",
       "      <th>Atlético Goianiense</th>\n",
       "      <th>Atlético Mineiro</th>\n",
       "      <th>Bahia</th>\n",
       "      <th>Bragantino</th>\n",
       "      <th>Ceará</th>\n",
       "      <th>Chapecoense</th>\n",
       "      <th>Corinthians</th>\n",
       "      <th>...</th>\n",
       "      <th>Flamengo</th>\n",
       "      <th>Fluminense</th>\n",
       "      <th>Fortaleza</th>\n",
       "      <th>Grêmio</th>\n",
       "      <th>Internacional</th>\n",
       "      <th>Juventude</th>\n",
       "      <th>Palmeiras</th>\n",
       "      <th>Santos</th>\n",
       "      <th>São Paulo</th>\n",
       "      <th>Sport</th>\n",
       "    </tr>\n",
       "  </thead>\n",
       "  <tbody>\n",
       "    <tr>\n",
       "      <th>0</th>\n",
       "      <td>América</td>\n",
       "      <td>NaN</td>\n",
       "      <td>NaN</td>\n",
       "      <td>NaN</td>\n",
       "      <td>NaN</td>\n",
       "      <td>NaN</td>\n",
       "      <td>NaN</td>\n",
       "      <td>NaN</td>\n",
       "      <td>NaN</td>\n",
       "      <td>NaN</td>\n",
       "      <td>...</td>\n",
       "      <td>NaN</td>\n",
       "      <td>NaN</td>\n",
       "      <td>NaN</td>\n",
       "      <td>NaN</td>\n",
       "      <td>NaN</td>\n",
       "      <td>NaN</td>\n",
       "      <td>NaN</td>\n",
       "      <td>NaN</td>\n",
       "      <td>NaN</td>\n",
       "      <td>NaN</td>\n",
       "    </tr>\n",
       "    <tr>\n",
       "      <th>1</th>\n",
       "      <td>Athlético Paranaense</td>\n",
       "      <td>NaN</td>\n",
       "      <td>NaN</td>\n",
       "      <td>NaN</td>\n",
       "      <td>NaN</td>\n",
       "      <td>NaN</td>\n",
       "      <td>NaN</td>\n",
       "      <td>NaN</td>\n",
       "      <td>NaN</td>\n",
       "      <td>NaN</td>\n",
       "      <td>...</td>\n",
       "      <td>NaN</td>\n",
       "      <td>NaN</td>\n",
       "      <td>NaN</td>\n",
       "      <td>NaN</td>\n",
       "      <td>NaN</td>\n",
       "      <td>NaN</td>\n",
       "      <td>NaN</td>\n",
       "      <td>NaN</td>\n",
       "      <td>NaN</td>\n",
       "      <td>NaN</td>\n",
       "    </tr>\n",
       "    <tr>\n",
       "      <th>2</th>\n",
       "      <td>Atlético Goianiense</td>\n",
       "      <td>NaN</td>\n",
       "      <td>NaN</td>\n",
       "      <td>NaN</td>\n",
       "      <td>NaN</td>\n",
       "      <td>NaN</td>\n",
       "      <td>NaN</td>\n",
       "      <td>NaN</td>\n",
       "      <td>NaN</td>\n",
       "      <td>NaN</td>\n",
       "      <td>...</td>\n",
       "      <td>NaN</td>\n",
       "      <td>NaN</td>\n",
       "      <td>NaN</td>\n",
       "      <td>NaN</td>\n",
       "      <td>NaN</td>\n",
       "      <td>NaN</td>\n",
       "      <td>NaN</td>\n",
       "      <td>NaN</td>\n",
       "      <td>NaN</td>\n",
       "      <td>NaN</td>\n",
       "    </tr>\n",
       "    <tr>\n",
       "      <th>3</th>\n",
       "      <td>Atlético Mineiro</td>\n",
       "      <td>NaN</td>\n",
       "      <td>NaN</td>\n",
       "      <td>NaN</td>\n",
       "      <td>NaN</td>\n",
       "      <td>NaN</td>\n",
       "      <td>NaN</td>\n",
       "      <td>NaN</td>\n",
       "      <td>NaN</td>\n",
       "      <td>NaN</td>\n",
       "      <td>...</td>\n",
       "      <td>NaN</td>\n",
       "      <td>NaN</td>\n",
       "      <td>NaN</td>\n",
       "      <td>NaN</td>\n",
       "      <td>NaN</td>\n",
       "      <td>NaN</td>\n",
       "      <td>NaN</td>\n",
       "      <td>NaN</td>\n",
       "      <td>NaN</td>\n",
       "      <td>NaN</td>\n",
       "    </tr>\n",
       "    <tr>\n",
       "      <th>4</th>\n",
       "      <td>Bahia</td>\n",
       "      <td>NaN</td>\n",
       "      <td>NaN</td>\n",
       "      <td>NaN</td>\n",
       "      <td>NaN</td>\n",
       "      <td>NaN</td>\n",
       "      <td>NaN</td>\n",
       "      <td>NaN</td>\n",
       "      <td>NaN</td>\n",
       "      <td>NaN</td>\n",
       "      <td>...</td>\n",
       "      <td>NaN</td>\n",
       "      <td>NaN</td>\n",
       "      <td>NaN</td>\n",
       "      <td>NaN</td>\n",
       "      <td>NaN</td>\n",
       "      <td>NaN</td>\n",
       "      <td>NaN</td>\n",
       "      <td>NaN</td>\n",
       "      <td>NaN</td>\n",
       "      <td>NaN</td>\n",
       "    </tr>\n",
       "  </tbody>\n",
       "</table>\n",
       "<p>5 rows × 21 columns</p>\n",
       "</div>"
      ],
      "text/plain": [
       "                   Time América Athlético Paranaense Atlético Goianiense  \\\n",
       "0               América     NaN                  NaN                 NaN   \n",
       "1  Athlético Paranaense     NaN                  NaN                 NaN   \n",
       "2   Atlético Goianiense     NaN                  NaN                 NaN   \n",
       "3      Atlético Mineiro     NaN                  NaN                 NaN   \n",
       "4                 Bahia     NaN                  NaN                 NaN   \n",
       "\n",
       "  Atlético Mineiro Bahia Bragantino Ceará Chapecoense Corinthians  ...  \\\n",
       "0              NaN   NaN        NaN   NaN         NaN         NaN  ...   \n",
       "1              NaN   NaN        NaN   NaN         NaN         NaN  ...   \n",
       "2              NaN   NaN        NaN   NaN         NaN         NaN  ...   \n",
       "3              NaN   NaN        NaN   NaN         NaN         NaN  ...   \n",
       "4              NaN   NaN        NaN   NaN         NaN         NaN  ...   \n",
       "\n",
       "  Flamengo Fluminense Fortaleza Grêmio Internacional Juventude Palmeiras  \\\n",
       "0      NaN        NaN       NaN    NaN           NaN       NaN       NaN   \n",
       "1      NaN        NaN       NaN    NaN           NaN       NaN       NaN   \n",
       "2      NaN        NaN       NaN    NaN           NaN       NaN       NaN   \n",
       "3      NaN        NaN       NaN    NaN           NaN       NaN       NaN   \n",
       "4      NaN        NaN       NaN    NaN           NaN       NaN       NaN   \n",
       "\n",
       "  Santos São Paulo Sport  \n",
       "0    NaN       NaN   NaN  \n",
       "1    NaN       NaN   NaN  \n",
       "2    NaN       NaN   NaN  \n",
       "3    NaN       NaN   NaN  \n",
       "4    NaN       NaN   NaN  \n",
       "\n",
       "[5 rows x 21 columns]"
      ]
     },
     "execution_count": 32,
     "metadata": {},
     "output_type": "execute_result"
    }
   ],
   "source": [
    "distancias=pd.DataFrame(columns=['Time']+lista_times_21['Time'].tolist())\n",
    "distancias['Time']=lista_times_21['Time'].tolist()\n",
    "distancias.head()"
   ]
  },
  {
   "cell_type": "markdown",
   "metadata": {
    "id": "9W7jC2HPdmvg"
   },
   "source": [
    "Importando a biblioteca que calcula a distância a partir das coordenadas."
   ]
  },
  {
   "cell_type": "code",
   "execution_count": 33,
   "metadata": {
    "colab": {
     "base_uri": "https://localhost:8080/"
    },
    "id": "hke2bihldmvh",
    "outputId": "8ddce5ad-635d-4eec-8410-d2aba4507a95"
   },
   "outputs": [
    {
     "name": "stdout",
     "output_type": "stream",
     "text": [
      "Requirement already satisfied: haversine in /home/rodrigolink/anaconda3/lib/python3.8/site-packages (2.3.0)\n"
     ]
    }
   ],
   "source": [
    "!pip install haversine\n",
    "import haversine as hs\n"
   ]
  },
  {
   "cell_type": "code",
   "execution_count": 34,
   "metadata": {
    "colab": {
     "base_uri": "https://localhost:8080/",
     "height": 292
    },
    "id": "pwkUQ82Ndmvh",
    "outputId": "0213d1cd-0cbe-4560-a992-085102afb8a1"
   },
   "outputs": [
    {
     "data": {
      "text/html": [
       "<div>\n",
       "<style scoped>\n",
       "    .dataframe tbody tr th:only-of-type {\n",
       "        vertical-align: middle;\n",
       "    }\n",
       "\n",
       "    .dataframe tbody tr th {\n",
       "        vertical-align: top;\n",
       "    }\n",
       "\n",
       "    .dataframe thead th {\n",
       "        text-align: right;\n",
       "    }\n",
       "</style>\n",
       "<table border=\"1\" class=\"dataframe\">\n",
       "  <thead>\n",
       "    <tr style=\"text-align: right;\">\n",
       "      <th></th>\n",
       "      <th>Time</th>\n",
       "      <th>América</th>\n",
       "      <th>Athlético Paranaense</th>\n",
       "      <th>Atlético Goianiense</th>\n",
       "      <th>Atlético Mineiro</th>\n",
       "      <th>Bahia</th>\n",
       "      <th>Bragantino</th>\n",
       "      <th>Ceará</th>\n",
       "      <th>Chapecoense</th>\n",
       "      <th>Corinthians</th>\n",
       "      <th>...</th>\n",
       "      <th>Flamengo</th>\n",
       "      <th>Fluminense</th>\n",
       "      <th>Fortaleza</th>\n",
       "      <th>Grêmio</th>\n",
       "      <th>Internacional</th>\n",
       "      <th>Juventude</th>\n",
       "      <th>Palmeiras</th>\n",
       "      <th>Santos</th>\n",
       "      <th>São Paulo</th>\n",
       "      <th>Sport</th>\n",
       "    </tr>\n",
       "  </thead>\n",
       "  <tbody>\n",
       "    <tr>\n",
       "      <th>0</th>\n",
       "      <td>América</td>\n",
       "      <td>0</td>\n",
       "      <td>820.485</td>\n",
       "      <td>666.215</td>\n",
       "      <td>0</td>\n",
       "      <td>966.725</td>\n",
       "      <td>430.9</td>\n",
       "      <td>1894.08</td>\n",
       "      <td>1189.77</td>\n",
       "      <td>489.691</td>\n",
       "      <td>...</td>\n",
       "      <td>340.896</td>\n",
       "      <td>340.896</td>\n",
       "      <td>1894.08</td>\n",
       "      <td>1341.83</td>\n",
       "      <td>1341.83</td>\n",
       "      <td>1261.11</td>\n",
       "      <td>489.691</td>\n",
       "      <td>512.134</td>\n",
       "      <td>489.691</td>\n",
       "      <td>1640.7</td>\n",
       "    </tr>\n",
       "    <tr>\n",
       "      <th>1</th>\n",
       "      <td>Athlético Paranaense</td>\n",
       "      <td>820.485</td>\n",
       "      <td>0</td>\n",
       "      <td>972.816</td>\n",
       "      <td>820.485</td>\n",
       "      <td>1786.64</td>\n",
       "      <td>390.537</td>\n",
       "      <td>2672.15</td>\n",
       "      <td>381.377</td>\n",
       "      <td>338.956</td>\n",
       "      <td>...</td>\n",
       "      <td>675.611</td>\n",
       "      <td>675.611</td>\n",
       "      <td>2672.15</td>\n",
       "      <td>546.903</td>\n",
       "      <td>546.903</td>\n",
       "      <td>456.486</td>\n",
       "      <td>338.956</td>\n",
       "      <td>338.708</td>\n",
       "      <td>338.956</td>\n",
       "      <td>2460.42</td>\n",
       "    </tr>\n",
       "    <tr>\n",
       "      <th>2</th>\n",
       "      <td>Atlético Goianiense</td>\n",
       "      <td>666.215</td>\n",
       "      <td>972.816</td>\n",
       "      <td>0</td>\n",
       "      <td>666.215</td>\n",
       "      <td>1228.42</td>\n",
       "      <td>752.725</td>\n",
       "      <td>1856.43</td>\n",
       "      <td>1208.38</td>\n",
       "      <td>811.308</td>\n",
       "      <td>...</td>\n",
       "      <td>937.644</td>\n",
       "      <td>937.644</td>\n",
       "      <td>1856.43</td>\n",
       "      <td>1498.19</td>\n",
       "      <td>1498.19</td>\n",
       "      <td>1402.42</td>\n",
       "      <td>811.308</td>\n",
       "      <td>864.739</td>\n",
       "      <td>811.308</td>\n",
       "      <td>1830</td>\n",
       "    </tr>\n",
       "    <tr>\n",
       "      <th>3</th>\n",
       "      <td>Atlético Mineiro</td>\n",
       "      <td>0</td>\n",
       "      <td>820.485</td>\n",
       "      <td>666.215</td>\n",
       "      <td>0</td>\n",
       "      <td>966.725</td>\n",
       "      <td>430.9</td>\n",
       "      <td>1894.08</td>\n",
       "      <td>1189.77</td>\n",
       "      <td>489.691</td>\n",
       "      <td>...</td>\n",
       "      <td>340.896</td>\n",
       "      <td>340.896</td>\n",
       "      <td>1894.08</td>\n",
       "      <td>1341.83</td>\n",
       "      <td>1341.83</td>\n",
       "      <td>1261.11</td>\n",
       "      <td>489.691</td>\n",
       "      <td>512.134</td>\n",
       "      <td>489.691</td>\n",
       "      <td>1640.7</td>\n",
       "    </tr>\n",
       "    <tr>\n",
       "      <th>4</th>\n",
       "      <td>Bahia</td>\n",
       "      <td>966.725</td>\n",
       "      <td>1786.64</td>\n",
       "      <td>1228.42</td>\n",
       "      <td>966.725</td>\n",
       "      <td>0</td>\n",
       "      <td>1397.62</td>\n",
       "      <td>1028.76</td>\n",
       "      <td>2150.66</td>\n",
       "      <td>1455.69</td>\n",
       "      <td>...</td>\n",
       "      <td>1211.69</td>\n",
       "      <td>1211.69</td>\n",
       "      <td>1028.76</td>\n",
       "      <td>2305.24</td>\n",
       "      <td>2305.24</td>\n",
       "      <td>2226.57</td>\n",
       "      <td>1455.69</td>\n",
       "      <td>1474.19</td>\n",
       "      <td>1455.69</td>\n",
       "      <td>673.975</td>\n",
       "    </tr>\n",
       "  </tbody>\n",
       "</table>\n",
       "<p>5 rows × 21 columns</p>\n",
       "</div>"
      ],
      "text/plain": [
       "                   Time  América Athlético Paranaense Atlético Goianiense  \\\n",
       "0               América        0              820.485             666.215   \n",
       "1  Athlético Paranaense  820.485                    0             972.816   \n",
       "2   Atlético Goianiense  666.215              972.816                   0   \n",
       "3      Atlético Mineiro        0              820.485             666.215   \n",
       "4                 Bahia  966.725              1786.64             1228.42   \n",
       "\n",
       "  Atlético Mineiro    Bahia Bragantino    Ceará Chapecoense Corinthians  ...  \\\n",
       "0                0  966.725      430.9  1894.08     1189.77     489.691  ...   \n",
       "1          820.485  1786.64    390.537  2672.15     381.377     338.956  ...   \n",
       "2          666.215  1228.42    752.725  1856.43     1208.38     811.308  ...   \n",
       "3                0  966.725      430.9  1894.08     1189.77     489.691  ...   \n",
       "4          966.725        0    1397.62  1028.76     2150.66     1455.69  ...   \n",
       "\n",
       "  Flamengo Fluminense Fortaleza   Grêmio Internacional Juventude Palmeiras  \\\n",
       "0  340.896    340.896   1894.08  1341.83       1341.83   1261.11   489.691   \n",
       "1  675.611    675.611   2672.15  546.903       546.903   456.486   338.956   \n",
       "2  937.644    937.644   1856.43  1498.19       1498.19   1402.42   811.308   \n",
       "3  340.896    340.896   1894.08  1341.83       1341.83   1261.11   489.691   \n",
       "4  1211.69    1211.69   1028.76  2305.24       2305.24   2226.57   1455.69   \n",
       "\n",
       "    Santos São Paulo    Sport  \n",
       "0  512.134   489.691   1640.7  \n",
       "1  338.708   338.956  2460.42  \n",
       "2  864.739   811.308     1830  \n",
       "3  512.134   489.691   1640.7  \n",
       "4  1474.19   1455.69  673.975  \n",
       "\n",
       "[5 rows x 21 columns]"
      ]
     },
     "execution_count": 34,
     "metadata": {},
     "output_type": "execute_result"
    }
   ],
   "source": [
    "for ii in range(len(lista_times_21)):\n",
    "    for jj in range(len(lista_times_21)):\n",
    "        loc1=(lista_times_21.iloc[ii,-2],lista_times_21.iloc[ii,-1])\n",
    "        loc2=(lista_times_21.iloc[jj,-2],lista_times_21.iloc[jj,-1])\n",
    "        distancias.iloc[ii,jj+1]=hs.haversine(loc1,loc2)\n",
    "\n",
    "distancias.head()"
   ]
  },
  {
   "cell_type": "code",
   "execution_count": 35,
   "metadata": {
    "colab": {
     "base_uri": "https://localhost:8080/",
     "height": 323
    },
    "id": "uIAGQRQodmvi",
    "outputId": "d073ffa5-3455-4c5d-b854-9220c47b8861"
   },
   "outputs": [
    {
     "data": {
      "text/html": [
       "<div>\n",
       "<style scoped>\n",
       "    .dataframe tbody tr th:only-of-type {\n",
       "        vertical-align: middle;\n",
       "    }\n",
       "\n",
       "    .dataframe tbody tr th {\n",
       "        vertical-align: top;\n",
       "    }\n",
       "\n",
       "    .dataframe thead th {\n",
       "        text-align: right;\n",
       "    }\n",
       "</style>\n",
       "<table border=\"1\" class=\"dataframe\">\n",
       "  <thead>\n",
       "    <tr style=\"text-align: right;\">\n",
       "      <th></th>\n",
       "      <th>América</th>\n",
       "      <th>Athlético Paranaense</th>\n",
       "      <th>Atlético Goianiense</th>\n",
       "      <th>Atlético Mineiro</th>\n",
       "      <th>Bahia</th>\n",
       "      <th>Bragantino</th>\n",
       "      <th>Ceará</th>\n",
       "      <th>Chapecoense</th>\n",
       "      <th>Corinthians</th>\n",
       "      <th>Cuiabá</th>\n",
       "      <th>Flamengo</th>\n",
       "      <th>Fluminense</th>\n",
       "      <th>Fortaleza</th>\n",
       "      <th>Grêmio</th>\n",
       "      <th>Internacional</th>\n",
       "      <th>Juventude</th>\n",
       "      <th>Palmeiras</th>\n",
       "      <th>Santos</th>\n",
       "      <th>São Paulo</th>\n",
       "      <th>Sport</th>\n",
       "    </tr>\n",
       "    <tr>\n",
       "      <th>Time</th>\n",
       "      <th></th>\n",
       "      <th></th>\n",
       "      <th></th>\n",
       "      <th></th>\n",
       "      <th></th>\n",
       "      <th></th>\n",
       "      <th></th>\n",
       "      <th></th>\n",
       "      <th></th>\n",
       "      <th></th>\n",
       "      <th></th>\n",
       "      <th></th>\n",
       "      <th></th>\n",
       "      <th></th>\n",
       "      <th></th>\n",
       "      <th></th>\n",
       "      <th></th>\n",
       "      <th></th>\n",
       "      <th></th>\n",
       "      <th></th>\n",
       "    </tr>\n",
       "  </thead>\n",
       "  <tbody>\n",
       "    <tr>\n",
       "      <th>América</th>\n",
       "      <td>0</td>\n",
       "      <td>820.485</td>\n",
       "      <td>666.215</td>\n",
       "      <td>0</td>\n",
       "      <td>966.725</td>\n",
       "      <td>430.9</td>\n",
       "      <td>1894.08</td>\n",
       "      <td>1189.77</td>\n",
       "      <td>489.691</td>\n",
       "      <td>1373.35</td>\n",
       "      <td>340.896</td>\n",
       "      <td>340.896</td>\n",
       "      <td>1894.08</td>\n",
       "      <td>1341.83</td>\n",
       "      <td>1341.83</td>\n",
       "      <td>1261.11</td>\n",
       "      <td>489.691</td>\n",
       "      <td>512.134</td>\n",
       "      <td>489.691</td>\n",
       "      <td>1640.7</td>\n",
       "    </tr>\n",
       "    <tr>\n",
       "      <th>Athlético Paranaense</th>\n",
       "      <td>820.485</td>\n",
       "      <td>0</td>\n",
       "      <td>972.816</td>\n",
       "      <td>820.485</td>\n",
       "      <td>1786.64</td>\n",
       "      <td>390.537</td>\n",
       "      <td>2672.15</td>\n",
       "      <td>381.377</td>\n",
       "      <td>338.956</td>\n",
       "      <td>1303.37</td>\n",
       "      <td>675.611</td>\n",
       "      <td>675.611</td>\n",
       "      <td>2672.15</td>\n",
       "      <td>546.903</td>\n",
       "      <td>546.903</td>\n",
       "      <td>456.486</td>\n",
       "      <td>338.956</td>\n",
       "      <td>338.708</td>\n",
       "      <td>338.956</td>\n",
       "      <td>2460.42</td>\n",
       "    </tr>\n",
       "    <tr>\n",
       "      <th>Atlético Goianiense</th>\n",
       "      <td>666.215</td>\n",
       "      <td>972.816</td>\n",
       "      <td>0</td>\n",
       "      <td>666.215</td>\n",
       "      <td>1228.42</td>\n",
       "      <td>752.725</td>\n",
       "      <td>1856.43</td>\n",
       "      <td>1208.38</td>\n",
       "      <td>811.308</td>\n",
       "      <td>741.012</td>\n",
       "      <td>937.644</td>\n",
       "      <td>937.644</td>\n",
       "      <td>1856.43</td>\n",
       "      <td>1498.19</td>\n",
       "      <td>1498.19</td>\n",
       "      <td>1402.42</td>\n",
       "      <td>811.308</td>\n",
       "      <td>864.739</td>\n",
       "      <td>811.308</td>\n",
       "      <td>1830</td>\n",
       "    </tr>\n",
       "    <tr>\n",
       "      <th>Atlético Mineiro</th>\n",
       "      <td>0</td>\n",
       "      <td>820.485</td>\n",
       "      <td>666.215</td>\n",
       "      <td>0</td>\n",
       "      <td>966.725</td>\n",
       "      <td>430.9</td>\n",
       "      <td>1894.08</td>\n",
       "      <td>1189.77</td>\n",
       "      <td>489.691</td>\n",
       "      <td>1373.35</td>\n",
       "      <td>340.896</td>\n",
       "      <td>340.896</td>\n",
       "      <td>1894.08</td>\n",
       "      <td>1341.83</td>\n",
       "      <td>1341.83</td>\n",
       "      <td>1261.11</td>\n",
       "      <td>489.691</td>\n",
       "      <td>512.134</td>\n",
       "      <td>489.691</td>\n",
       "      <td>1640.7</td>\n",
       "    </tr>\n",
       "    <tr>\n",
       "      <th>Bahia</th>\n",
       "      <td>966.725</td>\n",
       "      <td>1786.64</td>\n",
       "      <td>1228.42</td>\n",
       "      <td>966.725</td>\n",
       "      <td>0</td>\n",
       "      <td>1397.62</td>\n",
       "      <td>1028.76</td>\n",
       "      <td>2150.66</td>\n",
       "      <td>1455.69</td>\n",
       "      <td>1919.91</td>\n",
       "      <td>1211.69</td>\n",
       "      <td>1211.69</td>\n",
       "      <td>1028.76</td>\n",
       "      <td>2305.24</td>\n",
       "      <td>2305.24</td>\n",
       "      <td>2226.57</td>\n",
       "      <td>1455.69</td>\n",
       "      <td>1474.19</td>\n",
       "      <td>1455.69</td>\n",
       "      <td>673.975</td>\n",
       "    </tr>\n",
       "  </tbody>\n",
       "</table>\n",
       "</div>"
      ],
      "text/plain": [
       "                      América Athlético Paranaense Atlético Goianiense  \\\n",
       "Time                                                                     \n",
       "América                     0              820.485             666.215   \n",
       "Athlético Paranaense  820.485                    0             972.816   \n",
       "Atlético Goianiense   666.215              972.816                   0   \n",
       "Atlético Mineiro            0              820.485             666.215   \n",
       "Bahia                 966.725              1786.64             1228.42   \n",
       "\n",
       "                     Atlético Mineiro    Bahia Bragantino    Ceará  \\\n",
       "Time                                                                 \n",
       "América                             0  966.725      430.9  1894.08   \n",
       "Athlético Paranaense          820.485  1786.64    390.537  2672.15   \n",
       "Atlético Goianiense           666.215  1228.42    752.725  1856.43   \n",
       "Atlético Mineiro                    0  966.725      430.9  1894.08   \n",
       "Bahia                         966.725        0    1397.62  1028.76   \n",
       "\n",
       "                     Chapecoense Corinthians   Cuiabá Flamengo Fluminense  \\\n",
       "Time                                                                        \n",
       "América                  1189.77     489.691  1373.35  340.896    340.896   \n",
       "Athlético Paranaense     381.377     338.956  1303.37  675.611    675.611   \n",
       "Atlético Goianiense      1208.38     811.308  741.012  937.644    937.644   \n",
       "Atlético Mineiro         1189.77     489.691  1373.35  340.896    340.896   \n",
       "Bahia                    2150.66     1455.69  1919.91  1211.69    1211.69   \n",
       "\n",
       "                     Fortaleza   Grêmio Internacional Juventude Palmeiras  \\\n",
       "Time                                                                        \n",
       "América                1894.08  1341.83       1341.83   1261.11   489.691   \n",
       "Athlético Paranaense   2672.15  546.903       546.903   456.486   338.956   \n",
       "Atlético Goianiense    1856.43  1498.19       1498.19   1402.42   811.308   \n",
       "Atlético Mineiro       1894.08  1341.83       1341.83   1261.11   489.691   \n",
       "Bahia                  1028.76  2305.24       2305.24   2226.57   1455.69   \n",
       "\n",
       "                       Santos São Paulo    Sport  \n",
       "Time                                              \n",
       "América               512.134   489.691   1640.7  \n",
       "Athlético Paranaense  338.708   338.956  2460.42  \n",
       "Atlético Goianiense   864.739   811.308     1830  \n",
       "Atlético Mineiro      512.134   489.691   1640.7  \n",
       "Bahia                 1474.19   1455.69  673.975  "
      ]
     },
     "execution_count": 35,
     "metadata": {},
     "output_type": "execute_result"
    }
   ],
   "source": [
    "distancias=distancias.set_index('Time')\n",
    "distancias.head()"
   ]
  },
  {
   "cell_type": "code",
   "execution_count": 36,
   "metadata": {
    "colab": {
     "base_uri": "https://localhost:8080/"
    },
    "id": "leOkdcSOdmvj",
    "outputId": "b87126e1-8e8f-4172-c206-4ea05a13fc59"
   },
   "outputs": [
    {
     "name": "stdout",
     "output_type": "stream",
     "text": [
      "Por exemplo, a distância entre as sedes de Bahia e Grêmio é: 2305.244411273193 quilômetros.\n"
     ]
    }
   ],
   "source": [
    "print('Por exemplo, a distância entre as sedes de Bahia e Grêmio é:',distancias.loc['Bahia','Grêmio'],'quilômetros.')"
   ]
  },
  {
   "cell_type": "markdown",
   "metadata": {
    "id": "YX5pFRRcdmvj"
   },
   "source": [
    "## 5. Métrica de avaliação"
   ]
  },
  {
   "cell_type": "markdown",
   "metadata": {
    "id": "RqzLiLVndmvj"
   },
   "source": [
    "O parâmetro que usaremos para avaliação é a distância percorrida por cada equipe. Por exemplo, para o Time01, é a distância entre a sua cidade e o local da sua primeira partida, mais a distância entre o local da primeira partida e o local da segunda, e assim por diante. <br>\n",
    "Lembrando, nossas duas premissas são:\n",
    "1. Nenhum time pode jogar mais do que duas partidas seguidas em casa ou fora.\n",
    "2. O time não retorna para sua cidade após cada partida, indo diretamente para a sede da próxima partida."
   ]
  },
  {
   "cell_type": "markdown",
   "metadata": {
    "id": "rQ2Njyxwdmvj"
   },
   "source": [
    "Independente da métrica que usarmos para avaliar os genes, o vetor com a distância percorrida por cada equipe será o dado fundamental."
   ]
  },
  {
   "cell_type": "markdown",
   "metadata": {
    "id": "QxQbW1eTdmvk"
   },
   "source": [
    "Temos 3 opções para uma métrica:\n",
    "1. minimização da soma total de distâncias;\n",
    "2. minimização da diferença entre maior e menor distância percorrida;\n",
    "3. minimização do desvio padrão da distribuição de distâncias."
   ]
  },
  {
   "cell_type": "markdown",
   "metadata": {
    "id": "boIO2qe3dmvk"
   },
   "source": [
    "Para o nosso exercício, queremos minimizar o impacto de longas viagens no desempenho dos times. Com isso em mente, vamos nos concentrar na opção 3, minimizar o desvio padrão da distribuição das distâncias. Podemos ter *outliers* com distâncias muito grandes ou muito pequenas, mas garantimos que a maior parte das equipes fique próxima da média."
   ]
  },
  {
   "cell_type": "markdown",
   "metadata": {
    "id": "NY_ZMH00dmvk"
   },
   "source": [
    "Abaixo, vamos montar o percurso de cada time, somar a distância viajada e depois calcular o desvio padrão da distribuição gerada. Uma vez entendido o processo, criaremos uma função que será chamada para avaliar cada solução proposta pelo nosso algoritmo."
   ]
  },
  {
   "cell_type": "markdown",
   "metadata": {
    "id": "QBAU26Phdmvn"
   },
   "source": [
    "Com base na tabela de mandos de campo e de enfrentamentos, vamos construir o percurso de cada time, começando e terminando em sua casa. "
   ]
  },
  {
   "cell_type": "code",
   "execution_count": 37,
   "metadata": {
    "colab": {
     "base_uri": "https://localhost:8080/",
     "height": 689
    },
    "id": "LR2ZDr2Vdmvo",
    "outputId": "20874c4b-674d-4a72-de9c-ed58f2454925"
   },
   "outputs": [
    {
     "data": {
      "text/html": [
       "<div>\n",
       "<style scoped>\n",
       "    .dataframe tbody tr th:only-of-type {\n",
       "        vertical-align: middle;\n",
       "    }\n",
       "\n",
       "    .dataframe tbody tr th {\n",
       "        vertical-align: top;\n",
       "    }\n",
       "\n",
       "    .dataframe thead th {\n",
       "        text-align: right;\n",
       "    }\n",
       "</style>\n",
       "<table border=\"1\" class=\"dataframe\">\n",
       "  <thead>\n",
       "    <tr style=\"text-align: right;\">\n",
       "      <th></th>\n",
       "      <th>0</th>\n",
       "      <th>1</th>\n",
       "      <th>2</th>\n",
       "      <th>3</th>\n",
       "      <th>4</th>\n",
       "      <th>5</th>\n",
       "      <th>6</th>\n",
       "      <th>7</th>\n",
       "      <th>8</th>\n",
       "      <th>9</th>\n",
       "      <th>...</th>\n",
       "      <th>30</th>\n",
       "      <th>31</th>\n",
       "      <th>32</th>\n",
       "      <th>33</th>\n",
       "      <th>34</th>\n",
       "      <th>35</th>\n",
       "      <th>36</th>\n",
       "      <th>37</th>\n",
       "      <th>38</th>\n",
       "      <th>39</th>\n",
       "    </tr>\n",
       "  </thead>\n",
       "  <tbody>\n",
       "    <tr>\n",
       "      <th>0</th>\n",
       "      <td>Time01</td>\n",
       "      <td>Time11</td>\n",
       "      <td>Time01</td>\n",
       "      <td>Time17</td>\n",
       "      <td>Time01</td>\n",
       "      <td>Time01</td>\n",
       "      <td>Time03</td>\n",
       "      <td>Time01</td>\n",
       "      <td>Time20</td>\n",
       "      <td>Time01</td>\n",
       "      <td>...</td>\n",
       "      <td>Time01</td>\n",
       "      <td>Time04</td>\n",
       "      <td>Time01</td>\n",
       "      <td>Time06</td>\n",
       "      <td>Time01</td>\n",
       "      <td>Time07</td>\n",
       "      <td>Time01</td>\n",
       "      <td>Time13</td>\n",
       "      <td>Time01</td>\n",
       "      <td>Time01</td>\n",
       "    </tr>\n",
       "    <tr>\n",
       "      <th>1</th>\n",
       "      <td>Time02</td>\n",
       "      <td>Time07</td>\n",
       "      <td>Time02</td>\n",
       "      <td>Time02</td>\n",
       "      <td>Time14</td>\n",
       "      <td>Time12</td>\n",
       "      <td>Time02</td>\n",
       "      <td>Time10</td>\n",
       "      <td>Time02</td>\n",
       "      <td>Time20</td>\n",
       "      <td>...</td>\n",
       "      <td>Time03</td>\n",
       "      <td>Time05</td>\n",
       "      <td>Time02</td>\n",
       "      <td>Time02</td>\n",
       "      <td>Time16</td>\n",
       "      <td>Time02</td>\n",
       "      <td>Time01</td>\n",
       "      <td>Time15</td>\n",
       "      <td>Time02</td>\n",
       "      <td>Time02</td>\n",
       "    </tr>\n",
       "    <tr>\n",
       "      <th>2</th>\n",
       "      <td>Time03</td>\n",
       "      <td>Time09</td>\n",
       "      <td>Time03</td>\n",
       "      <td>Time03</td>\n",
       "      <td>Time05</td>\n",
       "      <td>Time14</td>\n",
       "      <td>Time03</td>\n",
       "      <td>Time03</td>\n",
       "      <td>Time08</td>\n",
       "      <td>Time17</td>\n",
       "      <td>...</td>\n",
       "      <td>Time03</td>\n",
       "      <td>Time13</td>\n",
       "      <td>Time20</td>\n",
       "      <td>Time03</td>\n",
       "      <td>Time12</td>\n",
       "      <td>Time10</td>\n",
       "      <td>Time03</td>\n",
       "      <td>Time19</td>\n",
       "      <td>Time03</td>\n",
       "      <td>Time03</td>\n",
       "    </tr>\n",
       "    <tr>\n",
       "      <th>3</th>\n",
       "      <td>Time04</td>\n",
       "      <td>Time05</td>\n",
       "      <td>Time04</td>\n",
       "      <td>Time04</td>\n",
       "      <td>Time18</td>\n",
       "      <td>Time06</td>\n",
       "      <td>Time04</td>\n",
       "      <td>Time04</td>\n",
       "      <td>Time14</td>\n",
       "      <td>Time04</td>\n",
       "      <td>...</td>\n",
       "      <td>Time04</td>\n",
       "      <td>Time04</td>\n",
       "      <td>Time19</td>\n",
       "      <td>Time20</td>\n",
       "      <td>Time04</td>\n",
       "      <td>Time04</td>\n",
       "      <td>Time03</td>\n",
       "      <td>Time11</td>\n",
       "      <td>Time04</td>\n",
       "      <td>Time04</td>\n",
       "    </tr>\n",
       "    <tr>\n",
       "      <th>4</th>\n",
       "      <td>Time05</td>\n",
       "      <td>Time05</td>\n",
       "      <td>Time16</td>\n",
       "      <td>Time11</td>\n",
       "      <td>Time05</td>\n",
       "      <td>Time09</td>\n",
       "      <td>Time05</td>\n",
       "      <td>Time05</td>\n",
       "      <td>Time07</td>\n",
       "      <td>Time01</td>\n",
       "      <td>...</td>\n",
       "      <td>Time17</td>\n",
       "      <td>Time05</td>\n",
       "      <td>Time10</td>\n",
       "      <td>Time15</td>\n",
       "      <td>Time05</td>\n",
       "      <td>Time05</td>\n",
       "      <td>Time12</td>\n",
       "      <td>Time05</td>\n",
       "      <td>Time06</td>\n",
       "      <td>Time05</td>\n",
       "    </tr>\n",
       "    <tr>\n",
       "      <th>5</th>\n",
       "      <td>Time06</td>\n",
       "      <td>Time19</td>\n",
       "      <td>Time06</td>\n",
       "      <td>Time03</td>\n",
       "      <td>Time06</td>\n",
       "      <td>Time06</td>\n",
       "      <td>Time02</td>\n",
       "      <td>Time06</td>\n",
       "      <td>Time06</td>\n",
       "      <td>Time14</td>\n",
       "      <td>...</td>\n",
       "      <td>Time06</td>\n",
       "      <td>Time12</td>\n",
       "      <td>Time06</td>\n",
       "      <td>Time06</td>\n",
       "      <td>Time07</td>\n",
       "      <td>Time18</td>\n",
       "      <td>Time06</td>\n",
       "      <td>Time08</td>\n",
       "      <td>Time06</td>\n",
       "      <td>Time06</td>\n",
       "    </tr>\n",
       "    <tr>\n",
       "      <th>6</th>\n",
       "      <td>Time07</td>\n",
       "      <td>Time07</td>\n",
       "      <td>Time03</td>\n",
       "      <td>Time13</td>\n",
       "      <td>Time07</td>\n",
       "      <td>Time07</td>\n",
       "      <td>Time18</td>\n",
       "      <td>Time12</td>\n",
       "      <td>Time07</td>\n",
       "      <td>Time07</td>\n",
       "      <td>...</td>\n",
       "      <td>Time04</td>\n",
       "      <td>Time07</td>\n",
       "      <td>Time07</td>\n",
       "      <td>Time17</td>\n",
       "      <td>Time07</td>\n",
       "      <td>Time07</td>\n",
       "      <td>Time09</td>\n",
       "      <td>Time07</td>\n",
       "      <td>Time14</td>\n",
       "      <td>Time07</td>\n",
       "    </tr>\n",
       "    <tr>\n",
       "      <th>7</th>\n",
       "      <td>Time08</td>\n",
       "      <td>Time08</td>\n",
       "      <td>Time04</td>\n",
       "      <td>Time08</td>\n",
       "      <td>Time08</td>\n",
       "      <td>Time16</td>\n",
       "      <td>Time08</td>\n",
       "      <td>Time05</td>\n",
       "      <td>Time08</td>\n",
       "      <td>Time12</td>\n",
       "      <td>...</td>\n",
       "      <td>Time20</td>\n",
       "      <td>Time08</td>\n",
       "      <td>Time18</td>\n",
       "      <td>Time08</td>\n",
       "      <td>Time11</td>\n",
       "      <td>Time08</td>\n",
       "      <td>Time17</td>\n",
       "      <td>Time08</td>\n",
       "      <td>Time02</td>\n",
       "      <td>Time08</td>\n",
       "    </tr>\n",
       "    <tr>\n",
       "      <th>8</th>\n",
       "      <td>Time09</td>\n",
       "      <td>Time09</td>\n",
       "      <td>Time02</td>\n",
       "      <td>Time08</td>\n",
       "      <td>Time09</td>\n",
       "      <td>Time09</td>\n",
       "      <td>Time17</td>\n",
       "      <td>Time04</td>\n",
       "      <td>Time09</td>\n",
       "      <td>Time09</td>\n",
       "      <td>...</td>\n",
       "      <td>Time12</td>\n",
       "      <td>Time09</td>\n",
       "      <td>Time01</td>\n",
       "      <td>Time19</td>\n",
       "      <td>Time09</td>\n",
       "      <td>Time16</td>\n",
       "      <td>Time09</td>\n",
       "      <td>Time09</td>\n",
       "      <td>Time18</td>\n",
       "      <td>Time09</td>\n",
       "    </tr>\n",
       "    <tr>\n",
       "      <th>9</th>\n",
       "      <td>Time10</td>\n",
       "      <td>Time13</td>\n",
       "      <td>Time10</td>\n",
       "      <td>Time10</td>\n",
       "      <td>Time16</td>\n",
       "      <td>Time01</td>\n",
       "      <td>Time10</td>\n",
       "      <td>Time10</td>\n",
       "      <td>Time18</td>\n",
       "      <td>Time09</td>\n",
       "      <td>...</td>\n",
       "      <td>Time10</td>\n",
       "      <td>Time08</td>\n",
       "      <td>Time10</td>\n",
       "      <td>Time10</td>\n",
       "      <td>Time04</td>\n",
       "      <td>Time10</td>\n",
       "      <td>Time06</td>\n",
       "      <td>Time17</td>\n",
       "      <td>Time10</td>\n",
       "      <td>Time10</td>\n",
       "    </tr>\n",
       "    <tr>\n",
       "      <th>10</th>\n",
       "      <td>Time11</td>\n",
       "      <td>Time11</td>\n",
       "      <td>Time18</td>\n",
       "      <td>Time11</td>\n",
       "      <td>Time12</td>\n",
       "      <td>Time07</td>\n",
       "      <td>Time11</td>\n",
       "      <td>Time06</td>\n",
       "      <td>Time09</td>\n",
       "      <td>Time11</td>\n",
       "      <td>...</td>\n",
       "      <td>Time14</td>\n",
       "      <td>Time11</td>\n",
       "      <td>Time02</td>\n",
       "      <td>Time03</td>\n",
       "      <td>Time11</td>\n",
       "      <td>Time11</td>\n",
       "      <td>Time15</td>\n",
       "      <td>Time11</td>\n",
       "      <td>Time10</td>\n",
       "      <td>Time11</td>\n",
       "    </tr>\n",
       "    <tr>\n",
       "      <th>11</th>\n",
       "      <td>Time12</td>\n",
       "      <td>Time12</td>\n",
       "      <td>Time01</td>\n",
       "      <td>Time15</td>\n",
       "      <td>Time12</td>\n",
       "      <td>Time12</td>\n",
       "      <td>Time13</td>\n",
       "      <td>Time12</td>\n",
       "      <td>Time19</td>\n",
       "      <td>Time12</td>\n",
       "      <td>...</td>\n",
       "      <td>Time12</td>\n",
       "      <td>Time12</td>\n",
       "      <td>Time17</td>\n",
       "      <td>Time10</td>\n",
       "      <td>Time12</td>\n",
       "      <td>Time04</td>\n",
       "      <td>Time12</td>\n",
       "      <td>Time12</td>\n",
       "      <td>Time20</td>\n",
       "      <td>Time12</td>\n",
       "    </tr>\n",
       "    <tr>\n",
       "      <th>12</th>\n",
       "      <td>Time13</td>\n",
       "      <td>Time13</td>\n",
       "      <td>Time06</td>\n",
       "      <td>Time13</td>\n",
       "      <td>Time09</td>\n",
       "      <td>Time20</td>\n",
       "      <td>Time13</td>\n",
       "      <td>Time13</td>\n",
       "      <td>Time02</td>\n",
       "      <td>Time04</td>\n",
       "      <td>...</td>\n",
       "      <td>Time15</td>\n",
       "      <td>Time13</td>\n",
       "      <td>Time14</td>\n",
       "      <td>Time08</td>\n",
       "      <td>Time13</td>\n",
       "      <td>Time05</td>\n",
       "      <td>Time13</td>\n",
       "      <td>Time13</td>\n",
       "      <td>Time16</td>\n",
       "      <td>Time13</td>\n",
       "    </tr>\n",
       "    <tr>\n",
       "      <th>13</th>\n",
       "      <td>Time14</td>\n",
       "      <td>Time08</td>\n",
       "      <td>Time14</td>\n",
       "      <td>Time10</td>\n",
       "      <td>Time14</td>\n",
       "      <td>Time14</td>\n",
       "      <td>Time05</td>\n",
       "      <td>Time15</td>\n",
       "      <td>Time14</td>\n",
       "      <td>Time14</td>\n",
       "      <td>...</td>\n",
       "      <td>Time14</td>\n",
       "      <td>Time18</td>\n",
       "      <td>Time14</td>\n",
       "      <td>Time14</td>\n",
       "      <td>Time01</td>\n",
       "      <td>Time14</td>\n",
       "      <td>Time20</td>\n",
       "      <td>Time09</td>\n",
       "      <td>Time14</td>\n",
       "      <td>Time14</td>\n",
       "    </tr>\n",
       "    <tr>\n",
       "      <th>14</th>\n",
       "      <td>Time15</td>\n",
       "      <td>Time15</td>\n",
       "      <td>Time10</td>\n",
       "      <td>Time15</td>\n",
       "      <td>Time01</td>\n",
       "      <td>Time15</td>\n",
       "      <td>Time04</td>\n",
       "      <td>Time15</td>\n",
       "      <td>Time16</td>\n",
       "      <td>Time07</td>\n",
       "      <td>...</td>\n",
       "      <td>Time15</td>\n",
       "      <td>Time09</td>\n",
       "      <td>Time06</td>\n",
       "      <td>Time15</td>\n",
       "      <td>Time18</td>\n",
       "      <td>Time08</td>\n",
       "      <td>Time15</td>\n",
       "      <td>Time15</td>\n",
       "      <td>Time03</td>\n",
       "      <td>Time15</td>\n",
       "    </tr>\n",
       "    <tr>\n",
       "      <th>15</th>\n",
       "      <td>Time16</td>\n",
       "      <td>Time17</td>\n",
       "      <td>Time16</td>\n",
       "      <td>Time04</td>\n",
       "      <td>Time16</td>\n",
       "      <td>Time16</td>\n",
       "      <td>Time11</td>\n",
       "      <td>Time01</td>\n",
       "      <td>Time16</td>\n",
       "      <td>Time18</td>\n",
       "      <td>...</td>\n",
       "      <td>Time06</td>\n",
       "      <td>Time16</td>\n",
       "      <td>Time07</td>\n",
       "      <td>Time14</td>\n",
       "      <td>Time16</td>\n",
       "      <td>Time16</td>\n",
       "      <td>Time19</td>\n",
       "      <td>Time12</td>\n",
       "      <td>Time16</td>\n",
       "      <td>Time16</td>\n",
       "    </tr>\n",
       "    <tr>\n",
       "      <th>16</th>\n",
       "      <td>Time17</td>\n",
       "      <td>Time17</td>\n",
       "      <td>Time14</td>\n",
       "      <td>Time17</td>\n",
       "      <td>Time19</td>\n",
       "      <td>Time15</td>\n",
       "      <td>Time17</td>\n",
       "      <td>Time17</td>\n",
       "      <td>Time06</td>\n",
       "      <td>Time17</td>\n",
       "      <td>...</td>\n",
       "      <td>Time17</td>\n",
       "      <td>Time11</td>\n",
       "      <td>Time17</td>\n",
       "      <td>Time17</td>\n",
       "      <td>Time13</td>\n",
       "      <td>Time02</td>\n",
       "      <td>Time17</td>\n",
       "      <td>Time17</td>\n",
       "      <td>Time04</td>\n",
       "      <td>Time17</td>\n",
       "    </tr>\n",
       "    <tr>\n",
       "      <th>17</th>\n",
       "      <td>Time18</td>\n",
       "      <td>Time12</td>\n",
       "      <td>Time18</td>\n",
       "      <td>Time20</td>\n",
       "      <td>Time18</td>\n",
       "      <td>Time19</td>\n",
       "      <td>Time18</td>\n",
       "      <td>Time03</td>\n",
       "      <td>Time18</td>\n",
       "      <td>Time18</td>\n",
       "      <td>...</td>\n",
       "      <td>Time01</td>\n",
       "      <td>Time18</td>\n",
       "      <td>Time18</td>\n",
       "      <td>Time02</td>\n",
       "      <td>Time18</td>\n",
       "      <td>Time18</td>\n",
       "      <td>Time13</td>\n",
       "      <td>Time05</td>\n",
       "      <td>Time18</td>\n",
       "      <td>Time18</td>\n",
       "    </tr>\n",
       "    <tr>\n",
       "      <th>18</th>\n",
       "      <td>Time19</td>\n",
       "      <td>Time19</td>\n",
       "      <td>Time20</td>\n",
       "      <td>Time02</td>\n",
       "      <td>Time19</td>\n",
       "      <td>Time19</td>\n",
       "      <td>Time08</td>\n",
       "      <td>Time13</td>\n",
       "      <td>Time19</td>\n",
       "      <td>Time11</td>\n",
       "      <td>...</td>\n",
       "      <td>Time10</td>\n",
       "      <td>Time07</td>\n",
       "      <td>Time19</td>\n",
       "      <td>Time19</td>\n",
       "      <td>Time05</td>\n",
       "      <td>Time14</td>\n",
       "      <td>Time19</td>\n",
       "      <td>Time19</td>\n",
       "      <td>Time01</td>\n",
       "      <td>Time19</td>\n",
       "    </tr>\n",
       "    <tr>\n",
       "      <th>19</th>\n",
       "      <td>Time20</td>\n",
       "      <td>Time15</td>\n",
       "      <td>Time20</td>\n",
       "      <td>Time20</td>\n",
       "      <td>Time06</td>\n",
       "      <td>Time20</td>\n",
       "      <td>Time10</td>\n",
       "      <td>Time17</td>\n",
       "      <td>Time20</td>\n",
       "      <td>Time20</td>\n",
       "      <td>...</td>\n",
       "      <td>Time20</td>\n",
       "      <td>Time16</td>\n",
       "      <td>Time20</td>\n",
       "      <td>Time20</td>\n",
       "      <td>Time09</td>\n",
       "      <td>Time11</td>\n",
       "      <td>Time20</td>\n",
       "      <td>Time07</td>\n",
       "      <td>Time20</td>\n",
       "      <td>Time20</td>\n",
       "    </tr>\n",
       "  </tbody>\n",
       "</table>\n",
       "<p>20 rows × 40 columns</p>\n",
       "</div>"
      ],
      "text/plain": [
       "        0       1       2       3       4       5       6       7       8   \\\n",
       "0   Time01  Time11  Time01  Time17  Time01  Time01  Time03  Time01  Time20   \n",
       "1   Time02  Time07  Time02  Time02  Time14  Time12  Time02  Time10  Time02   \n",
       "2   Time03  Time09  Time03  Time03  Time05  Time14  Time03  Time03  Time08   \n",
       "3   Time04  Time05  Time04  Time04  Time18  Time06  Time04  Time04  Time14   \n",
       "4   Time05  Time05  Time16  Time11  Time05  Time09  Time05  Time05  Time07   \n",
       "5   Time06  Time19  Time06  Time03  Time06  Time06  Time02  Time06  Time06   \n",
       "6   Time07  Time07  Time03  Time13  Time07  Time07  Time18  Time12  Time07   \n",
       "7   Time08  Time08  Time04  Time08  Time08  Time16  Time08  Time05  Time08   \n",
       "8   Time09  Time09  Time02  Time08  Time09  Time09  Time17  Time04  Time09   \n",
       "9   Time10  Time13  Time10  Time10  Time16  Time01  Time10  Time10  Time18   \n",
       "10  Time11  Time11  Time18  Time11  Time12  Time07  Time11  Time06  Time09   \n",
       "11  Time12  Time12  Time01  Time15  Time12  Time12  Time13  Time12  Time19   \n",
       "12  Time13  Time13  Time06  Time13  Time09  Time20  Time13  Time13  Time02   \n",
       "13  Time14  Time08  Time14  Time10  Time14  Time14  Time05  Time15  Time14   \n",
       "14  Time15  Time15  Time10  Time15  Time01  Time15  Time04  Time15  Time16   \n",
       "15  Time16  Time17  Time16  Time04  Time16  Time16  Time11  Time01  Time16   \n",
       "16  Time17  Time17  Time14  Time17  Time19  Time15  Time17  Time17  Time06   \n",
       "17  Time18  Time12  Time18  Time20  Time18  Time19  Time18  Time03  Time18   \n",
       "18  Time19  Time19  Time20  Time02  Time19  Time19  Time08  Time13  Time19   \n",
       "19  Time20  Time15  Time20  Time20  Time06  Time20  Time10  Time17  Time20   \n",
       "\n",
       "        9   ...      30      31      32      33      34      35      36  \\\n",
       "0   Time01  ...  Time01  Time04  Time01  Time06  Time01  Time07  Time01   \n",
       "1   Time20  ...  Time03  Time05  Time02  Time02  Time16  Time02  Time01   \n",
       "2   Time17  ...  Time03  Time13  Time20  Time03  Time12  Time10  Time03   \n",
       "3   Time04  ...  Time04  Time04  Time19  Time20  Time04  Time04  Time03   \n",
       "4   Time01  ...  Time17  Time05  Time10  Time15  Time05  Time05  Time12   \n",
       "5   Time14  ...  Time06  Time12  Time06  Time06  Time07  Time18  Time06   \n",
       "6   Time07  ...  Time04  Time07  Time07  Time17  Time07  Time07  Time09   \n",
       "7   Time12  ...  Time20  Time08  Time18  Time08  Time11  Time08  Time17   \n",
       "8   Time09  ...  Time12  Time09  Time01  Time19  Time09  Time16  Time09   \n",
       "9   Time09  ...  Time10  Time08  Time10  Time10  Time04  Time10  Time06   \n",
       "10  Time11  ...  Time14  Time11  Time02  Time03  Time11  Time11  Time15   \n",
       "11  Time12  ...  Time12  Time12  Time17  Time10  Time12  Time04  Time12   \n",
       "12  Time04  ...  Time15  Time13  Time14  Time08  Time13  Time05  Time13   \n",
       "13  Time14  ...  Time14  Time18  Time14  Time14  Time01  Time14  Time20   \n",
       "14  Time07  ...  Time15  Time09  Time06  Time15  Time18  Time08  Time15   \n",
       "15  Time18  ...  Time06  Time16  Time07  Time14  Time16  Time16  Time19   \n",
       "16  Time17  ...  Time17  Time11  Time17  Time17  Time13  Time02  Time17   \n",
       "17  Time18  ...  Time01  Time18  Time18  Time02  Time18  Time18  Time13   \n",
       "18  Time11  ...  Time10  Time07  Time19  Time19  Time05  Time14  Time19   \n",
       "19  Time20  ...  Time20  Time16  Time20  Time20  Time09  Time11  Time20   \n",
       "\n",
       "        37      38      39  \n",
       "0   Time13  Time01  Time01  \n",
       "1   Time15  Time02  Time02  \n",
       "2   Time19  Time03  Time03  \n",
       "3   Time11  Time04  Time04  \n",
       "4   Time05  Time06  Time05  \n",
       "5   Time08  Time06  Time06  \n",
       "6   Time07  Time14  Time07  \n",
       "7   Time08  Time02  Time08  \n",
       "8   Time09  Time18  Time09  \n",
       "9   Time17  Time10  Time10  \n",
       "10  Time11  Time10  Time11  \n",
       "11  Time12  Time20  Time12  \n",
       "12  Time13  Time16  Time13  \n",
       "13  Time09  Time14  Time14  \n",
       "14  Time15  Time03  Time15  \n",
       "15  Time12  Time16  Time16  \n",
       "16  Time17  Time04  Time17  \n",
       "17  Time05  Time18  Time18  \n",
       "18  Time19  Time01  Time19  \n",
       "19  Time07  Time20  Time20  \n",
       "\n",
       "[20 rows x 40 columns]"
      ]
     },
     "execution_count": 37,
     "metadata": {},
     "output_type": "execute_result"
    }
   ],
   "source": [
    "rodadas=['Rodada 1', 'Rodada 2', 'Rodada 3', 'Rodada 4', 'Rodada 5', 'Rodada 6', 'Rodada 7', 'Rodada 8', \n",
    "         'Rodada 9', 'Rodada 10', 'Rodada 11', 'Rodada 12', 'Rodada 13', 'Rodada 14', 'Rodada 15', 'Rodada 16', \n",
    "         'Rodada 17', 'Rodada 18', 'Rodada 19']\n",
    "\n",
    "percursos=[]\n",
    "for jj in range(len(generico)):\n",
    "    percurso_time=[generico[jj]]+2*enfrentamentos.loc[generico[jj],:].tolist()+[generico[jj]]\n",
    "    for ii in range(len(rodadas)):\n",
    "        if mando.loc[generico[jj],rodadas[ii]]==0:\n",
    "            percurso_time[ii+1]=generico[jj]\n",
    "        else:\n",
    "            percurso_time[ii+20]=generico[jj]\n",
    "\n",
    "    percursos.append(percurso_time)\n",
    "    \n",
    "percursos=pd.DataFrame(percursos)\n",
    "percursos"
   ]
  },
  {
   "cell_type": "markdown",
   "metadata": {
    "id": "8IiH5sPbdmvo"
   },
   "source": [
    "Para podermos testar\n",
    " métrica de avaliação, vamos fazer um teste com os times em ordem alfabética."
   ]
  },
  {
   "cell_type": "code",
   "execution_count": 38,
   "metadata": {
    "colab": {
     "base_uri": "https://localhost:8080/",
     "height": 700
    },
    "id": "FwK7KEU1dmvp",
    "outputId": "741cd9c1-ec9a-4404-a40d-20f0a715ae48"
   },
   "outputs": [
    {
     "data": {
      "text/html": [
       "<div>\n",
       "<style scoped>\n",
       "    .dataframe tbody tr th:only-of-type {\n",
       "        vertical-align: middle;\n",
       "    }\n",
       "\n",
       "    .dataframe tbody tr th {\n",
       "        vertical-align: top;\n",
       "    }\n",
       "\n",
       "    .dataframe thead th {\n",
       "        text-align: right;\n",
       "    }\n",
       "</style>\n",
       "<table border=\"1\" class=\"dataframe\">\n",
       "  <thead>\n",
       "    <tr style=\"text-align: right;\">\n",
       "      <th></th>\n",
       "      <th>Equipe</th>\n",
       "    </tr>\n",
       "    <tr>\n",
       "      <th>Time</th>\n",
       "      <th></th>\n",
       "    </tr>\n",
       "  </thead>\n",
       "  <tbody>\n",
       "    <tr>\n",
       "      <th>Time01</th>\n",
       "      <td>América</td>\n",
       "    </tr>\n",
       "    <tr>\n",
       "      <th>Time02</th>\n",
       "      <td>Athlético Paranaense</td>\n",
       "    </tr>\n",
       "    <tr>\n",
       "      <th>Time03</th>\n",
       "      <td>Atlético Goianiense</td>\n",
       "    </tr>\n",
       "    <tr>\n",
       "      <th>Time04</th>\n",
       "      <td>Atlético Mineiro</td>\n",
       "    </tr>\n",
       "    <tr>\n",
       "      <th>Time05</th>\n",
       "      <td>Bahia</td>\n",
       "    </tr>\n",
       "    <tr>\n",
       "      <th>Time06</th>\n",
       "      <td>Bragantino</td>\n",
       "    </tr>\n",
       "    <tr>\n",
       "      <th>Time07</th>\n",
       "      <td>Ceará</td>\n",
       "    </tr>\n",
       "    <tr>\n",
       "      <th>Time08</th>\n",
       "      <td>Chapecoense</td>\n",
       "    </tr>\n",
       "    <tr>\n",
       "      <th>Time09</th>\n",
       "      <td>Corinthians</td>\n",
       "    </tr>\n",
       "    <tr>\n",
       "      <th>Time10</th>\n",
       "      <td>Cuiabá</td>\n",
       "    </tr>\n",
       "    <tr>\n",
       "      <th>Time11</th>\n",
       "      <td>Flamengo</td>\n",
       "    </tr>\n",
       "    <tr>\n",
       "      <th>Time12</th>\n",
       "      <td>Fluminense</td>\n",
       "    </tr>\n",
       "    <tr>\n",
       "      <th>Time13</th>\n",
       "      <td>Fortaleza</td>\n",
       "    </tr>\n",
       "    <tr>\n",
       "      <th>Time14</th>\n",
       "      <td>Grêmio</td>\n",
       "    </tr>\n",
       "    <tr>\n",
       "      <th>Time15</th>\n",
       "      <td>Internacional</td>\n",
       "    </tr>\n",
       "    <tr>\n",
       "      <th>Time16</th>\n",
       "      <td>Juventude</td>\n",
       "    </tr>\n",
       "    <tr>\n",
       "      <th>Time17</th>\n",
       "      <td>Palmeiras</td>\n",
       "    </tr>\n",
       "    <tr>\n",
       "      <th>Time18</th>\n",
       "      <td>Santos</td>\n",
       "    </tr>\n",
       "    <tr>\n",
       "      <th>Time19</th>\n",
       "      <td>São Paulo</td>\n",
       "    </tr>\n",
       "    <tr>\n",
       "      <th>Time20</th>\n",
       "      <td>Sport</td>\n",
       "    </tr>\n",
       "  </tbody>\n",
       "</table>\n",
       "</div>"
      ],
      "text/plain": [
       "                      Equipe\n",
       "Time                        \n",
       "Time01               América\n",
       "Time02  Athlético Paranaense\n",
       "Time03   Atlético Goianiense\n",
       "Time04      Atlético Mineiro\n",
       "Time05                 Bahia\n",
       "Time06            Bragantino\n",
       "Time07                 Ceará\n",
       "Time08           Chapecoense\n",
       "Time09           Corinthians\n",
       "Time10                Cuiabá\n",
       "Time11              Flamengo\n",
       "Time12            Fluminense\n",
       "Time13             Fortaleza\n",
       "Time14                Grêmio\n",
       "Time15         Internacional\n",
       "Time16             Juventude\n",
       "Time17             Palmeiras\n",
       "Time18                Santos\n",
       "Time19             São Paulo\n",
       "Time20                 Sport"
      ]
     },
     "execution_count": 38,
     "metadata": {},
     "output_type": "execute_result"
    }
   ],
   "source": [
    "lista_times['Equipe']=lista_times_21['Time'].tolist()\n",
    "lista_times"
   ]
  },
  {
   "cell_type": "code",
   "execution_count": 39,
   "metadata": {
    "colab": {
     "base_uri": "https://localhost:8080/"
    },
    "id": "22REg87ydmvp",
    "outputId": "da8de456-8eab-4cf2-ab3e-e9b66dc4f604"
   },
   "outputs": [
    {
     "data": {
      "text/plain": [
       "[33927.29234496006,\n",
       " 32426.72047417231,\n",
       " 36496.76628806729,\n",
       " 30730.49655365603,\n",
       " 47255.36940387756,\n",
       " 30670.87047040624,\n",
       " 61438.53820635262,\n",
       " 38094.91917244623,\n",
       " 28040.881925323665,\n",
       " 45986.311788132385,\n",
       " 33528.92657628771,\n",
       " 31681.023815858836,\n",
       " 59378.06414520614,\n",
       " 43220.460073022296,\n",
       " 46907.126544911815,\n",
       " 41491.07801763534,\n",
       " 30336.391699852356,\n",
       " 27631.877140120123,\n",
       " 29895.210878326485,\n",
       " 57428.050655022]"
      ]
     },
     "execution_count": 39,
     "metadata": {},
     "output_type": "execute_result"
    }
   ],
   "source": [
    "percorrido=[]\n",
    "for ii in range(percursos.shape[0]):\n",
    "    viagens=0\n",
    "    for jj in range(percursos.shape[1]-1):\n",
    "        viagens += distancias.loc[lista_times.loc[percursos.iloc[ii,jj],'Equipe'],\n",
    "                                  lista_times.loc[percursos.iloc[ii,jj+1],'Equipe']]\n",
    "    \n",
    "    percorrido.append(viagens)\n",
    "\n",
    "percorrido"
   ]
  },
  {
   "cell_type": "code",
   "execution_count": 40,
   "metadata": {
    "colab": {
     "base_uri": "https://localhost:8080/",
     "height": 295
    },
    "id": "pvvhJDladmvp",
    "outputId": "4ce832cd-c7e1-4b5b-8d4c-cacd01642e78"
   },
   "outputs": [
    {
     "data": {
      "image/png": "[encoded data removed]",
      "text/plain": [
       "<Figure size 432x288 with 1 Axes>"
      ]
     },
     "metadata": {
      "needs_background": "light"
     },
     "output_type": "display_data"
    }
   ],
   "source": [
    "plt.hist(percorrido, bins = 6)\n",
    "plt.xlabel('Total viajado')\n",
    "plt.ylabel('Número de Equipes')\n",
    "plt.title('Distribuição de distância')\n",
    "plt.show()"
   ]
  },
  {
   "cell_type": "markdown",
   "metadata": {
    "id": "PROc3ISqfx0V"
   },
   "source": [
    "A primeira métrica, que é a mais simples, é tentar minizar a distância total percorrida pelos times"
   ]
  },
  {
   "cell_type": "code",
   "execution_count": 41,
   "metadata": {
    "colab": {
     "base_uri": "https://localhost:8080/"
    },
    "id": "ObrBSh4mfxjK",
    "outputId": "af1d7b03-42e1-49a3-d074-0a98a032aef9"
   },
   "outputs": [
    {
     "name": "stdout",
     "output_type": "stream",
     "text": [
      "A distância total para esse arranjo de times, mandos e enfrentamentos é: 786566.3761736375\n"
     ]
    }
   ],
   "source": [
    "distancia_total = np.sum(percorrido)\n",
    "print('A distância total para esse arranjo de times, mandos e enfrentamentos é:',distancia_total)"
   ]
  },
  {
   "cell_type": "markdown",
   "metadata": {
    "id": "_3L-rE_Hfwy0"
   },
   "source": [
    "A segunda métrica consiste em minimizar a distância entre o time que viaja mais e o time que viaja menos."
   ]
  },
  {
   "cell_type": "code",
   "execution_count": 42,
   "metadata": {
    "colab": {
     "base_uri": "https://localhost:8080/"
    },
    "id": "mfsOT25_fv_N",
    "outputId": "64915697-6150-4e9b-88a8-e68de81aa51b"
   },
   "outputs": [
    {
     "name": "stdout",
     "output_type": "stream",
     "text": [
      "A diferença entre o time que viaja mais e o que viaja menos para esse arranjo de times, mandos e enfrentamentos é: 33806.6610662325\n"
     ]
    }
   ],
   "source": [
    "diferenca = max(percorrido) - min(percorrido)\n",
    "print('A diferença entre o time que viaja mais e o que viaja menos para esse arranjo de times, mandos e enfrentamentos é:',diferenca)"
   ]
  },
  {
   "cell_type": "markdown",
   "metadata": {
    "id": "XP5z_ktRdmvq"
   },
   "source": [
    "Tendo a distribuição de distâncias percorridas, podemos calcular o desvio padrão, que será a terceira métrica que tentaremos minimizar."
   ]
  },
  {
   "cell_type": "code",
   "execution_count": 43,
   "metadata": {
    "colab": {
     "base_uri": "https://localhost:8080/"
    },
    "id": "EZ0k3z0Udmvq",
    "outputId": "790f23f7-871f-4301-e3b8-73c1e3fde88a"
   },
   "outputs": [
    {
     "name": "stdout",
     "output_type": "stream",
     "text": [
      "O desvio padrão para esse arranjo de times, mandos e enfrentamentos é: 10402.565550423853\n"
     ]
    }
   ],
   "source": [
    "desvio_padrao = np.std(percorrido)\n",
    "print('O desvio padrão para esse arranjo de times, mandos e enfrentamentos é:',desvio_padrao)"
   ]
  },
  {
   "cell_type": "markdown",
   "metadata": {
    "id": "9x_PmYljdmvq"
   },
   "source": [
    "Agora que já sabemos o passo-a-passo, vamos definir a função que nos retorna a métrica que desejamos minimizar."
   ]
  },
  {
   "cell_type": "code",
   "execution_count": 44,
   "metadata": {
    "id": "Eujy8jBydmvq"
   },
   "outputs": [],
   "source": [
    "def avaliacao(ordem_times,ordem_mandos,ordem_rodadas):\n",
    "    percursos=[]\n",
    "    rodadas=ordem_rodadas.columns\n",
    "    for jj in range(len(generico)):\n",
    "        percurso_time=[generico[jj]]+2*ordem_rodadas.loc[generico[jj],:].tolist()+[generico[jj]]\n",
    "        for ii in range(len(rodadas)):\n",
    "            if mando.loc[generico[jj],rodadas[ii]]==0:\n",
    "                percurso_time[ii+1]=generico[jj]\n",
    "            else:\n",
    "                percurso_time[ii+ordem_times.shape[0]]=generico[jj]\n",
    "\n",
    "        percursos.append(percurso_time)\n",
    "\n",
    "    percursos=pd.DataFrame(percursos)\n",
    "    percorrido=[]\n",
    "    for ii in range(percursos.shape[0]):\n",
    "        viagens=0\n",
    "        for jj in range(percursos.shape[1]-1):\n",
    "            viagens += distancias.loc[ordem_times.loc[percursos.iloc[ii,jj],'Equipe'],\n",
    "                                      ordem_times.loc[percursos.iloc[ii,jj+1],'Equipe']]\n",
    "\n",
    "        percorrido.append(viagens)\n",
    "    distancia_total = np.sum(percorrido)\n",
    "    diferenca = max(percorrido) - min(percorrido)\n",
    "    desvio_padrao = np.std(percorrido)\n",
    "    minimizacoes = [distancia_total,diferenca,desvio_padrao]\n",
    "    return minimizacoes\n",
    "\n"
   ]
  },
  {
   "cell_type": "markdown",
   "metadata": {
    "id": "YlIgcjbcdmvr"
   },
   "source": [
    "## 6. Otimizando a lista de times"
   ]
  },
  {
   "cell_type": "markdown",
   "metadata": {
    "id": "j3M2d6pwdmvr"
   },
   "source": [
    "Vamos tentar otimizar a ordem dos times, mantendo as duas outras tabelas fixas. Ou seja, a questão é definir qual equipe é o Time01, qual é o Time02, até o Time20. "
   ]
  },
  {
   "cell_type": "code",
   "execution_count": 45,
   "metadata": {
    "id": "fQq91TZQdmvr"
   },
   "outputs": [],
   "source": [
    "enfrentamentos_solucao = enfrentamentos.copy()\n",
    "mando_solucao = mando.copy()"
   ]
  },
  {
   "cell_type": "markdown",
   "metadata": {
    "id": "ikbAppNMdmvr"
   },
   "source": [
    "Nosso gene é vetor com o ordenamento das equipes, a partir da lista em ordem alfabética. "
   ]
  },
  {
   "cell_type": "code",
   "execution_count": 46,
   "metadata": {
    "colab": {
     "base_uri": "https://localhost:8080/"
    },
    "id": "Jq9md9rzdmvr",
    "outputId": "ed70887e-4a81-4ac7-97fc-52e66a0c1ea1"
   },
   "outputs": [
    {
     "name": "stdout",
     "output_type": "stream",
     "text": [
      "Ou seja, o vetor (0,1,2,3,4,5,6,7,8,9,10,11,12,13,141,15,16,17,18,19) é: ['América', 'Athlético Paranaense', 'Atlético Goianiense', 'Atlético Mineiro', 'Bahia', 'Bragantino', 'Ceará', 'Chapecoense', 'Corinthians', 'Cuiabá', 'Flamengo', 'Fluminense', 'Fortaleza', 'Grêmio', 'Internacional', 'Juventude', 'Palmeiras', 'Santos', 'São Paulo', 'Sport']\n"
     ]
    }
   ],
   "source": [
    "print('Ou seja, o vetor (0,1,2,3,4,5,6,7,8,9,10,11,12,13,141,15,16,17,18,19) é:', lista_times_21['Time'].tolist())"
   ]
  },
  {
   "cell_type": "markdown",
   "metadata": {
    "id": "FPhA6D0ydmvs"
   },
   "source": [
    "Ao final do algoritmo, vamos exibir o gráfico com a evolução do valor da melhor avaliação em cada geração. Esperamos que ao final o sistema atinja um valor otimizado.<br>\n",
    "Temos quatro parâmetros para definir:\n",
    "1. o número de genes que vamos avaliar em cada geração: 6;\n",
    "2. o número de genes que vamos manter de uma geração para outra: 2;\n",
    "3. o número de gerações: 500;\n",
    "4. os genes originais."
   ]
  },
  {
   "cell_type": "markdown",
   "metadata": {
    "id": "Sq9e2qhLdmvs"
   },
   "source": [
    "Os seis genes originais serão escolhidos aleatoriamente abaixo."
   ]
  },
  {
   "cell_type": "code",
   "execution_count": 47,
   "metadata": {
    "colab": {
     "base_uri": "https://localhost:8080/",
     "height": 235
    },
    "id": "y08DHmDxdmvs",
    "outputId": "193a3dcf-1878-4169-92b1-af4cd66e61da"
   },
   "outputs": [
    {
     "data": {
      "text/html": [
       "<div>\n",
       "<style scoped>\n",
       "    .dataframe tbody tr th:only-of-type {\n",
       "        vertical-align: middle;\n",
       "    }\n",
       "\n",
       "    .dataframe tbody tr th {\n",
       "        vertical-align: top;\n",
       "    }\n",
       "\n",
       "    .dataframe thead th {\n",
       "        text-align: right;\n",
       "    }\n",
       "</style>\n",
       "<table border=\"1\" class=\"dataframe\">\n",
       "  <thead>\n",
       "    <tr style=\"text-align: right;\">\n",
       "      <th></th>\n",
       "      <th>0</th>\n",
       "      <th>1</th>\n",
       "      <th>2</th>\n",
       "      <th>3</th>\n",
       "      <th>4</th>\n",
       "      <th>5</th>\n",
       "      <th>6</th>\n",
       "      <th>7</th>\n",
       "      <th>8</th>\n",
       "      <th>9</th>\n",
       "      <th>10</th>\n",
       "      <th>11</th>\n",
       "      <th>12</th>\n",
       "      <th>13</th>\n",
       "      <th>14</th>\n",
       "      <th>15</th>\n",
       "      <th>16</th>\n",
       "      <th>17</th>\n",
       "      <th>18</th>\n",
       "      <th>19</th>\n",
       "    </tr>\n",
       "  </thead>\n",
       "  <tbody>\n",
       "    <tr>\n",
       "      <th>0</th>\n",
       "      <td>5</td>\n",
       "      <td>15</td>\n",
       "      <td>1</td>\n",
       "      <td>8</td>\n",
       "      <td>7</td>\n",
       "      <td>4</td>\n",
       "      <td>3</td>\n",
       "      <td>13</td>\n",
       "      <td>11</td>\n",
       "      <td>19</td>\n",
       "      <td>14</td>\n",
       "      <td>17</td>\n",
       "      <td>9</td>\n",
       "      <td>12</td>\n",
       "      <td>10</td>\n",
       "      <td>2</td>\n",
       "      <td>6</td>\n",
       "      <td>16</td>\n",
       "      <td>0</td>\n",
       "      <td>18</td>\n",
       "    </tr>\n",
       "    <tr>\n",
       "      <th>1</th>\n",
       "      <td>3</td>\n",
       "      <td>17</td>\n",
       "      <td>14</td>\n",
       "      <td>8</td>\n",
       "      <td>9</td>\n",
       "      <td>7</td>\n",
       "      <td>10</td>\n",
       "      <td>18</td>\n",
       "      <td>13</td>\n",
       "      <td>5</td>\n",
       "      <td>2</td>\n",
       "      <td>15</td>\n",
       "      <td>6</td>\n",
       "      <td>1</td>\n",
       "      <td>4</td>\n",
       "      <td>11</td>\n",
       "      <td>16</td>\n",
       "      <td>0</td>\n",
       "      <td>12</td>\n",
       "      <td>19</td>\n",
       "    </tr>\n",
       "    <tr>\n",
       "      <th>2</th>\n",
       "      <td>6</td>\n",
       "      <td>11</td>\n",
       "      <td>13</td>\n",
       "      <td>19</td>\n",
       "      <td>12</td>\n",
       "      <td>9</td>\n",
       "      <td>8</td>\n",
       "      <td>1</td>\n",
       "      <td>4</td>\n",
       "      <td>5</td>\n",
       "      <td>0</td>\n",
       "      <td>10</td>\n",
       "      <td>2</td>\n",
       "      <td>17</td>\n",
       "      <td>3</td>\n",
       "      <td>7</td>\n",
       "      <td>14</td>\n",
       "      <td>15</td>\n",
       "      <td>18</td>\n",
       "      <td>16</td>\n",
       "    </tr>\n",
       "    <tr>\n",
       "      <th>3</th>\n",
       "      <td>11</td>\n",
       "      <td>1</td>\n",
       "      <td>5</td>\n",
       "      <td>6</td>\n",
       "      <td>2</td>\n",
       "      <td>18</td>\n",
       "      <td>10</td>\n",
       "      <td>19</td>\n",
       "      <td>0</td>\n",
       "      <td>8</td>\n",
       "      <td>7</td>\n",
       "      <td>4</td>\n",
       "      <td>12</td>\n",
       "      <td>3</td>\n",
       "      <td>16</td>\n",
       "      <td>17</td>\n",
       "      <td>13</td>\n",
       "      <td>15</td>\n",
       "      <td>9</td>\n",
       "      <td>14</td>\n",
       "    </tr>\n",
       "    <tr>\n",
       "      <th>4</th>\n",
       "      <td>1</td>\n",
       "      <td>0</td>\n",
       "      <td>5</td>\n",
       "      <td>11</td>\n",
       "      <td>6</td>\n",
       "      <td>15</td>\n",
       "      <td>13</td>\n",
       "      <td>19</td>\n",
       "      <td>17</td>\n",
       "      <td>18</td>\n",
       "      <td>3</td>\n",
       "      <td>7</td>\n",
       "      <td>16</td>\n",
       "      <td>8</td>\n",
       "      <td>12</td>\n",
       "      <td>2</td>\n",
       "      <td>4</td>\n",
       "      <td>9</td>\n",
       "      <td>14</td>\n",
       "      <td>10</td>\n",
       "    </tr>\n",
       "    <tr>\n",
       "      <th>5</th>\n",
       "      <td>10</td>\n",
       "      <td>4</td>\n",
       "      <td>5</td>\n",
       "      <td>9</td>\n",
       "      <td>19</td>\n",
       "      <td>8</td>\n",
       "      <td>17</td>\n",
       "      <td>3</td>\n",
       "      <td>13</td>\n",
       "      <td>0</td>\n",
       "      <td>14</td>\n",
       "      <td>6</td>\n",
       "      <td>11</td>\n",
       "      <td>16</td>\n",
       "      <td>15</td>\n",
       "      <td>18</td>\n",
       "      <td>2</td>\n",
       "      <td>1</td>\n",
       "      <td>7</td>\n",
       "      <td>12</td>\n",
       "    </tr>\n",
       "  </tbody>\n",
       "</table>\n",
       "</div>"
      ],
      "text/plain": [
       "    0   1   2   3   4   5   6   7   8   9  10  11  12  13  14  15  16  17  18  \\\n",
       "0   5  15   1   8   7   4   3  13  11  19  14  17   9  12  10   2   6  16   0   \n",
       "1   3  17  14   8   9   7  10  18  13   5   2  15   6   1   4  11  16   0  12   \n",
       "2   6  11  13  19  12   9   8   1   4   5   0  10   2  17   3   7  14  15  18   \n",
       "3  11   1   5   6   2  18  10  19   0   8   7   4  12   3  16  17  13  15   9   \n",
       "4   1   0   5  11   6  15  13  19  17  18   3   7  16   8  12   2   4   9  14   \n",
       "5  10   4   5   9  19   8  17   3  13   0  14   6  11  16  15  18   2   1   7   \n",
       "\n",
       "   19  \n",
       "0  18  \n",
       "1  19  \n",
       "2  16  \n",
       "3  14  \n",
       "4  10  \n",
       "5  12  "
      ]
     },
     "execution_count": 47,
     "metadata": {},
     "output_type": "execute_result"
    }
   ],
   "source": [
    "import random\n",
    "gene_pool=[]\n",
    "for ii in range(6):\n",
    "    gene = random.sample(range(0, 20),k=20)\n",
    "    gene_pool.append(gene)\n",
    "        \n",
    "gene_pool=pd.DataFrame(gene_pool)\n",
    "gene_pool"
   ]
  },
  {
   "cell_type": "markdown",
   "metadata": {
    "id": "qM8Hlg9-dmvs"
   },
   "source": [
    "Vamos agora implementar o código que realmente faz o algoritmo genético. Em cada geração, temos 6 genes sendo avaliados. Os dois melhores serão mantidos e serão criados dois novos candidatos a partir de cada um, escolhendo um par de times para ter suas posições trocadas. <br>\n",
    "Ao final, teremos a ordem de times com o menor valor de nossa métrica e um gráfico com a evolução da melhor avaliação de cada geração."
   ]
  },
  {
   "cell_type": "markdown",
   "metadata": {
    "id": "3AsBMe-PskbO"
   },
   "source": [
    "Primeiros veremos o resultado para  a métrica 1 (soma das distâncias percorridas pelos times)"
   ]
  },
  {
   "cell_type": "code",
   "execution_count": null,
   "metadata": {
    "colab": {
     "base_uri": "https://localhost:8080/"
    },
    "id": "IuV4vxEClrwK",
    "outputId": "e259c2af-8bae-4396-d7a6-a1b55723d764"
   },
   "outputs": [
    {
     "name": "stdout",
     "output_type": "stream",
     "text": [
      "Geração: 0\n",
      "Geração: 50\n",
      "Geração: 100\n",
      "Geração: 150\n",
      "Geração: 200\n",
      "Geração: 250\n"
     ]
    }
   ],
   "source": [
    "geracao=0\n",
    "max_geracao=500\n",
    "metrica=[]\n",
    "# Escolhe o metodo : (0) Total (1) Diferença (2) Desvio Padrão\n",
    "metodo = 0 \n",
    "while (geracao<max_geracao):\n",
    "    if (geracao%50==0):\n",
    "        print('Geração:', geracao)\n",
    "    notas=[]\n",
    "    #para cada gene\n",
    "    for ii in range(gene_pool.shape[0]):\n",
    "        #criando ordem dos times\n",
    "        lista_times_gene=[]\n",
    "        for jj in range(gene_pool.shape[1]):\n",
    "            lista_times_gene.append(lista_times_21['Time'].tolist()[gene_pool.iloc[ii,jj].astype(int)])\n",
    "        \n",
    "        ordem_times=lista_times.copy()\n",
    "        ordem_times['Equipe']=lista_times_gene\n",
    "        #calculando distancias e desvio padrao\n",
    "        notas.append(avaliacao(ordem_times, mando_solucao, enfrentamentos_solucao)[metodo])\n",
    "    \n",
    "    #vamos classificar os resultados\n",
    "    gene_pool['avaliacao']=notas\n",
    "    gene_pool = gene_pool.sort_values(by=['avaliacao']).reset_index(drop=True)\n",
    "    \n",
    "    #salvando o melhor resultado\n",
    "    metrica.append(gene_pool.iloc[0,-1])\n",
    "    \n",
    "    #gerando novos candidatos\n",
    "    gene_pool.iloc[2,:]=gene_pool.iloc[0,:]\n",
    "    gene_pool.iloc[3,:]=gene_pool.iloc[0,:]\n",
    "    gene_pool.iloc[4,:]=gene_pool.iloc[1,:]\n",
    "    gene_pool.iloc[5,:]=gene_pool.iloc[1,:]\n",
    "    \n",
    "    for ii in range(2,6):\n",
    "        x1=random.randint(0,19)\n",
    "        x2=x1\n",
    "        while x2==x1:\n",
    "            x2=random.randint(0,19)\n",
    "        pos1=gene_pool.iloc[ii,x1]\n",
    "        pos2=gene_pool.iloc[ii,x2]\n",
    "        gene_pool.iloc[ii,x1]=pos2\n",
    "        gene_pool.iloc[ii,x2]=pos1\n",
    "    \n",
    "    #preparando para próxima geração\n",
    "    gene_pool.drop(columns=['avaliacao'],inplace=True)\n",
    "    geracao+=1\n",
    "    "
   ]
  },
  {
   "cell_type": "code",
   "execution_count": null,
   "metadata": {
    "colab": {
     "base_uri": "https://localhost:8080/",
     "height": 295
    },
    "id": "cWFO5pZ7s5OX",
    "outputId": "554636ac-a959-41d3-abb1-7dbc4179dc2e"
   },
   "outputs": [],
   "source": [
    "plt.plot(range(max_geracao), metrica)\n",
    "plt.xlabel('Geração')\n",
    "plt.ylabel('Menor soma todal de distâncias')\n",
    "plt.title('Evolução da métrica de avaliação')\n",
    "plt.show()"
   ]
  },
  {
   "cell_type": "code",
   "execution_count": null,
   "metadata": {
    "colab": {
     "base_uri": "https://localhost:8080/"
    },
    "id": "LL6IERf9up8u",
    "outputId": "b0b1f3f1-b5df-489a-cac4-fe5303496bac"
   },
   "outputs": [],
   "source": [
    "print('A melhor ordem para os times tem um total de kilometros viajados :',metrica[-1],', ordenado como abaixo.')\n",
    "print('A ordem original tinha um total de kilometros viajados de 786566.3761736375. Ou seja, reduzimos a distancia em',round(100*(1-metrica[-1]/distancia_total)),'%')"
   ]
  },
  {
   "cell_type": "code",
   "execution_count": null,
   "metadata": {
    "colab": {
     "base_uri": "https://localhost:8080/"
    },
    "id": "bDHradAOvbCm",
    "outputId": "0dc6b893-6885-444a-d2eb-5bae8e128f0d"
   },
   "outputs": [],
   "source": [
    "melhor_lista_times=[]\n",
    "for jj in range(gene_pool.shape[1]):\n",
    "    melhor_lista_times.append(lista_times_21['Time'].tolist()[gene_pool.iloc[0,jj].astype(int)])\n",
    "melhor_lista_times     "
   ]
  },
  {
   "cell_type": "code",
   "execution_count": null,
   "metadata": {
    "colab": {
     "base_uri": "https://localhost:8080/",
     "height": 700
    },
    "id": "HKVOAVCOvlop",
    "outputId": "32e1a1cc-b7a1-40cd-cfe2-f6b73633a31c"
   },
   "outputs": [],
   "source": [
    "melhor_ordem_times=lista_times.copy()\n",
    "melhor_ordem_times['Equipe']=melhor_lista_times\n",
    "percorrido=[]\n",
    "for ii in range(percursos.shape[0]):\n",
    "    viagens=0\n",
    "    for jj in range(percursos.shape[1]-1):\n",
    "        viagens += distancias.loc[lista_times.loc[percursos.iloc[ii,jj],'Equipe'],\n",
    "                                  lista_times.loc[percursos.iloc[ii,jj+1],'Equipe']]\n",
    "    \n",
    "    percorrido.append(viagens)\n",
    "melhor_ordem_times['Total Viagem']=percorrido\n",
    "melhor_ordem_times"
   ]
  },
  {
   "cell_type": "code",
   "execution_count": null,
   "metadata": {
    "colab": {
     "base_uri": "https://localhost:8080/",
     "height": 295
    },
    "id": "dSNjHwvSv1ZJ",
    "outputId": "4180fd2a-2c2f-48dd-acce-5051e125644a"
   },
   "outputs": [],
   "source": [
    "plt.hist(percorrido, bins = 6)\n",
    "plt.xlabel('Total viajado')\n",
    "plt.ylabel('Número de Equipes')\n",
    "plt.title('Distribuição de distância')\n",
    "plt.show()"
   ]
  },
  {
   "cell_type": "markdown",
   "metadata": {
    "id": "9LtlhMNcwAGI"
   },
   "source": [
    "Agora veremos o resultado para a métrica 2 (diferença entre o time que viaja mais e o que viaja menos)"
   ]
  },
  {
   "cell_type": "code",
   "execution_count": 29,
   "metadata": {
    "colab": {
     "base_uri": "https://localhost:8080/"
    },
    "id": "YDp8SFQywLDS",
    "outputId": "27ddce2e-e713-48a7-bc1d-b141c8df936b"
   },
   "outputs": [
    {
     "name": "stdout",
     "output_type": "stream",
     "text": [
      "Geração: 0\n"
     ]
    },
    {
     "ename": "NameError",
     "evalue": "name 'gene_pool' is not defined",
     "output_type": "error",
     "traceback": [
      "\u001b[0;31m---------------------------------------------------------------------------\u001b[0m",
      "\u001b[0;31mNameError\u001b[0m                                 Traceback (most recent call last)",
      "\u001b[0;32m<ipython-input-29-dd2babd04c77>\u001b[0m in \u001b[0;36m<module>\u001b[0;34m\u001b[0m\n\u001b[1;32m      9\u001b[0m     \u001b[0mnotas\u001b[0m\u001b[0;34m=\u001b[0m\u001b[0;34m[\u001b[0m\u001b[0;34m]\u001b[0m\u001b[0;34m\u001b[0m\u001b[0;34m\u001b[0m\u001b[0m\n\u001b[1;32m     10\u001b[0m     \u001b[0;31m#para cada gene\u001b[0m\u001b[0;34m\u001b[0m\u001b[0;34m\u001b[0m\u001b[0;34m\u001b[0m\u001b[0m\n\u001b[0;32m---> 11\u001b[0;31m     \u001b[0;32mfor\u001b[0m \u001b[0mii\u001b[0m \u001b[0;32min\u001b[0m \u001b[0mrange\u001b[0m\u001b[0;34m(\u001b[0m\u001b[0mgene_pool\u001b[0m\u001b[0;34m.\u001b[0m\u001b[0mshape\u001b[0m\u001b[0;34m[\u001b[0m\u001b[0;36m0\u001b[0m\u001b[0;34m]\u001b[0m\u001b[0;34m)\u001b[0m\u001b[0;34m:\u001b[0m\u001b[0;34m\u001b[0m\u001b[0;34m\u001b[0m\u001b[0m\n\u001b[0m\u001b[1;32m     12\u001b[0m         \u001b[0;31m#criando ordem dos times\u001b[0m\u001b[0;34m\u001b[0m\u001b[0;34m\u001b[0m\u001b[0;34m\u001b[0m\u001b[0m\n\u001b[1;32m     13\u001b[0m         \u001b[0mlista_times_gene\u001b[0m\u001b[0;34m=\u001b[0m\u001b[0;34m[\u001b[0m\u001b[0;34m]\u001b[0m\u001b[0;34m\u001b[0m\u001b[0;34m\u001b[0m\u001b[0m\n",
      "\u001b[0;31mNameError\u001b[0m: name 'gene_pool' is not defined"
     ]
    }
   ],
   "source": [
    "geracao=0\n",
    "max_geracao=500\n",
    "metrica=[]\n",
    "# Escolhe o metodo : (0) Total (1) Diferença (2) Desvio Padrão\n",
    "metodo = 1 \n",
    "while (geracao<max_geracao):\n",
    "    if (geracao%50==0):\n",
    "        print('Geração:', geracao)\n",
    "    notas=[]\n",
    "    #para cada gene\n",
    "    for ii in range(gene_pool.shape[0]):\n",
    "        #criando ordem dos times\n",
    "        lista_times_gene=[]\n",
    "        for jj in range(gene_pool.shape[1]):\n",
    "            lista_times_gene.append(lista_times_21['Time'].tolist()[gene_pool.iloc[ii,jj].astype(int)])\n",
    "        \n",
    "        ordem_times=lista_times.copy()\n",
    "        ordem_times['Equipe']=lista_times_gene\n",
    "        #calculando distancias e desvio padrao\n",
    "        notas.append(avaliacao(ordem_times, mando_solucao, enfrentamentos_solucao)[metodo])\n",
    "    \n",
    "    #vamos classificar os resultados\n",
    "    gene_pool['avaliacao']=notas\n",
    "    gene_pool = gene_pool.sort_values(by=['avaliacao']).reset_index(drop=True)\n",
    "    \n",
    "    #salvando o melhor resultado\n",
    "    metrica.append(gene_pool.iloc[0,-1])\n",
    "    \n",
    "    #gerando novos candidatos\n",
    "    gene_pool.iloc[2,:]=gene_pool.iloc[0,:]\n",
    "    gene_pool.iloc[3,:]=gene_pool.iloc[0,:]\n",
    "    gene_pool.iloc[4,:]=gene_pool.iloc[1,:]\n",
    "    gene_pool.iloc[5,:]=gene_pool.iloc[1,:]\n",
    "    \n",
    "    for ii in range(2,6):\n",
    "        x1=random.randint(0,19)\n",
    "        x2=x1\n",
    "        while x2==x1:\n",
    "            x2=random.randint(0,19)\n",
    "        pos1=gene_pool.iloc[ii,x1]\n",
    "        pos2=gene_pool.iloc[ii,x2]\n",
    "        gene_pool.iloc[ii,x1]=pos2\n",
    "        gene_pool.iloc[ii,x2]=pos1\n",
    "    \n",
    "    #preparando para próxima geração\n",
    "    gene_pool.drop(columns=['avaliacao'],inplace=True)\n",
    "    geracao+=1\n",
    "    "
   ]
  },
  {
   "cell_type": "code",
   "execution_count": 30,
   "metadata": {
    "colab": {
     "base_uri": "https://localhost:8080/",
     "height": 295
    },
    "id": "SCLxnDOSwV4s",
    "outputId": "a9634794-7fb2-421b-90ba-8b776120e62c"
   },
   "outputs": [
    {
     "ename": "ValueError",
     "evalue": "x and y must have same first dimension, but have shapes (500,) and (0,)",
     "output_type": "error",
     "traceback": [
      "\u001b[0;31m---------------------------------------------------------------------------\u001b[0m",
      "\u001b[0;31mValueError\u001b[0m                                Traceback (most recent call last)",
      "\u001b[0;32m<ipython-input-30-17865fd1e902>\u001b[0m in \u001b[0;36m<module>\u001b[0;34m\u001b[0m\n\u001b[0;32m----> 1\u001b[0;31m \u001b[0mplt\u001b[0m\u001b[0;34m.\u001b[0m\u001b[0mplot\u001b[0m\u001b[0;34m(\u001b[0m\u001b[0mrange\u001b[0m\u001b[0;34m(\u001b[0m\u001b[0mmax_geracao\u001b[0m\u001b[0;34m)\u001b[0m\u001b[0;34m,\u001b[0m \u001b[0mmetrica\u001b[0m\u001b[0;34m)\u001b[0m\u001b[0;34m\u001b[0m\u001b[0;34m\u001b[0m\u001b[0m\n\u001b[0m\u001b[1;32m      2\u001b[0m \u001b[0mplt\u001b[0m\u001b[0;34m.\u001b[0m\u001b[0mxlabel\u001b[0m\u001b[0;34m(\u001b[0m\u001b[0;34m'Geração'\u001b[0m\u001b[0;34m)\u001b[0m\u001b[0;34m\u001b[0m\u001b[0;34m\u001b[0m\u001b[0m\n\u001b[1;32m      3\u001b[0m \u001b[0mplt\u001b[0m\u001b[0;34m.\u001b[0m\u001b[0mylabel\u001b[0m\u001b[0;34m(\u001b[0m\u001b[0;34m'Menor Diferença'\u001b[0m\u001b[0;34m)\u001b[0m\u001b[0;34m\u001b[0m\u001b[0;34m\u001b[0m\u001b[0m\n\u001b[1;32m      4\u001b[0m \u001b[0mplt\u001b[0m\u001b[0;34m.\u001b[0m\u001b[0mtitle\u001b[0m\u001b[0;34m(\u001b[0m\u001b[0;34m'Evolução da métrica de avaliação'\u001b[0m\u001b[0;34m)\u001b[0m\u001b[0;34m\u001b[0m\u001b[0;34m\u001b[0m\u001b[0m\n\u001b[1;32m      5\u001b[0m \u001b[0mplt\u001b[0m\u001b[0;34m.\u001b[0m\u001b[0mshow\u001b[0m\u001b[0;34m(\u001b[0m\u001b[0;34m)\u001b[0m\u001b[0;34m\u001b[0m\u001b[0;34m\u001b[0m\u001b[0m\n",
      "\u001b[0;32m~/anaconda3/lib/python3.8/site-packages/matplotlib/pyplot.py\u001b[0m in \u001b[0;36mplot\u001b[0;34m(scalex, scaley, data, *args, **kwargs)\u001b[0m\n\u001b[1;32m   2759\u001b[0m \u001b[0;34m@\u001b[0m\u001b[0mdocstring\u001b[0m\u001b[0;34m.\u001b[0m\u001b[0mcopy\u001b[0m\u001b[0;34m(\u001b[0m\u001b[0mAxes\u001b[0m\u001b[0;34m.\u001b[0m\u001b[0mplot\u001b[0m\u001b[0;34m)\u001b[0m\u001b[0;34m\u001b[0m\u001b[0;34m\u001b[0m\u001b[0m\n\u001b[1;32m   2760\u001b[0m \u001b[0;32mdef\u001b[0m \u001b[0mplot\u001b[0m\u001b[0;34m(\u001b[0m\u001b[0;34m*\u001b[0m\u001b[0margs\u001b[0m\u001b[0;34m,\u001b[0m \u001b[0mscalex\u001b[0m\u001b[0;34m=\u001b[0m\u001b[0;32mTrue\u001b[0m\u001b[0;34m,\u001b[0m \u001b[0mscaley\u001b[0m\u001b[0;34m=\u001b[0m\u001b[0;32mTrue\u001b[0m\u001b[0;34m,\u001b[0m \u001b[0mdata\u001b[0m\u001b[0;34m=\u001b[0m\u001b[0;32mNone\u001b[0m\u001b[0;34m,\u001b[0m \u001b[0;34m**\u001b[0m\u001b[0mkwargs\u001b[0m\u001b[0;34m)\u001b[0m\u001b[0;34m:\u001b[0m\u001b[0;34m\u001b[0m\u001b[0;34m\u001b[0m\u001b[0m\n\u001b[0;32m-> 2761\u001b[0;31m     return gca().plot(\n\u001b[0m\u001b[1;32m   2762\u001b[0m         *args, scalex=scalex, scaley=scaley, **({\"data\": data} if data\n\u001b[1;32m   2763\u001b[0m         is not None else {}), **kwargs)\n",
      "\u001b[0;32m~/anaconda3/lib/python3.8/site-packages/matplotlib/axes/_axes.py\u001b[0m in \u001b[0;36mplot\u001b[0;34m(self, scalex, scaley, data, *args, **kwargs)\u001b[0m\n\u001b[1;32m   1645\u001b[0m         \"\"\"\n\u001b[1;32m   1646\u001b[0m         \u001b[0mkwargs\u001b[0m \u001b[0;34m=\u001b[0m \u001b[0mcbook\u001b[0m\u001b[0;34m.\u001b[0m\u001b[0mnormalize_kwargs\u001b[0m\u001b[0;34m(\u001b[0m\u001b[0mkwargs\u001b[0m\u001b[0;34m,\u001b[0m \u001b[0mmlines\u001b[0m\u001b[0;34m.\u001b[0m\u001b[0mLine2D\u001b[0m\u001b[0;34m)\u001b[0m\u001b[0;34m\u001b[0m\u001b[0;34m\u001b[0m\u001b[0m\n\u001b[0;32m-> 1647\u001b[0;31m         \u001b[0mlines\u001b[0m \u001b[0;34m=\u001b[0m \u001b[0;34m[\u001b[0m\u001b[0;34m*\u001b[0m\u001b[0mself\u001b[0m\u001b[0;34m.\u001b[0m\u001b[0m_get_lines\u001b[0m\u001b[0;34m(\u001b[0m\u001b[0;34m*\u001b[0m\u001b[0margs\u001b[0m\u001b[0;34m,\u001b[0m \u001b[0mdata\u001b[0m\u001b[0;34m=\u001b[0m\u001b[0mdata\u001b[0m\u001b[0;34m,\u001b[0m \u001b[0;34m**\u001b[0m\u001b[0mkwargs\u001b[0m\u001b[0;34m)\u001b[0m\u001b[0;34m]\u001b[0m\u001b[0;34m\u001b[0m\u001b[0;34m\u001b[0m\u001b[0m\n\u001b[0m\u001b[1;32m   1648\u001b[0m         \u001b[0;32mfor\u001b[0m \u001b[0mline\u001b[0m \u001b[0;32min\u001b[0m \u001b[0mlines\u001b[0m\u001b[0;34m:\u001b[0m\u001b[0;34m\u001b[0m\u001b[0;34m\u001b[0m\u001b[0m\n\u001b[1;32m   1649\u001b[0m             \u001b[0mself\u001b[0m\u001b[0;34m.\u001b[0m\u001b[0madd_line\u001b[0m\u001b[0;34m(\u001b[0m\u001b[0mline\u001b[0m\u001b[0;34m)\u001b[0m\u001b[0;34m\u001b[0m\u001b[0;34m\u001b[0m\u001b[0m\n",
      "\u001b[0;32m~/anaconda3/lib/python3.8/site-packages/matplotlib/axes/_base.py\u001b[0m in \u001b[0;36m__call__\u001b[0;34m(self, *args, **kwargs)\u001b[0m\n\u001b[1;32m    214\u001b[0m                 \u001b[0mthis\u001b[0m \u001b[0;34m+=\u001b[0m \u001b[0margs\u001b[0m\u001b[0;34m[\u001b[0m\u001b[0;36m0\u001b[0m\u001b[0;34m]\u001b[0m\u001b[0;34m,\u001b[0m\u001b[0;34m\u001b[0m\u001b[0;34m\u001b[0m\u001b[0m\n\u001b[1;32m    215\u001b[0m                 \u001b[0margs\u001b[0m \u001b[0;34m=\u001b[0m \u001b[0margs\u001b[0m\u001b[0;34m[\u001b[0m\u001b[0;36m1\u001b[0m\u001b[0;34m:\u001b[0m\u001b[0;34m]\u001b[0m\u001b[0;34m\u001b[0m\u001b[0;34m\u001b[0m\u001b[0m\n\u001b[0;32m--> 216\u001b[0;31m             \u001b[0;32myield\u001b[0m \u001b[0;32mfrom\u001b[0m \u001b[0mself\u001b[0m\u001b[0;34m.\u001b[0m\u001b[0m_plot_args\u001b[0m\u001b[0;34m(\u001b[0m\u001b[0mthis\u001b[0m\u001b[0;34m,\u001b[0m \u001b[0mkwargs\u001b[0m\u001b[0;34m)\u001b[0m\u001b[0;34m\u001b[0m\u001b[0;34m\u001b[0m\u001b[0m\n\u001b[0m\u001b[1;32m    217\u001b[0m \u001b[0;34m\u001b[0m\u001b[0m\n\u001b[1;32m    218\u001b[0m     \u001b[0;32mdef\u001b[0m \u001b[0mget_next_color\u001b[0m\u001b[0;34m(\u001b[0m\u001b[0mself\u001b[0m\u001b[0;34m)\u001b[0m\u001b[0;34m:\u001b[0m\u001b[0;34m\u001b[0m\u001b[0;34m\u001b[0m\u001b[0m\n",
      "\u001b[0;32m~/anaconda3/lib/python3.8/site-packages/matplotlib/axes/_base.py\u001b[0m in \u001b[0;36m_plot_args\u001b[0;34m(self, tup, kwargs)\u001b[0m\n\u001b[1;32m    340\u001b[0m \u001b[0;34m\u001b[0m\u001b[0m\n\u001b[1;32m    341\u001b[0m         \u001b[0;32mif\u001b[0m \u001b[0mx\u001b[0m\u001b[0;34m.\u001b[0m\u001b[0mshape\u001b[0m\u001b[0;34m[\u001b[0m\u001b[0;36m0\u001b[0m\u001b[0;34m]\u001b[0m \u001b[0;34m!=\u001b[0m \u001b[0my\u001b[0m\u001b[0;34m.\u001b[0m\u001b[0mshape\u001b[0m\u001b[0;34m[\u001b[0m\u001b[0;36m0\u001b[0m\u001b[0;34m]\u001b[0m\u001b[0;34m:\u001b[0m\u001b[0;34m\u001b[0m\u001b[0;34m\u001b[0m\u001b[0m\n\u001b[0;32m--> 342\u001b[0;31m             raise ValueError(f\"x and y must have same first dimension, but \"\n\u001b[0m\u001b[1;32m    343\u001b[0m                              f\"have shapes {x.shape} and {y.shape}\")\n\u001b[1;32m    344\u001b[0m         \u001b[0;32mif\u001b[0m \u001b[0mx\u001b[0m\u001b[0;34m.\u001b[0m\u001b[0mndim\u001b[0m \u001b[0;34m>\u001b[0m \u001b[0;36m2\u001b[0m \u001b[0;32mor\u001b[0m \u001b[0my\u001b[0m\u001b[0;34m.\u001b[0m\u001b[0mndim\u001b[0m \u001b[0;34m>\u001b[0m \u001b[0;36m2\u001b[0m\u001b[0;34m:\u001b[0m\u001b[0;34m\u001b[0m\u001b[0;34m\u001b[0m\u001b[0m\n",
      "\u001b[0;31mValueError\u001b[0m: x and y must have same first dimension, but have shapes (500,) and (0,)"
     ]
    },
    {
     "data": {
      "image/png": "[encoded data removed]",
      "text/plain": [
       "<Figure size 432x288 with 1 Axes>"
      ]
     },
     "metadata": {
      "needs_background": "light"
     },
     "output_type": "display_data"
    }
   ],
   "source": [
    "plt.plot(range(max_geracao), metrica)\n",
    "plt.xlabel('Geração')\n",
    "plt.ylabel('Menor Diferença')\n",
    "plt.title('Evolução da métrica de avaliação')\n",
    "plt.show()"
   ]
  },
  {
   "cell_type": "code",
   "execution_count": 31,
   "metadata": {
    "colab": {
     "base_uri": "https://localhost:8080/"
    },
    "id": "fmIRnNVnwjXm",
    "outputId": "b096efb6-0170-4d8f-e2bd-44cf1269800f"
   },
   "outputs": [
    {
     "ename": "IndexError",
     "evalue": "list index out of range",
     "output_type": "error",
     "traceback": [
      "\u001b[0;31m---------------------------------------------------------------------------\u001b[0m",
      "\u001b[0;31mIndexError\u001b[0m                                Traceback (most recent call last)",
      "\u001b[0;32m<ipython-input-31-0f6bd7c5f4e0>\u001b[0m in \u001b[0;36m<module>\u001b[0;34m\u001b[0m\n\u001b[0;32m----> 1\u001b[0;31m \u001b[0mprint\u001b[0m\u001b[0;34m(\u001b[0m\u001b[0;34m'A melhor ordem para os times tem uma diferença de :'\u001b[0m\u001b[0;34m,\u001b[0m\u001b[0mmetrica\u001b[0m\u001b[0;34m[\u001b[0m\u001b[0;34m-\u001b[0m\u001b[0;36m1\u001b[0m\u001b[0;34m]\u001b[0m\u001b[0;34m,\u001b[0m\u001b[0;34m', ordenado como abaixo.'\u001b[0m\u001b[0;34m)\u001b[0m\u001b[0;34m\u001b[0m\u001b[0;34m\u001b[0m\u001b[0m\n\u001b[0m\u001b[1;32m      2\u001b[0m \u001b[0mprint\u001b[0m\u001b[0;34m(\u001b[0m\u001b[0;34m'A ordem original tinha uma diferença de 33806.6610662325. Ou seja, reduzimos a diferença em'\u001b[0m\u001b[0;34m,\u001b[0m\u001b[0mround\u001b[0m\u001b[0;34m(\u001b[0m\u001b[0;36m100\u001b[0m\u001b[0;34m*\u001b[0m\u001b[0;34m(\u001b[0m\u001b[0;36m1\u001b[0m\u001b[0;34m-\u001b[0m\u001b[0mmetrica\u001b[0m\u001b[0;34m[\u001b[0m\u001b[0;34m-\u001b[0m\u001b[0;36m1\u001b[0m\u001b[0;34m]\u001b[0m\u001b[0;34m/\u001b[0m\u001b[0mdiferenca\u001b[0m\u001b[0;34m)\u001b[0m\u001b[0;34m)\u001b[0m\u001b[0;34m,\u001b[0m\u001b[0;34m'%'\u001b[0m\u001b[0;34m)\u001b[0m\u001b[0;34m\u001b[0m\u001b[0;34m\u001b[0m\u001b[0m\n",
      "\u001b[0;31mIndexError\u001b[0m: list index out of range"
     ]
    }
   ],
   "source": [
    "print('A melhor ordem para os times tem uma diferença de :',metrica[-1],', ordenado como abaixo.')\n",
    "print('A ordem original tinha uma diferença de 33806.6610662325. Ou seja, reduzimos a diferença em',round(100*(1-metrica[-1]/diferenca)),'%')"
   ]
  },
  {
   "cell_type": "code",
   "execution_count": 84,
   "metadata": {
    "colab": {
     "base_uri": "https://localhost:8080/"
    },
    "id": "roUltuR7wa8x",
    "outputId": "a54bbc21-02ce-4e58-c740-5b927239f472"
   },
   "outputs": [
    {
     "data": {
      "text/plain": [
       "['Atlético Mineiro',\n",
       " 'Palmeiras',\n",
       " 'Bragantino',\n",
       " 'Fortaleza',\n",
       " 'Flamengo',\n",
       " 'Bahia',\n",
       " 'Fluminense',\n",
       " 'Internacional',\n",
       " 'Athlético Paranaense',\n",
       " 'Grêmio',\n",
       " 'América',\n",
       " 'Santos',\n",
       " 'Corinthians',\n",
       " 'Atlético Goianiense',\n",
       " 'Cuiabá',\n",
       " 'Sport',\n",
       " 'Ceará',\n",
       " 'São Paulo',\n",
       " 'Chapecoense',\n",
       " 'Juventude']"
      ]
     },
     "execution_count": 84,
     "metadata": {
      "tags": []
     },
     "output_type": "execute_result"
    }
   ],
   "source": [
    "melhor_lista_times=[]\n",
    "for jj in range(gene_pool.shape[1]):\n",
    "    melhor_lista_times.append(lista_times_21['Time'].tolist()[gene_pool.iloc[0,jj].astype(int)])\n",
    "melhor_lista_times     "
   ]
  },
  {
   "cell_type": "code",
   "execution_count": 85,
   "metadata": {
    "colab": {
     "base_uri": "https://localhost:8080/",
     "height": 700
    },
    "id": "zzQC7-E1yFIn",
    "outputId": "64873775-5582-481f-a534-8ae549df22d4"
   },
   "outputs": [
    {
     "data": {
      "text/html": [
       "<div>\n",
       "<style scoped>\n",
       "    .dataframe tbody tr th:only-of-type {\n",
       "        vertical-align: middle;\n",
       "    }\n",
       "\n",
       "    .dataframe tbody tr th {\n",
       "        vertical-align: top;\n",
       "    }\n",
       "\n",
       "    .dataframe thead th {\n",
       "        text-align: right;\n",
       "    }\n",
       "</style>\n",
       "<table border=\"1\" class=\"dataframe\">\n",
       "  <thead>\n",
       "    <tr style=\"text-align: right;\">\n",
       "      <th></th>\n",
       "      <th>Equipe</th>\n",
       "      <th>Total Viagem</th>\n",
       "    </tr>\n",
       "    <tr>\n",
       "      <th>Time</th>\n",
       "      <th></th>\n",
       "      <th></th>\n",
       "    </tr>\n",
       "  </thead>\n",
       "  <tbody>\n",
       "    <tr>\n",
       "      <th>Time01</th>\n",
       "      <td>Atlético Mineiro</td>\n",
       "      <td>33927.292345</td>\n",
       "    </tr>\n",
       "    <tr>\n",
       "      <th>Time02</th>\n",
       "      <td>Palmeiras</td>\n",
       "      <td>32426.720474</td>\n",
       "    </tr>\n",
       "    <tr>\n",
       "      <th>Time03</th>\n",
       "      <td>Bragantino</td>\n",
       "      <td>36496.766288</td>\n",
       "    </tr>\n",
       "    <tr>\n",
       "      <th>Time04</th>\n",
       "      <td>Fortaleza</td>\n",
       "      <td>30730.496554</td>\n",
       "    </tr>\n",
       "    <tr>\n",
       "      <th>Time05</th>\n",
       "      <td>Flamengo</td>\n",
       "      <td>47255.369404</td>\n",
       "    </tr>\n",
       "    <tr>\n",
       "      <th>Time06</th>\n",
       "      <td>Bahia</td>\n",
       "      <td>30670.870470</td>\n",
       "    </tr>\n",
       "    <tr>\n",
       "      <th>Time07</th>\n",
       "      <td>Fluminense</td>\n",
       "      <td>61438.538206</td>\n",
       "    </tr>\n",
       "    <tr>\n",
       "      <th>Time08</th>\n",
       "      <td>Internacional</td>\n",
       "      <td>38094.919172</td>\n",
       "    </tr>\n",
       "    <tr>\n",
       "      <th>Time09</th>\n",
       "      <td>Athlético Paranaense</td>\n",
       "      <td>28040.881925</td>\n",
       "    </tr>\n",
       "    <tr>\n",
       "      <th>Time10</th>\n",
       "      <td>Grêmio</td>\n",
       "      <td>45986.311788</td>\n",
       "    </tr>\n",
       "    <tr>\n",
       "      <th>Time11</th>\n",
       "      <td>América</td>\n",
       "      <td>33528.926576</td>\n",
       "    </tr>\n",
       "    <tr>\n",
       "      <th>Time12</th>\n",
       "      <td>Santos</td>\n",
       "      <td>31681.023816</td>\n",
       "    </tr>\n",
       "    <tr>\n",
       "      <th>Time13</th>\n",
       "      <td>Corinthians</td>\n",
       "      <td>59378.064145</td>\n",
       "    </tr>\n",
       "    <tr>\n",
       "      <th>Time14</th>\n",
       "      <td>Atlético Goianiense</td>\n",
       "      <td>43220.460073</td>\n",
       "    </tr>\n",
       "    <tr>\n",
       "      <th>Time15</th>\n",
       "      <td>Cuiabá</td>\n",
       "      <td>46907.126545</td>\n",
       "    </tr>\n",
       "    <tr>\n",
       "      <th>Time16</th>\n",
       "      <td>Sport</td>\n",
       "      <td>41491.078018</td>\n",
       "    </tr>\n",
       "    <tr>\n",
       "      <th>Time17</th>\n",
       "      <td>Ceará</td>\n",
       "      <td>30336.391700</td>\n",
       "    </tr>\n",
       "    <tr>\n",
       "      <th>Time18</th>\n",
       "      <td>São Paulo</td>\n",
       "      <td>27631.877140</td>\n",
       "    </tr>\n",
       "    <tr>\n",
       "      <th>Time19</th>\n",
       "      <td>Chapecoense</td>\n",
       "      <td>29895.210878</td>\n",
       "    </tr>\n",
       "    <tr>\n",
       "      <th>Time20</th>\n",
       "      <td>Juventude</td>\n",
       "      <td>57428.050655</td>\n",
       "    </tr>\n",
       "  </tbody>\n",
       "</table>\n",
       "</div>"
      ],
      "text/plain": [
       "                      Equipe  Total Viagem\n",
       "Time                                      \n",
       "Time01      Atlético Mineiro  33927.292345\n",
       "Time02             Palmeiras  32426.720474\n",
       "Time03            Bragantino  36496.766288\n",
       "Time04             Fortaleza  30730.496554\n",
       "Time05              Flamengo  47255.369404\n",
       "Time06                 Bahia  30670.870470\n",
       "Time07            Fluminense  61438.538206\n",
       "Time08         Internacional  38094.919172\n",
       "Time09  Athlético Paranaense  28040.881925\n",
       "Time10                Grêmio  45986.311788\n",
       "Time11               América  33528.926576\n",
       "Time12                Santos  31681.023816\n",
       "Time13           Corinthians  59378.064145\n",
       "Time14   Atlético Goianiense  43220.460073\n",
       "Time15                Cuiabá  46907.126545\n",
       "Time16                 Sport  41491.078018\n",
       "Time17                 Ceará  30336.391700\n",
       "Time18             São Paulo  27631.877140\n",
       "Time19           Chapecoense  29895.210878\n",
       "Time20             Juventude  57428.050655"
      ]
     },
     "execution_count": 85,
     "metadata": {
      "tags": []
     },
     "output_type": "execute_result"
    }
   ],
   "source": [
    "melhor_ordem_times=lista_times.copy()\n",
    "melhor_ordem_times['Equipe']=melhor_lista_times\n",
    "percorrido=[]\n",
    "for ii in range(percursos.shape[0]):\n",
    "    viagens=0\n",
    "    for jj in range(percursos.shape[1]-1):\n",
    "        viagens += distancias.loc[lista_times.loc[percursos.iloc[ii,jj],'Equipe'],\n",
    "                                  lista_times.loc[percursos.iloc[ii,jj+1],'Equipe']]\n",
    "    \n",
    "    percorrido.append(viagens)\n",
    "melhor_ordem_times['Total Viagem']=percorrido\n",
    "melhor_ordem_times"
   ]
  },
  {
   "cell_type": "code",
   "execution_count": 86,
   "metadata": {
    "colab": {
     "base_uri": "https://localhost:8080/",
     "height": 295
    },
    "id": "pYdYaZ3RySiC",
    "outputId": "929d537a-1cfc-41be-fa22-848718ff7419"
   },
   "outputs": [
    {
     "data": {
      "image/png": "[encoded data removed]",
      "text/plain": [
       "<Figure size 432x288 with 1 Axes>"
      ]
     },
     "metadata": {
      "needs_background": "light",
      "tags": []
     },
     "output_type": "display_data"
    }
   ],
   "source": [
    "plt.hist(percorrido, bins = 6)\n",
    "plt.xlabel('Total viajado')\n",
    "plt.ylabel('Número de Equipes')\n",
    "plt.title('Distribuição de distância')\n",
    "plt.show()"
   ]
  },
  {
   "cell_type": "markdown",
   "metadata": {
    "id": "xk9P4iRQyVLt"
   },
   "source": [
    "Finalmente testamos para a métrica do desvio padrão"
   ]
  },
  {
   "cell_type": "code",
   "execution_count": 49,
   "metadata": {
    "colab": {
     "base_uri": "https://localhost:8080/"
    },
    "id": "WV6wHK37lbaJ",
    "outputId": "2e0251a7-90ee-466e-961d-4bab27ee87bc"
   },
   "outputs": [
    {
     "name": "stdout",
     "output_type": "stream",
     "text": [
      "Geração: 0\n",
      "Geração: 50\n",
      "Geração: 100\n",
      "Geração: 150\n",
      "Geração: 200\n",
      "Geração: 250\n",
      "Geração: 300\n",
      "Geração: 350\n",
      "Geração: 400\n",
      "Geração: 450\n"
     ]
    }
   ],
   "source": [
    "geracao=0\n",
    "max_geracao=500\n",
    "metrica=[]\n",
    "# Escolhe o metodo : (0) Total (1) Diferença (2) Desvio Padrão\n",
    "metodo = 2 \n",
    "while (geracao<max_geracao):\n",
    "    if (geracao%50==0):\n",
    "        print('Geração:', geracao)\n",
    "    notas=[]\n",
    "    #para cada gene\n",
    "    for ii in range(gene_pool.shape[0]):\n",
    "        #criando ordem dos times\n",
    "        lista_times_gene=[]\n",
    "        for jj in range(gene_pool.shape[1]):\n",
    "            lista_times_gene.append(lista_times_21['Time'].tolist()[gene_pool.iloc[ii,jj].astype(int)])\n",
    "        \n",
    "        ordem_times=lista_times.copy()\n",
    "        ordem_times['Equipe']=lista_times_gene\n",
    "        #calculando distancias e desvio padrao\n",
    "        notas.append(avaliacao(ordem_times, mando_solucao, enfrentamentos_solucao)[metodo])\n",
    "    \n",
    "    #vamos classificar os resultados\n",
    "    gene_pool['avaliacao']=notas\n",
    "    gene_pool = gene_pool.sort_values(by=['avaliacao']).reset_index(drop=True)\n",
    "    \n",
    "    #salvando o melhor resultado\n",
    "    metrica.append(gene_pool.iloc[0,-1])\n",
    "    \n",
    "    #gerando novos candidatos\n",
    "    gene_pool.iloc[2,:]=gene_pool.iloc[0,:]\n",
    "    gene_pool.iloc[3,:]=gene_pool.iloc[0,:]\n",
    "    gene_pool.iloc[4,:]=gene_pool.iloc[1,:]\n",
    "    gene_pool.iloc[5,:]=gene_pool.iloc[1,:]\n",
    "    \n",
    "    for ii in range(2,6):\n",
    "        x1=random.randint(0,19)\n",
    "        x2=x1\n",
    "        while x2==x1:\n",
    "            x2=random.randint(0,19)\n",
    "        pos1=gene_pool.iloc[ii,x1]\n",
    "        pos2=gene_pool.iloc[ii,x2]\n",
    "        gene_pool.iloc[ii,x1]=pos2\n",
    "        gene_pool.iloc[ii,x2]=pos1\n",
    "    \n",
    "    #preparando para próxima geração\n",
    "    gene_pool.drop(columns=['avaliacao'],inplace=True)\n",
    "    geracao+=1\n",
    "    "
   ]
  },
  {
   "cell_type": "code",
   "execution_count": 50,
   "metadata": {
    "colab": {
     "base_uri": "https://localhost:8080/",
     "height": 295
    },
    "id": "J_a4Rq92dmvt",
    "outputId": "4750e979-cf89-4503-ba84-c88c6937c12e"
   },
   "outputs": [
    {
     "data": {
      "image/png": "[encoded data removed]",
      "text/plain": [
       "<Figure size 432x288 with 1 Axes>"
      ]
     },
     "metadata": {
      "needs_background": "light",
      "tags": []
     },
     "output_type": "display_data"
    }
   ],
   "source": [
    "\n",
    "plt.plot(range(max_geracao), metrica)\n",
    "plt.xlabel('Geração')\n",
    "plt.ylabel('Menor Desvio Padrão')\n",
    "plt.title('Evolução da métrica de avaliação')\n",
    "plt.show()"
   ]
  },
  {
   "cell_type": "code",
   "execution_count": 67,
   "metadata": {
    "colab": {
     "base_uri": "https://localhost:8080/"
    },
    "id": "7f6uWJJSdmvt",
    "outputId": "37e9aff2-62a4-4724-a4a3-28fb8f79a459"
   },
   "outputs": [
    {
     "name": "stdout",
     "output_type": "stream",
     "text": [
      "A melhor ordem para os times tem um desvio padrão de : 7521.481018148416 , ordenado como abaixo.\n",
      "A ordem original tinha um desvio padrão de 10402.565550423853. Ou seja, reduzimos o desvio padrão em 28 %\n"
     ]
    }
   ],
   "source": [
    "print('A melhor ordem para os times tem um desvio padrão de :',metrica[-1],', ordenado como abaixo.')\n",
    "print('A ordem original tinha um desvio padrão de 10402.565550423853. Ou seja, reduzimos o desvio padrão em',round(100*(1-metrica[-1]/desvio_padrao)),'%')"
   ]
  },
  {
   "cell_type": "code",
   "execution_count": 68,
   "metadata": {
    "colab": {
     "base_uri": "https://localhost:8080/"
    },
    "id": "OCkY-Vbjdmvu",
    "outputId": "a47129d3-8244-4bff-eefe-aea25358ba2c"
   },
   "outputs": [
    {
     "data": {
      "text/plain": [
       "['São Paulo',\n",
       " 'Grêmio',\n",
       " 'Bragantino',\n",
       " 'Fortaleza',\n",
       " 'Bahia',\n",
       " 'Flamengo',\n",
       " 'Chapecoense',\n",
       " 'Corinthians',\n",
       " 'Internacional',\n",
       " 'Palmeiras',\n",
       " 'Atlético Mineiro',\n",
       " 'Cuiabá',\n",
       " 'Juventude',\n",
       " 'Athlético Paranaense',\n",
       " 'Santos',\n",
       " 'Sport',\n",
       " 'Ceará',\n",
       " 'Fluminense',\n",
       " 'Atlético Goianiense',\n",
       " 'América']"
      ]
     },
     "execution_count": 68,
     "metadata": {
      "tags": []
     },
     "output_type": "execute_result"
    }
   ],
   "source": [
    "melhor_lista_times=[]\n",
    "for jj in range(gene_pool.shape[1]):\n",
    "    melhor_lista_times.append(lista_times_21['Time'].tolist()[gene_pool.iloc[0,jj].astype(int)])\n",
    "melhor_lista_times       "
   ]
  },
  {
   "cell_type": "code",
   "execution_count": 69,
   "metadata": {
    "colab": {
     "base_uri": "https://localhost:8080/",
     "height": 700
    },
    "id": "nsePNm0Bdmvu",
    "outputId": "ca4b8786-9ce4-40db-bcf5-4fceab4b9ee7"
   },
   "outputs": [
    {
     "data": {
      "text/html": [
       "<div>\n",
       "<style scoped>\n",
       "    .dataframe tbody tr th:only-of-type {\n",
       "        vertical-align: middle;\n",
       "    }\n",
       "\n",
       "    .dataframe tbody tr th {\n",
       "        vertical-align: top;\n",
       "    }\n",
       "\n",
       "    .dataframe thead th {\n",
       "        text-align: right;\n",
       "    }\n",
       "</style>\n",
       "<table border=\"1\" class=\"dataframe\">\n",
       "  <thead>\n",
       "    <tr style=\"text-align: right;\">\n",
       "      <th></th>\n",
       "      <th>Equipe</th>\n",
       "      <th>Total Viagem</th>\n",
       "    </tr>\n",
       "    <tr>\n",
       "      <th>Time</th>\n",
       "      <th></th>\n",
       "      <th></th>\n",
       "    </tr>\n",
       "  </thead>\n",
       "  <tbody>\n",
       "    <tr>\n",
       "      <th>Time01</th>\n",
       "      <td>São Paulo</td>\n",
       "      <td>33927.292345</td>\n",
       "    </tr>\n",
       "    <tr>\n",
       "      <th>Time02</th>\n",
       "      <td>Grêmio</td>\n",
       "      <td>32426.720474</td>\n",
       "    </tr>\n",
       "    <tr>\n",
       "      <th>Time03</th>\n",
       "      <td>Bragantino</td>\n",
       "      <td>36496.766288</td>\n",
       "    </tr>\n",
       "    <tr>\n",
       "      <th>Time04</th>\n",
       "      <td>Fortaleza</td>\n",
       "      <td>30730.496554</td>\n",
       "    </tr>\n",
       "    <tr>\n",
       "      <th>Time05</th>\n",
       "      <td>Bahia</td>\n",
       "      <td>47255.369404</td>\n",
       "    </tr>\n",
       "    <tr>\n",
       "      <th>Time06</th>\n",
       "      <td>Flamengo</td>\n",
       "      <td>30670.870470</td>\n",
       "    </tr>\n",
       "    <tr>\n",
       "      <th>Time07</th>\n",
       "      <td>Chapecoense</td>\n",
       "      <td>61438.538206</td>\n",
       "    </tr>\n",
       "    <tr>\n",
       "      <th>Time08</th>\n",
       "      <td>Corinthians</td>\n",
       "      <td>38094.919172</td>\n",
       "    </tr>\n",
       "    <tr>\n",
       "      <th>Time09</th>\n",
       "      <td>Internacional</td>\n",
       "      <td>28040.881925</td>\n",
       "    </tr>\n",
       "    <tr>\n",
       "      <th>Time10</th>\n",
       "      <td>Palmeiras</td>\n",
       "      <td>45986.311788</td>\n",
       "    </tr>\n",
       "    <tr>\n",
       "      <th>Time11</th>\n",
       "      <td>Atlético Mineiro</td>\n",
       "      <td>33528.926576</td>\n",
       "    </tr>\n",
       "    <tr>\n",
       "      <th>Time12</th>\n",
       "      <td>Cuiabá</td>\n",
       "      <td>31681.023816</td>\n",
       "    </tr>\n",
       "    <tr>\n",
       "      <th>Time13</th>\n",
       "      <td>Juventude</td>\n",
       "      <td>59378.064145</td>\n",
       "    </tr>\n",
       "    <tr>\n",
       "      <th>Time14</th>\n",
       "      <td>Athlético Paranaense</td>\n",
       "      <td>43220.460073</td>\n",
       "    </tr>\n",
       "    <tr>\n",
       "      <th>Time15</th>\n",
       "      <td>Santos</td>\n",
       "      <td>46907.126545</td>\n",
       "    </tr>\n",
       "    <tr>\n",
       "      <th>Time16</th>\n",
       "      <td>Sport</td>\n",
       "      <td>41491.078018</td>\n",
       "    </tr>\n",
       "    <tr>\n",
       "      <th>Time17</th>\n",
       "      <td>Ceará</td>\n",
       "      <td>30336.391700</td>\n",
       "    </tr>\n",
       "    <tr>\n",
       "      <th>Time18</th>\n",
       "      <td>Fluminense</td>\n",
       "      <td>27631.877140</td>\n",
       "    </tr>\n",
       "    <tr>\n",
       "      <th>Time19</th>\n",
       "      <td>Atlético Goianiense</td>\n",
       "      <td>29895.210878</td>\n",
       "    </tr>\n",
       "    <tr>\n",
       "      <th>Time20</th>\n",
       "      <td>América</td>\n",
       "      <td>57428.050655</td>\n",
       "    </tr>\n",
       "  </tbody>\n",
       "</table>\n",
       "</div>"
      ],
      "text/plain": [
       "                      Equipe  Total Viagem\n",
       "Time                                      \n",
       "Time01             São Paulo  33927.292345\n",
       "Time02                Grêmio  32426.720474\n",
       "Time03            Bragantino  36496.766288\n",
       "Time04             Fortaleza  30730.496554\n",
       "Time05                 Bahia  47255.369404\n",
       "Time06              Flamengo  30670.870470\n",
       "Time07           Chapecoense  61438.538206\n",
       "Time08           Corinthians  38094.919172\n",
       "Time09         Internacional  28040.881925\n",
       "Time10             Palmeiras  45986.311788\n",
       "Time11      Atlético Mineiro  33528.926576\n",
       "Time12                Cuiabá  31681.023816\n",
       "Time13             Juventude  59378.064145\n",
       "Time14  Athlético Paranaense  43220.460073\n",
       "Time15                Santos  46907.126545\n",
       "Time16                 Sport  41491.078018\n",
       "Time17                 Ceará  30336.391700\n",
       "Time18            Fluminense  27631.877140\n",
       "Time19   Atlético Goianiense  29895.210878\n",
       "Time20               América  57428.050655"
      ]
     },
     "execution_count": 69,
     "metadata": {
      "tags": []
     },
     "output_type": "execute_result"
    }
   ],
   "source": [
    "melhor_ordem_times=lista_times.copy()\n",
    "melhor_ordem_times['Equipe']=melhor_lista_times\n",
    "percorrido=[]\n",
    "for ii in range(percursos.shape[0]):\n",
    "    viagens=0\n",
    "    for jj in range(percursos.shape[1]-1):\n",
    "        viagens += distancias.loc[lista_times.loc[percursos.iloc[ii,jj],'Equipe'],\n",
    "                                  lista_times.loc[percursos.iloc[ii,jj+1],'Equipe']]\n",
    "    \n",
    "    percorrido.append(viagens)\n",
    "melhor_ordem_times['Total Viagem']=percorrido\n",
    "melhor_ordem_times\n"
   ]
  },
  {
   "cell_type": "markdown",
   "metadata": {
    "id": "0iDG2r3Mr90I"
   },
   "source": [
    "Distribuição das distâncias após otimização com a métrica 3"
   ]
  },
  {
   "cell_type": "code",
   "execution_count": 72,
   "metadata": {
    "colab": {
     "base_uri": "https://localhost:8080/",
     "height": 295
    },
    "id": "iDXtenaZdmvu",
    "outputId": "cb8ef6e4-1870-47fc-9b47-6b206ee562ef"
   },
   "outputs": [
    {
     "data": {
      "image/png": "[encoded data removed]",
      "text/plain": [
       "<Figure size 432x288 with 1 Axes>"
      ]
     },
     "metadata": {
      "needs_background": "light",
      "tags": []
     },
     "output_type": "display_data"
    }
   ],
   "source": [
    "plt.hist(percorrido, bins = 6)\n",
    "plt.xlabel('Total viajado')\n",
    "plt.ylabel('Número de Equipes')\n",
    "plt.title('Distribuição de distância')\n",
    "plt.show()"
   ]
  },
  {
   "cell_type": "markdown",
   "metadata": {
    "id": "9aCuux3Ndmvv"
   },
   "source": [
    "Com isso, encerramos a primeira abordagem."
   ]
  },
  {
   "cell_type": "markdown",
   "metadata": {
    "id": "C1XLbmlxdmvv"
   },
   "source": [
    "## 7. Otimizando mandos de campo"
   ]
  },
  {
   "cell_type": "markdown",
   "metadata": {
    "id": "2lFBsqD0dmvv"
   },
   "source": [
    "Vamos tentar otimizar os mandos de campo, mantendo as duas outras tabelas fixas. Ou seja, a questão é definir a sequência de jogos em casa ou fora para cada equipe, mas devemos respeitar a premissa de não ter mais de duas partidas em casa ou fora em sequência."
   ]
  },
  {
   "cell_type": "code",
   "execution_count": null,
   "metadata": {
    "id": "WBAazGYKdmvv"
   },
   "outputs": [],
   "source": [
    "enfrentamentos_solucao = enfrentamentos.copy()\n",
    "lista_times_solucao = lista_times.copy()"
   ]
  },
  {
   "cell_type": "markdown",
   "metadata": {
    "id": "XiBHiRnMdmvv"
   },
   "source": [
    "Para esse exercício, nosso gene é uma tabela semelhante com os mandos de campo, onde cada linha é um dos times e cada coluna é uma rodada. A mutação nesse caso é a escolha aleatória de uma partida na tabela *enfrentamentos*. O mando de campo desse jogo será invertido. Precisamos validar a mutação verificando a premissa 1:\n",
    "1. Nenhum time pode jogar mais do que duas partidas seguidas em casa ou fora.\n",
    "\n",
    "\n",
    "Vamos construir uma função nova que verifique essa condição para todas as equipes."
   ]
  },
  {
   "cell_type": "code",
   "execution_count": null,
   "metadata": {
    "id": "2terJ3x4dmvw"
   },
   "outputs": [],
   "source": [
    "#retorna 0 quando não tem problemas, 1 quando tem\n",
    "def verificaPremissa(mando_gene):\n",
    "    ok=0\n",
    "    for ii in range(mando_gene.shape[0]):\n",
    "        for jj in range(mando_gene.shape[1]-2):\n",
    "            teste=mando_gene.iloc[ii,jj]+mando_gene.iloc[ii,jj+1]+mando_gene.iloc[ii,jj+2]\n",
    "            if teste==0 or teste==3:\n",
    "                ok=1\n",
    "        teste=(1-mando_gene.iloc[ii,0])+mando_gene.iloc[ii,-2]+mando_gene.iloc[ii,-1]\n",
    "        if teste==0 or teste==3:\n",
    "            ok=1\n",
    "        teste=(1-mando_gene.iloc[ii,0])+(1-mando_gene.iloc[ii,1])+mando_gene.iloc[ii,-1]\n",
    "        if teste==0 or teste==3:\n",
    "            ok=1\n",
    "    \n",
    "    return ok\n",
    "    "
   ]
  },
  {
   "cell_type": "markdown",
   "metadata": {
    "id": "G8qM3k4pdmvw"
   },
   "source": [
    "Ao final do algoritmo, vamos exibir o gráfico com a evolução do valor da melhor avaliação em cada geração. Esperamos que ao final o sistema atinja um valor otimizado.\n",
    "Temos quatro parâmetros para definir:\n",
    "\n",
    "1. o número de genes que vamos avaliar em cada geração: 6;\n",
    "2. o número de genes que vamos manter de uma geração para outra: 2;\n",
    "3. o número de gerações: 500;\n",
    "4. os genes originais.\n",
    "\n"
   ]
  },
  {
   "cell_type": "markdown",
   "metadata": {
    "id": "zDf9Be_Udmvw"
   },
   "source": [
    "A criação dos genes originais é mais complicada nessa abordagem. A partir da tabela original, vamos criar 5 novas tabelas, com apenas uma mutação para cada."
   ]
  },
  {
   "cell_type": "markdown",
   "metadata": {
    "id": "58ip-BAydmvw"
   },
   "source": [
    "**TENTAMOS GERAR 5 NOVAS TABELAS, MAS A FUNÇÃO ABAIXO NÃO RETORNOU NENHUMA MUTAÇÃO QUE RESPEITE A PREMISSA DEPOIS DE 5000 TESTES.** "
   ]
  },
  {
   "cell_type": "code",
   "execution_count": null,
   "metadata": {
    "id": "JpLuMm0Ndmvx"
   },
   "outputs": [],
   "source": [
    "gene_pool=[]\n",
    "gene_pool.append(mando)\n",
    "jj=0\n",
    "for ii in range(5):\n",
    "    mando_gene=mando.copy()\n",
    "    ok=1\n",
    "    #enquanto não passar no teste da premissa\n",
    "    while ok>0:\n",
    "        jj+=1\n",
    "        #sorteio de um time x1 e uma rodada x2\n",
    "        x1=random.randint(0,19)\n",
    "        x2=random.randint(0,18)\n",
    "        equipe1=generico[x1]\n",
    "        equipe2=enfrentamentos_solucao.iloc[x1,x2]\n",
    "        mando_gene.loc[equipe1,rodadas[x2]]=1-mando_gene.loc[equipe1,rodadas[x2]]\n",
    "        mando_gene.loc[equipe2,rodadas[x2]]=1-mando_gene.loc[equipe2,rodadas[x2]]\n",
    "        \n",
    "        ok=verificaPremissa(mando_gene)\n",
    "        if jj%100==0:\n",
    "            jj=0\n",
    "            print('não deu')\n",
    "            break\n",
    "          \n",
    "    print('ok')\n",
    "    gene_pool.append(mando_gene)\n"
   ]
  },
  {
   "cell_type": "markdown",
   "metadata": {
    "id": "c_mR1fwJdmvx"
   },
   "source": [
    "Não foi possível terminar essa abordagem, pois não conseguimos gerar mutações validadas."
   ]
  },
  {
   "cell_type": "markdown",
   "metadata": {
    "id": "OTzlKIgidmvx"
   },
   "source": [
    "## 8. Otimizando enfrentamentos"
   ]
  },
  {
   "cell_type": "markdown",
   "metadata": {
    "id": "7_Px02bldmvx"
   },
   "source": [
    "Vamos tentar otimizar a ordem das rodadas, mantendo as duas outras tabelas fixas. Ou seja, a questão é definir a sequência de times que cada um vai enfrentar. De novo, precisamos respeitar a premissa de não ter mais de duas partidas em casa ou fora em sequência."
   ]
  },
  {
   "cell_type": "code",
   "execution_count": null,
   "metadata": {
    "id": "UgE4mwDzdmvx"
   },
   "outputs": [],
   "source": [
    "mando_solucao = mando.copy()\n",
    "lista_times_solucao = lista_times.copy()"
   ]
  },
  {
   "cell_type": "markdown",
   "metadata": {
    "id": "VCkYGDzJdmvy"
   },
   "source": [
    "Para esse exercício, nosso gene é um vetor com o reordenamento das rodadas.  "
   ]
  },
  {
   "cell_type": "code",
   "execution_count": null,
   "metadata": {
    "id": "Y0bak6AIdmvy",
    "outputId": "bd088272-d91e-443c-c9c3-8140a33b725e"
   },
   "outputs": [
    {
     "name": "stdout",
     "output_type": "stream",
     "text": [
      "Ou seja, o vetor (0,1,2,3,4,5,6,7,8,9,10,11,12,13,141,15,16,17,18,19) é: ['Rodada 1', 'Rodada 2', 'Rodada 3', 'Rodada 4', 'Rodada 5', 'Rodada 6', 'Rodada 7', 'Rodada 8', 'Rodada 9', 'Rodada 10', 'Rodada 11', 'Rodada 12', 'Rodada 13', 'Rodada 14', 'Rodada 15', 'Rodada 16', 'Rodada 17', 'Rodada 18', 'Rodada 19']\n"
     ]
    }
   ],
   "source": [
    "print('Ou seja, o vetor (0,1,2,3,4,5,6,7,8,9,10,11,12,13,141,15,16,17,18,19) é:', rodadas)"
   ]
  },
  {
   "cell_type": "markdown",
   "metadata": {
    "id": "ATLfr8aJdmvy"
   },
   "source": [
    "Em cada geração, temos 6 genes sendo avaliados. Os dois melhores serão mantidos e serão criados dois novos candidatos a partir de cada um, escolhendo um par de rodadas para ter suas posições trocadas, lembrando que precisamos obedecer a premissa:\n",
    "1. Nenhum time pode jogar mais do que duas partidas seguidas em casa ou fora.\n",
    "\n",
    "Ao final, teremos a ordem de rodadas com o menor valor de nossa métrica e um gráfico com a evolução da melhor avaliação de cada geração.\n",
    "\n"
   ]
  },
  {
   "cell_type": "markdown",
   "metadata": {
    "id": "C0TPpkRadmvy"
   },
   "source": [
    "A criação dos genes originais é mais complicada nessa abordagem. A partir da tabela original, vamos criar 5 novas tabelas, com apenas uma mutação para cada."
   ]
  },
  {
   "cell_type": "markdown",
   "metadata": {
    "id": "FLdNZmAXdmvy"
   },
   "source": [
    "**TENTAMOS GERAR 5 NOVAS TABELAS, MAS A FUNÇÃO ABAIXO NÃO RETORNOU NENHUMA MUTAÇÃO QUE RESPEITE A PREMISSA DEPOIS DE 5000 TESTES.** "
   ]
  },
  {
   "cell_type": "code",
   "execution_count": null,
   "metadata": {
    "id": "ouCRWTv6dmvz",
    "outputId": "8181537b-9732-4d79-cbc4-6cac4b145c1b"
   },
   "outputs": [
    {
     "name": "stdout",
     "output_type": "stream",
     "text": [
      "não deu\n",
      "ok\n",
      "não deu\n",
      "ok\n",
      "não deu\n",
      "ok\n",
      "não deu\n",
      "ok\n",
      "não deu\n",
      "ok\n"
     ]
    }
   ],
   "source": [
    "gene_pool=[]\n",
    "gene_pool.append(rodadas)\n",
    "jj=0\n",
    "for ii in range(5):\n",
    "    rodadas_gene=rodadas.copy()\n",
    "    ok=1\n",
    "    #enquanto não passar no teste da premissa\n",
    "    while ok>0:\n",
    "        jj+=1\n",
    "        x1=random.randint(0,18)\n",
    "        x2=x1\n",
    "        while x2==x1:\n",
    "            x2=random.randint(0,18)\n",
    "        pos1=rodadas_gene[x1]\n",
    "        pos2=rodadas_gene[x2]\n",
    "        rodadas_gene[x1]=pos2\n",
    "        rodadas_gene[x2]=pos1\n",
    "                \n",
    "        ok=verificaPremissa(mando[rodadas_gene])\n",
    "        if jj%100==0:\n",
    "            jj=0\n",
    "            print('não deu')\n",
    "            break\n",
    "    print('ok')\n",
    "    gene_pool.append(rodadas_gene)"
   ]
  },
  {
   "cell_type": "markdown",
   "metadata": {
    "id": "0K-PaN1jdmvz"
   },
   "source": [
    "Não foi possível terminar essa abordagem, pois não conseguimos gerar mutações validadas."
   ]
  },
  {
   "cell_type": "markdown",
   "metadata": {
    "id": "8WtAwiPEdmvz"
   },
   "source": [
    "## 9. Conclusão"
   ]
  },
  {
   "cell_type": "markdown",
   "metadata": {
    "id": "kPVCBf3admvz"
   },
   "source": [
    "Realmente, a geração de uma programação para um campeonato com 20 equipes é uma tarefa bem complexa. A partir dos dados do Campeonato Brasileiro de Futebol de 2020, dividimos o problema em três tabelas e tentamos resolvê-lo atacando uma tabela de cada vez. Infelizmente, só conseguimos uma solução para o caso do ordenamento dos times. "
   ]
  },
  {
   "cell_type": "markdown",
   "metadata": {
    "id": "zXKjXuqFdmv0"
   },
   "source": [
    "Em compensação, uma vez montado o algoritmo, podemos utilizá-lo para qualquer torneio com 20 equipes. Como encerramento do trabalho, repetimos a análise com os times da Segunda Divisão."
   ]
  },
  {
   "cell_type": "code",
   "execution_count": null,
   "metadata": {
    "id": "qwyo3YEXdmv0",
    "outputId": "2b5b7990-3849-4634-995d-07ba57b45108"
   },
   "outputs": [
    {
     "name": "stdout",
     "output_type": "stream",
     "text": [
      "0\n",
      "1\n",
      "2\n",
      "3\n",
      "4\n",
      "5\n",
      "6\n",
      "7\n",
      "8\n",
      "9\n",
      "10\n",
      "11\n",
      "12\n",
      "13\n",
      "14\n",
      "15\n",
      "16\n",
      "17\n",
      "18\n",
      "19\n"
     ]
    },
    {
     "data": {
      "text/html": [
       "<div>\n",
       "<style scoped>\n",
       "    .dataframe tbody tr th:only-of-type {\n",
       "        vertical-align: middle;\n",
       "    }\n",
       "\n",
       "    .dataframe tbody tr th {\n",
       "        vertical-align: top;\n",
       "    }\n",
       "\n",
       "    .dataframe thead th {\n",
       "        text-align: right;\n",
       "    }\n",
       "</style>\n",
       "<table border=\"1\" class=\"dataframe\">\n",
       "  <thead>\n",
       "    <tr style=\"text-align: right;\">\n",
       "      <th></th>\n",
       "      <th>Time</th>\n",
       "      <th>Cidade</th>\n",
       "      <th>Latitude</th>\n",
       "      <th>Longitude</th>\n",
       "    </tr>\n",
       "  </thead>\n",
       "  <tbody>\n",
       "    <tr>\n",
       "      <th>0</th>\n",
       "      <td>Avaí</td>\n",
       "      <td>Florianópolis</td>\n",
       "      <td>-27.597300</td>\n",
       "      <td>-48.549610</td>\n",
       "    </tr>\n",
       "    <tr>\n",
       "      <th>1</th>\n",
       "      <td>Botafogo</td>\n",
       "      <td>Rio de Janeiro</td>\n",
       "      <td>-22.911014</td>\n",
       "      <td>-43.209373</td>\n",
       "    </tr>\n",
       "    <tr>\n",
       "      <th>2</th>\n",
       "      <td>Brasil de Pelotas</td>\n",
       "      <td>Pelotas</td>\n",
       "      <td>-31.769974</td>\n",
       "      <td>-52.341016</td>\n",
       "    </tr>\n",
       "    <tr>\n",
       "      <th>3</th>\n",
       "      <td>Brusque</td>\n",
       "      <td>Brusque</td>\n",
       "      <td>-27.096463</td>\n",
       "      <td>-48.913632</td>\n",
       "    </tr>\n",
       "    <tr>\n",
       "      <th>4</th>\n",
       "      <td>CRB</td>\n",
       "      <td>Maceió</td>\n",
       "      <td>-9.647684</td>\n",
       "      <td>-35.733926</td>\n",
       "    </tr>\n",
       "  </tbody>\n",
       "</table>\n",
       "</div>"
      ],
      "text/plain": [
       "                Time          Cidade   Latitude  Longitude\n",
       "0               Avaí   Florianópolis -27.597300 -48.549610\n",
       "1           Botafogo  Rio de Janeiro -22.911014 -43.209373\n",
       "2  Brasil de Pelotas         Pelotas -31.769974 -52.341016\n",
       "3            Brusque         Brusque -27.096463 -48.913632\n",
       "4                CRB          Maceió  -9.647684 -35.733926"
      ]
     },
     "execution_count": 291,
     "metadata": {
      "tags": []
     },
     "output_type": "execute_result"
    }
   ],
   "source": [
    "lista_times_21b=pd.read_csv('times_21b.csv')\n",
    "lista_times_21b['Latitude']=0.\n",
    "lista_times_21b['Longitude']=0.\n",
    "\n",
    "for ii in range(lista_times_21b.shape[0]):\n",
    "    print(ii)\n",
    "    address = [lista_times_21b.iloc[ii,1],'Brazil']\n",
    "    location = get_location_by_address(address)\n",
    "    lista_times_21b.iloc[ii,-2] = float(location[\"lat\"])\n",
    "    lista_times_21b.iloc[ii,-1] = float(location[\"lon\"])\n",
    "lista_times_21b.head()"
   ]
  },
  {
   "cell_type": "code",
   "execution_count": null,
   "metadata": {
    "id": "m4J2_iVgdmv0",
    "outputId": "181c8c0a-df8e-4eec-e67a-98d5f3a46140"
   },
   "outputs": [
    {
     "data": {
      "text/html": [
       "<div style=\"width:100%;\"><div style=\"position:relative;width:100%;height:0;padding-bottom:60%;\"><span style=\"color:#565656\">Make this Notebook Trusted to load map: File -> Trust Notebook</span><iframe src=\"about:blank\" style=\"position:absolute;width:100%;height:100%;left:0;top:0;border:none !important;\" data-html=%3C%21DOCTYPE%20html%3E%0A%3Chead%3E%20%20%20%20%0A%20%20%20%20%3Cmeta%20http-equiv%3D%22content-type%22%20content%3D%22text/html%3B%20charset%3DUTF-8%22%20/%3E%0A%20%20%20%20%0A%20%20%20%20%20%20%20%20%3Cscript%3E%0A%20%20%20%20%20%20%20%20%20%20%20%20L_NO_TOUCH%20%3D%20false%3B%0A%20%20%20%20%20%20%20%20%20%20%20%20L_DISABLE_3D%20%3D%20false%3B%0A%20%20%20%20%20%20%20%20%3C/script%3E%0A%20%20%20%20%0A%20%20%20%20%3Cstyle%3Ehtml%2C%20body%20%7Bwidth%3A%20100%25%3Bheight%3A%20100%25%3Bmargin%3A%200%3Bpadding%3A%200%3B%7D%3C/style%3E%0A%20%20%20%20%3Cstyle%3E%23map%20%7Bposition%3Aabsolute%3Btop%3A0%3Bbottom%3A0%3Bright%3A0%3Bleft%3A0%3B%7D%3C/style%3E%0A%20%20%20%20%3Cscript%20src%3D%22https%3A//cdn.jsdelivr.net/npm/leaflet%401.6.0/dist/leaflet.js%22%3E%3C/script%3E%0A%20%20%20%20%3Cscript%20src%3D%22https%3A//code.jquery.com/jquery-1.12.4.min.js%22%3E%3C/script%3E%0A%20%20%20%20%3Cscript%20src%3D%22https%3A//maxcdn.bootstrapcdn.com/bootstrap/3.2.0/js/bootstrap.min.js%22%3E%3C/script%3E%0A%20%20%20%20%3Cscript%20src%3D%22https%3A//cdnjs.cloudflare.com/ajax/libs/Leaflet.awesome-markers/2.0.2/leaflet.awesome-markers.js%22%3E%3C/script%3E%0A%20%20%20%20%3Clink%20rel%3D%22stylesheet%22%20href%3D%22https%3A//cdn.jsdelivr.net/npm/leaflet%401.6.0/dist/leaflet.css%22/%3E%0A%20%20%20%20%3Clink%20rel%3D%22stylesheet%22%20href%3D%22https%3A//maxcdn.bootstrapcdn.com/bootstrap/3.2.0/css/bootstrap.min.css%22/%3E%0A%20%20%20%20%3Clink%20rel%3D%22stylesheet%22%20href%3D%22https%3A//maxcdn.bootstrapcdn.com/bootstrap/3.2.0/css/bootstrap-theme.min.css%22/%3E%0A%20%20%20%20%3Clink%20rel%3D%22stylesheet%22%20href%3D%22https%3A//maxcdn.bootstrapcdn.com/font-awesome/4.6.3/css/font-awesome.min.css%22/%3E%0A%20%20%20%20%3Clink%20rel%3D%22stylesheet%22%20href%3D%22https%3A//cdnjs.cloudflare.com/ajax/libs/Leaflet.awesome-markers/2.0.2/leaflet.awesome-markers.css%22/%3E%0A%20%20%20%20%3Clink%20rel%3D%22stylesheet%22%20href%3D%22https%3A//cdn.jsdelivr.net/gh/python-visualization/folium/folium/templates/leaflet.awesome.rotate.min.css%22/%3E%0A%20%20%20%20%0A%20%20%20%20%20%20%20%20%20%20%20%20%3Cmeta%20name%3D%22viewport%22%20content%3D%22width%3Ddevice-width%2C%0A%20%20%20%20%20%20%20%20%20%20%20%20%20%20%20%20initial-scale%3D1.0%2C%20maximum-scale%3D1.0%2C%20user-scalable%3Dno%22%20/%3E%0A%20%20%20%20%20%20%20%20%20%20%20%20%3Cstyle%3E%0A%20%20%20%20%20%20%20%20%20%20%20%20%20%20%20%20%23map_cdbc5fcad51342848be7392fd2cffd21%20%7B%0A%20%20%20%20%20%20%20%20%20%20%20%20%20%20%20%20%20%20%20%20position%3A%20relative%3B%0A%20%20%20%20%20%20%20%20%20%20%20%20%20%20%20%20%20%20%20%20width%3A%20100.0%25%3B%0A%20%20%20%20%20%20%20%20%20%20%20%20%20%20%20%20%20%20%20%20height%3A%20100.0%25%3B%0A%20%20%20%20%20%20%20%20%20%20%20%20%20%20%20%20%20%20%20%20left%3A%200.0%25%3B%0A%20%20%20%20%20%20%20%20%20%20%20%20%20%20%20%20%20%20%20%20top%3A%200.0%25%3B%0A%20%20%20%20%20%20%20%20%20%20%20%20%20%20%20%20%7D%0A%20%20%20%20%20%20%20%20%20%20%20%20%3C/style%3E%0A%20%20%20%20%20%20%20%20%0A%3C/head%3E%0A%3Cbody%3E%20%20%20%20%0A%20%20%20%20%0A%20%20%20%20%20%20%20%20%20%20%20%20%3Cdiv%20class%3D%22folium-map%22%20id%3D%22map_cdbc5fcad51342848be7392fd2cffd21%22%20%3E%3C/div%3E%0A%20%20%20%20%20%20%20%20%0A%3C/body%3E%0A%3Cscript%3E%20%20%20%20%0A%20%20%20%20%0A%20%20%20%20%20%20%20%20%20%20%20%20var%20map_cdbc5fcad51342848be7392fd2cffd21%20%3D%20L.map%28%0A%20%20%20%20%20%20%20%20%20%20%20%20%20%20%20%20%22map_cdbc5fcad51342848be7392fd2cffd21%22%2C%0A%20%20%20%20%20%20%20%20%20%20%20%20%20%20%20%20%7B%0A%20%20%20%20%20%20%20%20%20%20%20%20%20%20%20%20%20%20%20%20center%3A%20%5B-10.3333333%2C%20-53.2%5D%2C%0A%20%20%20%20%20%20%20%20%20%20%20%20%20%20%20%20%20%20%20%20crs%3A%20L.CRS.EPSG3857%2C%0A%20%20%20%20%20%20%20%20%20%20%20%20%20%20%20%20%20%20%20%20zoom%3A%204%2C%0A%20%20%20%20%20%20%20%20%20%20%20%20%20%20%20%20%20%20%20%20zoomControl%3A%20true%2C%0A%20%20%20%20%20%20%20%20%20%20%20%20%20%20%20%20%20%20%20%20preferCanvas%3A%20false%2C%0A%20%20%20%20%20%20%20%20%20%20%20%20%20%20%20%20%7D%0A%20%20%20%20%20%20%20%20%20%20%20%20%29%3B%0A%0A%20%20%20%20%20%20%20%20%20%20%20%20%0A%0A%20%20%20%20%20%20%20%20%0A%20%20%20%20%0A%20%20%20%20%20%20%20%20%20%20%20%20var%20tile_layer_9a6f3cdb2fe14b22844b32fff4119499%20%3D%20L.tileLayer%28%0A%20%20%20%20%20%20%20%20%20%20%20%20%20%20%20%20%22https%3A//%7Bs%7D.tile.openstreetmap.org/%7Bz%7D/%7Bx%7D/%7By%7D.png%22%2C%0A%20%20%20%20%20%20%20%20%20%20%20%20%20%20%20%20%7B%22attribution%22%3A%20%22Data%20by%20%5Cu0026copy%3B%20%5Cu003ca%20href%3D%5C%22http%3A//openstreetmap.org%5C%22%5Cu003eOpenStreetMap%5Cu003c/a%5Cu003e%2C%20under%20%5Cu003ca%20href%3D%5C%22http%3A//www.openstreetmap.org/copyright%5C%22%5Cu003eODbL%5Cu003c/a%5Cu003e.%22%2C%20%22detectRetina%22%3A%20false%2C%20%22maxNativeZoom%22%3A%2018%2C%20%22maxZoom%22%3A%2018%2C%20%22minZoom%22%3A%200%2C%20%22noWrap%22%3A%20false%2C%20%22opacity%22%3A%201%2C%20%22subdomains%22%3A%20%22abc%22%2C%20%22tms%22%3A%20false%7D%0A%20%20%20%20%20%20%20%20%20%20%20%20%29.addTo%28map_cdbc5fcad51342848be7392fd2cffd21%29%3B%0A%20%20%20%20%20%20%20%20%0A%20%20%20%20%0A%20%20%20%20%20%20%20%20%20%20%20%20var%20circle_marker_09ff593513ee42fdab4d6e0988c96c84%20%3D%20L.circleMarker%28%0A%20%20%20%20%20%20%20%20%20%20%20%20%20%20%20%20%5B-27.5973002%2C%20-48.5496098%5D%2C%0A%20%20%20%20%20%20%20%20%20%20%20%20%20%20%20%20%7B%22bubblingMouseEvents%22%3A%20true%2C%20%22color%22%3A%20%22blue%22%2C%20%22dashArray%22%3A%20null%2C%20%22dashOffset%22%3A%20null%2C%20%22fill%22%3A%20true%2C%20%22fillColor%22%3A%20%22%233186cc%22%2C%20%22fillOpacity%22%3A%200.7%2C%20%22fillRule%22%3A%20%22evenodd%22%2C%20%22lineCap%22%3A%20%22round%22%2C%20%22lineJoin%22%3A%20%22round%22%2C%20%22opacity%22%3A%201.0%2C%20%22radius%22%3A%205%2C%20%22stroke%22%3A%20true%2C%20%22weight%22%3A%203%7D%0A%20%20%20%20%20%20%20%20%20%20%20%20%29.addTo%28map_cdbc5fcad51342848be7392fd2cffd21%29%3B%0A%20%20%20%20%20%20%20%20%0A%20%20%20%20%0A%20%20%20%20%20%20%20%20var%20popup_0015bf12e8804a76806f6aa486f91113%20%3D%20L.popup%28%7B%22maxWidth%22%3A%20%22100%25%22%7D%29%3B%0A%0A%20%20%20%20%20%20%20%20%0A%20%20%20%20%20%20%20%20%20%20%20%20var%20html_cc0ce1293f5441c59f87153f63f0ad4a%20%3D%20%24%28%60%3Cdiv%20id%3D%22html_cc0ce1293f5441c59f87153f63f0ad4a%22%20style%3D%22width%3A%20100.0%25%3B%20height%3A%20100.0%25%3B%22%3EAva%C3%AD%3C/div%3E%60%29%5B0%5D%3B%0A%20%20%20%20%20%20%20%20%20%20%20%20popup_0015bf12e8804a76806f6aa486f91113.setContent%28html_cc0ce1293f5441c59f87153f63f0ad4a%29%3B%0A%20%20%20%20%20%20%20%20%0A%0A%20%20%20%20%20%20%20%20circle_marker_09ff593513ee42fdab4d6e0988c96c84.bindPopup%28popup_0015bf12e8804a76806f6aa486f91113%29%0A%20%20%20%20%20%20%20%20%3B%0A%0A%20%20%20%20%20%20%20%20%0A%20%20%20%20%0A%20%20%20%20%0A%20%20%20%20%20%20%20%20%20%20%20%20var%20circle_marker_3723f86e460343639f47aa71776a1a82%20%3D%20L.circleMarker%28%0A%20%20%20%20%20%20%20%20%20%20%20%20%20%20%20%20%5B-22.9110137%2C%20-43.2093727%5D%2C%0A%20%20%20%20%20%20%20%20%20%20%20%20%20%20%20%20%7B%22bubblingMouseEvents%22%3A%20true%2C%20%22color%22%3A%20%22blue%22%2C%20%22dashArray%22%3A%20null%2C%20%22dashOffset%22%3A%20null%2C%20%22fill%22%3A%20true%2C%20%22fillColor%22%3A%20%22%233186cc%22%2C%20%22fillOpacity%22%3A%200.7%2C%20%22fillRule%22%3A%20%22evenodd%22%2C%20%22lineCap%22%3A%20%22round%22%2C%20%22lineJoin%22%3A%20%22round%22%2C%20%22opacity%22%3A%201.0%2C%20%22radius%22%3A%205%2C%20%22stroke%22%3A%20true%2C%20%22weight%22%3A%203%7D%0A%20%20%20%20%20%20%20%20%20%20%20%20%29.addTo%28map_cdbc5fcad51342848be7392fd2cffd21%29%3B%0A%20%20%20%20%20%20%20%20%0A%20%20%20%20%0A%20%20%20%20%20%20%20%20var%20popup_e6a6534affa544f8a17a7d1d62920500%20%3D%20L.popup%28%7B%22maxWidth%22%3A%20%22100%25%22%7D%29%3B%0A%0A%20%20%20%20%20%20%20%20%0A%20%20%20%20%20%20%20%20%20%20%20%20var%20html_12b3afd6071d4aeaa1e3a6fb9894697a%20%3D%20%24%28%60%3Cdiv%20id%3D%22html_12b3afd6071d4aeaa1e3a6fb9894697a%22%20style%3D%22width%3A%20100.0%25%3B%20height%3A%20100.0%25%3B%22%3EBotafogo%3C/div%3E%60%29%5B0%5D%3B%0A%20%20%20%20%20%20%20%20%20%20%20%20popup_e6a6534affa544f8a17a7d1d62920500.setContent%28html_12b3afd6071d4aeaa1e3a6fb9894697a%29%3B%0A%20%20%20%20%20%20%20%20%0A%0A%20%20%20%20%20%20%20%20circle_marker_3723f86e460343639f47aa71776a1a82.bindPopup%28popup_e6a6534affa544f8a17a7d1d62920500%29%0A%20%20%20%20%20%20%20%20%3B%0A%0A%20%20%20%20%20%20%20%20%0A%20%20%20%20%0A%20%20%20%20%0A%20%20%20%20%20%20%20%20%20%20%20%20var%20circle_marker_dbf1ab5783934d71a9e05089f5fec132%20%3D%20L.circleMarker%28%0A%20%20%20%20%20%20%20%20%20%20%20%20%20%20%20%20%5B-31.7699736%2C%20-52.3410161%5D%2C%0A%20%20%20%20%20%20%20%20%20%20%20%20%20%20%20%20%7B%22bubblingMouseEvents%22%3A%20true%2C%20%22color%22%3A%20%22blue%22%2C%20%22dashArray%22%3A%20null%2C%20%22dashOffset%22%3A%20null%2C%20%22fill%22%3A%20true%2C%20%22fillColor%22%3A%20%22%233186cc%22%2C%20%22fillOpacity%22%3A%200.7%2C%20%22fillRule%22%3A%20%22evenodd%22%2C%20%22lineCap%22%3A%20%22round%22%2C%20%22lineJoin%22%3A%20%22round%22%2C%20%22opacity%22%3A%201.0%2C%20%22radius%22%3A%205%2C%20%22stroke%22%3A%20true%2C%20%22weight%22%3A%203%7D%0A%20%20%20%20%20%20%20%20%20%20%20%20%29.addTo%28map_cdbc5fcad51342848be7392fd2cffd21%29%3B%0A%20%20%20%20%20%20%20%20%0A%20%20%20%20%0A%20%20%20%20%20%20%20%20var%20popup_080519c66b1843ccbba8f9e486c214e1%20%3D%20L.popup%28%7B%22maxWidth%22%3A%20%22100%25%22%7D%29%3B%0A%0A%20%20%20%20%20%20%20%20%0A%20%20%20%20%20%20%20%20%20%20%20%20var%20html_1155dfce875f4f1aa64ebf7a5402703c%20%3D%20%24%28%60%3Cdiv%20id%3D%22html_1155dfce875f4f1aa64ebf7a5402703c%22%20style%3D%22width%3A%20100.0%25%3B%20height%3A%20100.0%25%3B%22%3EBrasil%20de%20Pelotas%3C/div%3E%60%29%5B0%5D%3B%0A%20%20%20%20%20%20%20%20%20%20%20%20popup_080519c66b1843ccbba8f9e486c214e1.setContent%28html_1155dfce875f4f1aa64ebf7a5402703c%29%3B%0A%20%20%20%20%20%20%20%20%0A%0A%20%20%20%20%20%20%20%20circle_marker_dbf1ab5783934d71a9e05089f5fec132.bindPopup%28popup_080519c66b1843ccbba8f9e486c214e1%29%0A%20%20%20%20%20%20%20%20%3B%0A%0A%20%20%20%20%20%20%20%20%0A%20%20%20%20%0A%20%20%20%20%0A%20%20%20%20%20%20%20%20%20%20%20%20var%20circle_marker_3310f1606d6644799cc1ac9e1ceea2fe%20%3D%20L.circleMarker%28%0A%20%20%20%20%20%20%20%20%20%20%20%20%20%20%20%20%5B-27.0964628%2C%20-48.9136323%5D%2C%0A%20%20%20%20%20%20%20%20%20%20%20%20%20%20%20%20%7B%22bubblingMouseEvents%22%3A%20true%2C%20%22color%22%3A%20%22blue%22%2C%20%22dashArray%22%3A%20null%2C%20%22dashOffset%22%3A%20null%2C%20%22fill%22%3A%20true%2C%20%22fillColor%22%3A%20%22%233186cc%22%2C%20%22fillOpacity%22%3A%200.7%2C%20%22fillRule%22%3A%20%22evenodd%22%2C%20%22lineCap%22%3A%20%22round%22%2C%20%22lineJoin%22%3A%20%22round%22%2C%20%22opacity%22%3A%201.0%2C%20%22radius%22%3A%205%2C%20%22stroke%22%3A%20true%2C%20%22weight%22%3A%203%7D%0A%20%20%20%20%20%20%20%20%20%20%20%20%29.addTo%28map_cdbc5fcad51342848be7392fd2cffd21%29%3B%0A%20%20%20%20%20%20%20%20%0A%20%20%20%20%0A%20%20%20%20%20%20%20%20var%20popup_278c8ae508ae4bd6b8521968e4b852d7%20%3D%20L.popup%28%7B%22maxWidth%22%3A%20%22100%25%22%7D%29%3B%0A%0A%20%20%20%20%20%20%20%20%0A%20%20%20%20%20%20%20%20%20%20%20%20var%20html_e3184b9c293546ec8490b272db63ccd8%20%3D%20%24%28%60%3Cdiv%20id%3D%22html_e3184b9c293546ec8490b272db63ccd8%22%20style%3D%22width%3A%20100.0%25%3B%20height%3A%20100.0%25%3B%22%3EBrusque%3C/div%3E%60%29%5B0%5D%3B%0A%20%20%20%20%20%20%20%20%20%20%20%20popup_278c8ae508ae4bd6b8521968e4b852d7.setContent%28html_e3184b9c293546ec8490b272db63ccd8%29%3B%0A%20%20%20%20%20%20%20%20%0A%0A%20%20%20%20%20%20%20%20circle_marker_3310f1606d6644799cc1ac9e1ceea2fe.bindPopup%28popup_278c8ae508ae4bd6b8521968e4b852d7%29%0A%20%20%20%20%20%20%20%20%3B%0A%0A%20%20%20%20%20%20%20%20%0A%20%20%20%20%0A%20%20%20%20%0A%20%20%20%20%20%20%20%20%20%20%20%20var%20circle_marker_60aec7ecfba7451cabf809cc7cd63bd5%20%3D%20L.circleMarker%28%0A%20%20%20%20%20%20%20%20%20%20%20%20%20%20%20%20%5B-9.6476843%2C%20-35.7339264%5D%2C%0A%20%20%20%20%20%20%20%20%20%20%20%20%20%20%20%20%7B%22bubblingMouseEvents%22%3A%20true%2C%20%22color%22%3A%20%22blue%22%2C%20%22dashArray%22%3A%20null%2C%20%22dashOffset%22%3A%20null%2C%20%22fill%22%3A%20true%2C%20%22fillColor%22%3A%20%22%233186cc%22%2C%20%22fillOpacity%22%3A%200.7%2C%20%22fillRule%22%3A%20%22evenodd%22%2C%20%22lineCap%22%3A%20%22round%22%2C%20%22lineJoin%22%3A%20%22round%22%2C%20%22opacity%22%3A%201.0%2C%20%22radius%22%3A%205%2C%20%22stroke%22%3A%20true%2C%20%22weight%22%3A%203%7D%0A%20%20%20%20%20%20%20%20%20%20%20%20%29.addTo%28map_cdbc5fcad51342848be7392fd2cffd21%29%3B%0A%20%20%20%20%20%20%20%20%0A%20%20%20%20%0A%20%20%20%20%20%20%20%20var%20popup_b0653ced76a74e2b8e0404c73dba87fb%20%3D%20L.popup%28%7B%22maxWidth%22%3A%20%22100%25%22%7D%29%3B%0A%0A%20%20%20%20%20%20%20%20%0A%20%20%20%20%20%20%20%20%20%20%20%20var%20html_f19e926eda3548ad8b32208ad5ecb261%20%3D%20%24%28%60%3Cdiv%20id%3D%22html_f19e926eda3548ad8b32208ad5ecb261%22%20style%3D%22width%3A%20100.0%25%3B%20height%3A%20100.0%25%3B%22%3ECRB%3C/div%3E%60%29%5B0%5D%3B%0A%20%20%20%20%20%20%20%20%20%20%20%20popup_b0653ced76a74e2b8e0404c73dba87fb.setContent%28html_f19e926eda3548ad8b32208ad5ecb261%29%3B%0A%20%20%20%20%20%20%20%20%0A%0A%20%20%20%20%20%20%20%20circle_marker_60aec7ecfba7451cabf809cc7cd63bd5.bindPopup%28popup_b0653ced76a74e2b8e0404c73dba87fb%29%0A%20%20%20%20%20%20%20%20%3B%0A%0A%20%20%20%20%20%20%20%20%0A%20%20%20%20%0A%20%20%20%20%0A%20%20%20%20%20%20%20%20%20%20%20%20var%20circle_marker_c922d192007442b1a1bd065aa4dc57f2%20%3D%20L.circleMarker%28%0A%20%20%20%20%20%20%20%20%20%20%20%20%20%20%20%20%5B-9.6476843%2C%20-35.7339264%5D%2C%0A%20%20%20%20%20%20%20%20%20%20%20%20%20%20%20%20%7B%22bubblingMouseEvents%22%3A%20true%2C%20%22color%22%3A%20%22blue%22%2C%20%22dashArray%22%3A%20null%2C%20%22dashOffset%22%3A%20null%2C%20%22fill%22%3A%20true%2C%20%22fillColor%22%3A%20%22%233186cc%22%2C%20%22fillOpacity%22%3A%200.7%2C%20%22fillRule%22%3A%20%22evenodd%22%2C%20%22lineCap%22%3A%20%22round%22%2C%20%22lineJoin%22%3A%20%22round%22%2C%20%22opacity%22%3A%201.0%2C%20%22radius%22%3A%205%2C%20%22stroke%22%3A%20true%2C%20%22weight%22%3A%203%7D%0A%20%20%20%20%20%20%20%20%20%20%20%20%29.addTo%28map_cdbc5fcad51342848be7392fd2cffd21%29%3B%0A%20%20%20%20%20%20%20%20%0A%20%20%20%20%0A%20%20%20%20%20%20%20%20var%20popup_aa02fa8641604ba6850a206767c9c751%20%3D%20L.popup%28%7B%22maxWidth%22%3A%20%22100%25%22%7D%29%3B%0A%0A%20%20%20%20%20%20%20%20%0A%20%20%20%20%20%20%20%20%20%20%20%20var%20html_0289c0b47260496487c676707e05a0c8%20%3D%20%24%28%60%3Cdiv%20id%3D%22html_0289c0b47260496487c676707e05a0c8%22%20style%3D%22width%3A%20100.0%25%3B%20height%3A%20100.0%25%3B%22%3ECSA%3C/div%3E%60%29%5B0%5D%3B%0A%20%20%20%20%20%20%20%20%20%20%20%20popup_aa02fa8641604ba6850a206767c9c751.setContent%28html_0289c0b47260496487c676707e05a0c8%29%3B%0A%20%20%20%20%20%20%20%20%0A%0A%20%20%20%20%20%20%20%20circle_marker_c922d192007442b1a1bd065aa4dc57f2.bindPopup%28popup_aa02fa8641604ba6850a206767c9c751%29%0A%20%20%20%20%20%20%20%20%3B%0A%0A%20%20%20%20%20%20%20%20%0A%20%20%20%20%0A%20%20%20%20%0A%20%20%20%20%20%20%20%20%20%20%20%20var%20circle_marker_2877f89dd76346758f957b6ec1d8b365%20%3D%20L.circleMarker%28%0A%20%20%20%20%20%20%20%20%20%20%20%20%20%20%20%20%5B-10.9162061%2C%20-37.0774655%5D%2C%0A%20%20%20%20%20%20%20%20%20%20%20%20%20%20%20%20%7B%22bubblingMouseEvents%22%3A%20true%2C%20%22color%22%3A%20%22blue%22%2C%20%22dashArray%22%3A%20null%2C%20%22dashOffset%22%3A%20null%2C%20%22fill%22%3A%20true%2C%20%22fillColor%22%3A%20%22%233186cc%22%2C%20%22fillOpacity%22%3A%200.7%2C%20%22fillRule%22%3A%20%22evenodd%22%2C%20%22lineCap%22%3A%20%22round%22%2C%20%22lineJoin%22%3A%20%22round%22%2C%20%22opacity%22%3A%201.0%2C%20%22radius%22%3A%205%2C%20%22stroke%22%3A%20true%2C%20%22weight%22%3A%203%7D%0A%20%20%20%20%20%20%20%20%20%20%20%20%29.addTo%28map_cdbc5fcad51342848be7392fd2cffd21%29%3B%0A%20%20%20%20%20%20%20%20%0A%20%20%20%20%0A%20%20%20%20%20%20%20%20var%20popup_182676bebfb44334ba59480d822b51e6%20%3D%20L.popup%28%7B%22maxWidth%22%3A%20%22100%25%22%7D%29%3B%0A%0A%20%20%20%20%20%20%20%20%0A%20%20%20%20%20%20%20%20%20%20%20%20var%20html_b4a10b78895f44f882e98986a76d6e0b%20%3D%20%24%28%60%3Cdiv%20id%3D%22html_b4a10b78895f44f882e98986a76d6e0b%22%20style%3D%22width%3A%20100.0%25%3B%20height%3A%20100.0%25%3B%22%3EConfian%C3%A7a%3C/div%3E%60%29%5B0%5D%3B%0A%20%20%20%20%20%20%20%20%20%20%20%20popup_182676bebfb44334ba59480d822b51e6.setContent%28html_b4a10b78895f44f882e98986a76d6e0b%29%3B%0A%20%20%20%20%20%20%20%20%0A%0A%20%20%20%20%20%20%20%20circle_marker_2877f89dd76346758f957b6ec1d8b365.bindPopup%28popup_182676bebfb44334ba59480d822b51e6%29%0A%20%20%20%20%20%20%20%20%3B%0A%0A%20%20%20%20%20%20%20%20%0A%20%20%20%20%0A%20%20%20%20%0A%20%20%20%20%20%20%20%20%20%20%20%20var%20circle_marker_d875bb3bdbc14627b04ac6352d465b5c%20%3D%20L.circleMarker%28%0A%20%20%20%20%20%20%20%20%20%20%20%20%20%20%20%20%5B-25.4295963%2C%20-49.2712724%5D%2C%0A%20%20%20%20%20%20%20%20%20%20%20%20%20%20%20%20%7B%22bubblingMouseEvents%22%3A%20true%2C%20%22color%22%3A%20%22blue%22%2C%20%22dashArray%22%3A%20null%2C%20%22dashOffset%22%3A%20null%2C%20%22fill%22%3A%20true%2C%20%22fillColor%22%3A%20%22%233186cc%22%2C%20%22fillOpacity%22%3A%200.7%2C%20%22fillRule%22%3A%20%22evenodd%22%2C%20%22lineCap%22%3A%20%22round%22%2C%20%22lineJoin%22%3A%20%22round%22%2C%20%22opacity%22%3A%201.0%2C%20%22radius%22%3A%205%2C%20%22stroke%22%3A%20true%2C%20%22weight%22%3A%203%7D%0A%20%20%20%20%20%20%20%20%20%20%20%20%29.addTo%28map_cdbc5fcad51342848be7392fd2cffd21%29%3B%0A%20%20%20%20%20%20%20%20%0A%20%20%20%20%0A%20%20%20%20%20%20%20%20var%20popup_a7c967e5005c4e8b9996221b3807bdf6%20%3D%20L.popup%28%7B%22maxWidth%22%3A%20%22100%25%22%7D%29%3B%0A%0A%20%20%20%20%20%20%20%20%0A%20%20%20%20%20%20%20%20%20%20%20%20var%20html_2ddd509629cf42038b01efef2b587015%20%3D%20%24%28%60%3Cdiv%20id%3D%22html_2ddd509629cf42038b01efef2b587015%22%20style%3D%22width%3A%20100.0%25%3B%20height%3A%20100.0%25%3B%22%3ECoritiba%3C/div%3E%60%29%5B0%5D%3B%0A%20%20%20%20%20%20%20%20%20%20%20%20popup_a7c967e5005c4e8b9996221b3807bdf6.setContent%28html_2ddd509629cf42038b01efef2b587015%29%3B%0A%20%20%20%20%20%20%20%20%0A%0A%20%20%20%20%20%20%20%20circle_marker_d875bb3bdbc14627b04ac6352d465b5c.bindPopup%28popup_a7c967e5005c4e8b9996221b3807bdf6%29%0A%20%20%20%20%20%20%20%20%3B%0A%0A%20%20%20%20%20%20%20%20%0A%20%20%20%20%0A%20%20%20%20%0A%20%20%20%20%20%20%20%20%20%20%20%20var%20circle_marker_b9e06d7ec1214b2b90caaa4d7c09c6e8%20%3D%20L.circleMarker%28%0A%20%20%20%20%20%20%20%20%20%20%20%20%20%20%20%20%5B-19.9227318%2C%20-43.9450948%5D%2C%0A%20%20%20%20%20%20%20%20%20%20%20%20%20%20%20%20%7B%22bubblingMouseEvents%22%3A%20true%2C%20%22color%22%3A%20%22blue%22%2C%20%22dashArray%22%3A%20null%2C%20%22dashOffset%22%3A%20null%2C%20%22fill%22%3A%20true%2C%20%22fillColor%22%3A%20%22%233186cc%22%2C%20%22fillOpacity%22%3A%200.7%2C%20%22fillRule%22%3A%20%22evenodd%22%2C%20%22lineCap%22%3A%20%22round%22%2C%20%22lineJoin%22%3A%20%22round%22%2C%20%22opacity%22%3A%201.0%2C%20%22radius%22%3A%205%2C%20%22stroke%22%3A%20true%2C%20%22weight%22%3A%203%7D%0A%20%20%20%20%20%20%20%20%20%20%20%20%29.addTo%28map_cdbc5fcad51342848be7392fd2cffd21%29%3B%0A%20%20%20%20%20%20%20%20%0A%20%20%20%20%0A%20%20%20%20%20%20%20%20var%20popup_a02b068452f94a57b1c6c59ae7e724de%20%3D%20L.popup%28%7B%22maxWidth%22%3A%20%22100%25%22%7D%29%3B%0A%0A%20%20%20%20%20%20%20%20%0A%20%20%20%20%20%20%20%20%20%20%20%20var%20html_c8a81862fb4c492bb864198592d83b65%20%3D%20%24%28%60%3Cdiv%20id%3D%22html_c8a81862fb4c492bb864198592d83b65%22%20style%3D%22width%3A%20100.0%25%3B%20height%3A%20100.0%25%3B%22%3ECruzeiro%3C/div%3E%60%29%5B0%5D%3B%0A%20%20%20%20%20%20%20%20%20%20%20%20popup_a02b068452f94a57b1c6c59ae7e724de.setContent%28html_c8a81862fb4c492bb864198592d83b65%29%3B%0A%20%20%20%20%20%20%20%20%0A%0A%20%20%20%20%20%20%20%20circle_marker_b9e06d7ec1214b2b90caaa4d7c09c6e8.bindPopup%28popup_a02b068452f94a57b1c6c59ae7e724de%29%0A%20%20%20%20%20%20%20%20%3B%0A%0A%20%20%20%20%20%20%20%20%0A%20%20%20%20%0A%20%20%20%20%0A%20%20%20%20%20%20%20%20%20%20%20%20var%20circle_marker_01f9519d83bd441e8bc28c9d5059f1fa%20%3D%20L.circleMarker%28%0A%20%20%20%20%20%20%20%20%20%20%20%20%20%20%20%20%5B-16.680882%2C%20-49.2532691%5D%2C%0A%20%20%20%20%20%20%20%20%20%20%20%20%20%20%20%20%7B%22bubblingMouseEvents%22%3A%20true%2C%20%22color%22%3A%20%22blue%22%2C%20%22dashArray%22%3A%20null%2C%20%22dashOffset%22%3A%20null%2C%20%22fill%22%3A%20true%2C%20%22fillColor%22%3A%20%22%233186cc%22%2C%20%22fillOpacity%22%3A%200.7%2C%20%22fillRule%22%3A%20%22evenodd%22%2C%20%22lineCap%22%3A%20%22round%22%2C%20%22lineJoin%22%3A%20%22round%22%2C%20%22opacity%22%3A%201.0%2C%20%22radius%22%3A%205%2C%20%22stroke%22%3A%20true%2C%20%22weight%22%3A%203%7D%0A%20%20%20%20%20%20%20%20%20%20%20%20%29.addTo%28map_cdbc5fcad51342848be7392fd2cffd21%29%3B%0A%20%20%20%20%20%20%20%20%0A%20%20%20%20%0A%20%20%20%20%20%20%20%20var%20popup_44cb8854d67b4969913be7b5b020140e%20%3D%20L.popup%28%7B%22maxWidth%22%3A%20%22100%25%22%7D%29%3B%0A%0A%20%20%20%20%20%20%20%20%0A%20%20%20%20%20%20%20%20%20%20%20%20var%20html_19a89012abb94d2e8cfdc97911355594%20%3D%20%24%28%60%3Cdiv%20id%3D%22html_19a89012abb94d2e8cfdc97911355594%22%20style%3D%22width%3A%20100.0%25%3B%20height%3A%20100.0%25%3B%22%3EGoi%C3%A1s%3C/div%3E%60%29%5B0%5D%3B%0A%20%20%20%20%20%20%20%20%20%20%20%20popup_44cb8854d67b4969913be7b5b020140e.setContent%28html_19a89012abb94d2e8cfdc97911355594%29%3B%0A%20%20%20%20%20%20%20%20%0A%0A%20%20%20%20%20%20%20%20circle_marker_01f9519d83bd441e8bc28c9d5059f1fa.bindPopup%28popup_44cb8854d67b4969913be7b5b020140e%29%0A%20%20%20%20%20%20%20%20%3B%0A%0A%20%20%20%20%20%20%20%20%0A%20%20%20%20%0A%20%20%20%20%0A%20%20%20%20%20%20%20%20%20%20%20%20var%20circle_marker_083a151a54bd4e8daa0777622f374797%20%3D%20L.circleMarker%28%0A%20%20%20%20%20%20%20%20%20%20%20%20%20%20%20%20%5B-22.90556%2C%20-47.06083%5D%2C%0A%20%20%20%20%20%20%20%20%20%20%20%20%20%20%20%20%7B%22bubblingMouseEvents%22%3A%20true%2C%20%22color%22%3A%20%22blue%22%2C%20%22dashArray%22%3A%20null%2C%20%22dashOffset%22%3A%20null%2C%20%22fill%22%3A%20true%2C%20%22fillColor%22%3A%20%22%233186cc%22%2C%20%22fillOpacity%22%3A%200.7%2C%20%22fillRule%22%3A%20%22evenodd%22%2C%20%22lineCap%22%3A%20%22round%22%2C%20%22lineJoin%22%3A%20%22round%22%2C%20%22opacity%22%3A%201.0%2C%20%22radius%22%3A%205%2C%20%22stroke%22%3A%20true%2C%20%22weight%22%3A%203%7D%0A%20%20%20%20%20%20%20%20%20%20%20%20%29.addTo%28map_cdbc5fcad51342848be7392fd2cffd21%29%3B%0A%20%20%20%20%20%20%20%20%0A%20%20%20%20%0A%20%20%20%20%20%20%20%20var%20popup_b01b8fd65f3f4f7ebc24105f878d328b%20%3D%20L.popup%28%7B%22maxWidth%22%3A%20%22100%25%22%7D%29%3B%0A%0A%20%20%20%20%20%20%20%20%0A%20%20%20%20%20%20%20%20%20%20%20%20var%20html_9a2480c73ccd418bb177c27b39ce6e6f%20%3D%20%24%28%60%3Cdiv%20id%3D%22html_9a2480c73ccd418bb177c27b39ce6e6f%22%20style%3D%22width%3A%20100.0%25%3B%20height%3A%20100.0%25%3B%22%3EGuarani%3C/div%3E%60%29%5B0%5D%3B%0A%20%20%20%20%20%20%20%20%20%20%20%20popup_b01b8fd65f3f4f7ebc24105f878d328b.setContent%28html_9a2480c73ccd418bb177c27b39ce6e6f%29%3B%0A%20%20%20%20%20%20%20%20%0A%0A%20%20%20%20%20%20%20%20circle_marker_083a151a54bd4e8daa0777622f374797.bindPopup%28popup_b01b8fd65f3f4f7ebc24105f878d328b%29%0A%20%20%20%20%20%20%20%20%3B%0A%0A%20%20%20%20%20%20%20%20%0A%20%20%20%20%0A%20%20%20%20%0A%20%20%20%20%20%20%20%20%20%20%20%20var%20circle_marker_e7506d0fd6324f899e0e156f5bbff10f%20%3D%20L.circleMarker%28%0A%20%20%20%20%20%20%20%20%20%20%20%20%20%20%20%20%5B-23.3112878%2C%20-51.1595023%5D%2C%0A%20%20%20%20%20%20%20%20%20%20%20%20%20%20%20%20%7B%22bubblingMouseEvents%22%3A%20true%2C%20%22color%22%3A%20%22blue%22%2C%20%22dashArray%22%3A%20null%2C%20%22dashOffset%22%3A%20null%2C%20%22fill%22%3A%20true%2C%20%22fillColor%22%3A%20%22%233186cc%22%2C%20%22fillOpacity%22%3A%200.7%2C%20%22fillRule%22%3A%20%22evenodd%22%2C%20%22lineCap%22%3A%20%22round%22%2C%20%22lineJoin%22%3A%20%22round%22%2C%20%22opacity%22%3A%201.0%2C%20%22radius%22%3A%205%2C%20%22stroke%22%3A%20true%2C%20%22weight%22%3A%203%7D%0A%20%20%20%20%20%20%20%20%20%20%20%20%29.addTo%28map_cdbc5fcad51342848be7392fd2cffd21%29%3B%0A%20%20%20%20%20%20%20%20%0A%20%20%20%20%0A%20%20%20%20%20%20%20%20var%20popup_0be12d55e7c54c9796af49aa56a41d84%20%3D%20L.popup%28%7B%22maxWidth%22%3A%20%22100%25%22%7D%29%3B%0A%0A%20%20%20%20%20%20%20%20%0A%20%20%20%20%20%20%20%20%20%20%20%20var%20html_9849765e4f984823b16559c93784c094%20%3D%20%24%28%60%3Cdiv%20id%3D%22html_9849765e4f984823b16559c93784c094%22%20style%3D%22width%3A%20100.0%25%3B%20height%3A%20100.0%25%3B%22%3ELondrina%3C/div%3E%60%29%5B0%5D%3B%0A%20%20%20%20%20%20%20%20%20%20%20%20popup_0be12d55e7c54c9796af49aa56a41d84.setContent%28html_9849765e4f984823b16559c93784c094%29%3B%0A%20%20%20%20%20%20%20%20%0A%0A%20%20%20%20%20%20%20%20circle_marker_e7506d0fd6324f899e0e156f5bbff10f.bindPopup%28popup_0be12d55e7c54c9796af49aa56a41d84%29%0A%20%20%20%20%20%20%20%20%3B%0A%0A%20%20%20%20%20%20%20%20%0A%20%20%20%20%0A%20%20%20%20%0A%20%20%20%20%20%20%20%20%20%20%20%20var%20circle_marker_47f9fc054d92452cb04212c1d8c479c5%20%3D%20L.circleMarker%28%0A%20%20%20%20%20%20%20%20%20%20%20%20%20%20%20%20%5B-8.0584933%2C%20-34.8848193%5D%2C%0A%20%20%20%20%20%20%20%20%20%20%20%20%20%20%20%20%7B%22bubblingMouseEvents%22%3A%20true%2C%20%22color%22%3A%20%22blue%22%2C%20%22dashArray%22%3A%20null%2C%20%22dashOffset%22%3A%20null%2C%20%22fill%22%3A%20true%2C%20%22fillColor%22%3A%20%22%233186cc%22%2C%20%22fillOpacity%22%3A%200.7%2C%20%22fillRule%22%3A%20%22evenodd%22%2C%20%22lineCap%22%3A%20%22round%22%2C%20%22lineJoin%22%3A%20%22round%22%2C%20%22opacity%22%3A%201.0%2C%20%22radius%22%3A%205%2C%20%22stroke%22%3A%20true%2C%20%22weight%22%3A%203%7D%0A%20%20%20%20%20%20%20%20%20%20%20%20%29.addTo%28map_cdbc5fcad51342848be7392fd2cffd21%29%3B%0A%20%20%20%20%20%20%20%20%0A%20%20%20%20%0A%20%20%20%20%20%20%20%20var%20popup_536b600b9d034b3b92837926f297a4ca%20%3D%20L.popup%28%7B%22maxWidth%22%3A%20%22100%25%22%7D%29%3B%0A%0A%20%20%20%20%20%20%20%20%0A%20%20%20%20%20%20%20%20%20%20%20%20var%20html_9c2ab386966148cfa38dac3064168f13%20%3D%20%24%28%60%3Cdiv%20id%3D%22html_9c2ab386966148cfa38dac3064168f13%22%20style%3D%22width%3A%20100.0%25%3B%20height%3A%20100.0%25%3B%22%3EN%C3%A1utico%3C/div%3E%60%29%5B0%5D%3B%0A%20%20%20%20%20%20%20%20%20%20%20%20popup_536b600b9d034b3b92837926f297a4ca.setContent%28html_9c2ab386966148cfa38dac3064168f13%29%3B%0A%20%20%20%20%20%20%20%20%0A%0A%20%20%20%20%20%20%20%20circle_marker_47f9fc054d92452cb04212c1d8c479c5.bindPopup%28popup_536b600b9d034b3b92837926f297a4ca%29%0A%20%20%20%20%20%20%20%20%3B%0A%0A%20%20%20%20%20%20%20%20%0A%20%20%20%20%0A%20%20%20%20%0A%20%20%20%20%20%20%20%20%20%20%20%20var%20circle_marker_0c929122cfd943a8ab50a427f848aca7%20%3D%20L.circleMarker%28%0A%20%20%20%20%20%20%20%20%20%20%20%20%20%20%20%20%5B-25.0891685%2C%20-50.1601812%5D%2C%0A%20%20%20%20%20%20%20%20%20%20%20%20%20%20%20%20%7B%22bubblingMouseEvents%22%3A%20true%2C%20%22color%22%3A%20%22blue%22%2C%20%22dashArray%22%3A%20null%2C%20%22dashOffset%22%3A%20null%2C%20%22fill%22%3A%20true%2C%20%22fillColor%22%3A%20%22%233186cc%22%2C%20%22fillOpacity%22%3A%200.7%2C%20%22fillRule%22%3A%20%22evenodd%22%2C%20%22lineCap%22%3A%20%22round%22%2C%20%22lineJoin%22%3A%20%22round%22%2C%20%22opacity%22%3A%201.0%2C%20%22radius%22%3A%205%2C%20%22stroke%22%3A%20true%2C%20%22weight%22%3A%203%7D%0A%20%20%20%20%20%20%20%20%20%20%20%20%29.addTo%28map_cdbc5fcad51342848be7392fd2cffd21%29%3B%0A%20%20%20%20%20%20%20%20%0A%20%20%20%20%0A%20%20%20%20%20%20%20%20var%20popup_37019541a40543a0bb066bfe4dc5f7b3%20%3D%20L.popup%28%7B%22maxWidth%22%3A%20%22100%25%22%7D%29%3B%0A%0A%20%20%20%20%20%20%20%20%0A%20%20%20%20%20%20%20%20%20%20%20%20var%20html_086f35ba51e04cd680c1a456103108db%20%3D%20%24%28%60%3Cdiv%20id%3D%22html_086f35ba51e04cd680c1a456103108db%22%20style%3D%22width%3A%20100.0%25%3B%20height%3A%20100.0%25%3B%22%3EOper%C3%A1rio-PR%3C/div%3E%60%29%5B0%5D%3B%0A%20%20%20%20%20%20%20%20%20%20%20%20popup_37019541a40543a0bb066bfe4dc5f7b3.setContent%28html_086f35ba51e04cd680c1a456103108db%29%3B%0A%20%20%20%20%20%20%20%20%0A%0A%20%20%20%20%20%20%20%20circle_marker_0c929122cfd943a8ab50a427f848aca7.bindPopup%28popup_37019541a40543a0bb066bfe4dc5f7b3%29%0A%20%20%20%20%20%20%20%20%3B%0A%0A%20%20%20%20%20%20%20%20%0A%20%20%20%20%0A%20%20%20%20%0A%20%20%20%20%20%20%20%20%20%20%20%20var%20circle_marker_6d80a0a09037455eabd1b4a33984520f%20%3D%20L.circleMarker%28%0A%20%20%20%20%20%20%20%20%20%20%20%20%20%20%20%20%5B-22.90556%2C%20-47.06083%5D%2C%0A%20%20%20%20%20%20%20%20%20%20%20%20%20%20%20%20%7B%22bubblingMouseEvents%22%3A%20true%2C%20%22color%22%3A%20%22blue%22%2C%20%22dashArray%22%3A%20null%2C%20%22dashOffset%22%3A%20null%2C%20%22fill%22%3A%20true%2C%20%22fillColor%22%3A%20%22%233186cc%22%2C%20%22fillOpacity%22%3A%200.7%2C%20%22fillRule%22%3A%20%22evenodd%22%2C%20%22lineCap%22%3A%20%22round%22%2C%20%22lineJoin%22%3A%20%22round%22%2C%20%22opacity%22%3A%201.0%2C%20%22radius%22%3A%205%2C%20%22stroke%22%3A%20true%2C%20%22weight%22%3A%203%7D%0A%20%20%20%20%20%20%20%20%20%20%20%20%29.addTo%28map_cdbc5fcad51342848be7392fd2cffd21%29%3B%0A%20%20%20%20%20%20%20%20%0A%20%20%20%20%0A%20%20%20%20%20%20%20%20var%20popup_42d0692ee9504b78bff195767037ac1f%20%3D%20L.popup%28%7B%22maxWidth%22%3A%20%22100%25%22%7D%29%3B%0A%0A%20%20%20%20%20%20%20%20%0A%20%20%20%20%20%20%20%20%20%20%20%20var%20html_36d33f4243024403a169738c782bc95b%20%3D%20%24%28%60%3Cdiv%20id%3D%22html_36d33f4243024403a169738c782bc95b%22%20style%3D%22width%3A%20100.0%25%3B%20height%3A%20100.0%25%3B%22%3EPonte%20Preta%3C/div%3E%60%29%5B0%5D%3B%0A%20%20%20%20%20%20%20%20%20%20%20%20popup_42d0692ee9504b78bff195767037ac1f.setContent%28html_36d33f4243024403a169738c782bc95b%29%3B%0A%20%20%20%20%20%20%20%20%0A%0A%20%20%20%20%20%20%20%20circle_marker_6d80a0a09037455eabd1b4a33984520f.bindPopup%28popup_42d0692ee9504b78bff195767037ac1f%29%0A%20%20%20%20%20%20%20%20%3B%0A%0A%20%20%20%20%20%20%20%20%0A%20%20%20%20%0A%20%20%20%20%0A%20%20%20%20%20%20%20%20%20%20%20%20var%20circle_marker_47b6b55ac9c8489891fd231c80663391%20%3D%20L.circleMarker%28%0A%20%20%20%20%20%20%20%20%20%20%20%20%20%20%20%20%5B-1.45056%2C%20-48.4682453%5D%2C%0A%20%20%20%20%20%20%20%20%20%20%20%20%20%20%20%20%7B%22bubblingMouseEvents%22%3A%20true%2C%20%22color%22%3A%20%22blue%22%2C%20%22dashArray%22%3A%20null%2C%20%22dashOffset%22%3A%20null%2C%20%22fill%22%3A%20true%2C%20%22fillColor%22%3A%20%22%233186cc%22%2C%20%22fillOpacity%22%3A%200.7%2C%20%22fillRule%22%3A%20%22evenodd%22%2C%20%22lineCap%22%3A%20%22round%22%2C%20%22lineJoin%22%3A%20%22round%22%2C%20%22opacity%22%3A%201.0%2C%20%22radius%22%3A%205%2C%20%22stroke%22%3A%20true%2C%20%22weight%22%3A%203%7D%0A%20%20%20%20%20%20%20%20%20%20%20%20%29.addTo%28map_cdbc5fcad51342848be7392fd2cffd21%29%3B%0A%20%20%20%20%20%20%20%20%0A%20%20%20%20%0A%20%20%20%20%20%20%20%20var%20popup_4b25591ca95f43ea8ecc913a895074eb%20%3D%20L.popup%28%7B%22maxWidth%22%3A%20%22100%25%22%7D%29%3B%0A%0A%20%20%20%20%20%20%20%20%0A%20%20%20%20%20%20%20%20%20%20%20%20var%20html_b04c8473c9aa40b5a2f91b1d8b8d6e7e%20%3D%20%24%28%60%3Cdiv%20id%3D%22html_b04c8473c9aa40b5a2f91b1d8b8d6e7e%22%20style%3D%22width%3A%20100.0%25%3B%20height%3A%20100.0%25%3B%22%3ERemo%3C/div%3E%60%29%5B0%5D%3B%0A%20%20%20%20%20%20%20%20%20%20%20%20popup_4b25591ca95f43ea8ecc913a895074eb.setContent%28html_b04c8473c9aa40b5a2f91b1d8b8d6e7e%29%3B%0A%20%20%20%20%20%20%20%20%0A%0A%20%20%20%20%20%20%20%20circle_marker_47b6b55ac9c8489891fd231c80663391.bindPopup%28popup_4b25591ca95f43ea8ecc913a895074eb%29%0A%20%20%20%20%20%20%20%20%3B%0A%0A%20%20%20%20%20%20%20%20%0A%20%20%20%20%0A%20%20%20%20%0A%20%20%20%20%20%20%20%20%20%20%20%20var%20circle_marker_8c7401ae42b5494c82069bc618e7f7fc%20%3D%20L.circleMarker%28%0A%20%20%20%20%20%20%20%20%20%20%20%20%20%20%20%20%5B-2.5634605%2C%20-44.2448718%5D%2C%0A%20%20%20%20%20%20%20%20%20%20%20%20%20%20%20%20%7B%22bubblingMouseEvents%22%3A%20true%2C%20%22color%22%3A%20%22blue%22%2C%20%22dashArray%22%3A%20null%2C%20%22dashOffset%22%3A%20null%2C%20%22fill%22%3A%20true%2C%20%22fillColor%22%3A%20%22%233186cc%22%2C%20%22fillOpacity%22%3A%200.7%2C%20%22fillRule%22%3A%20%22evenodd%22%2C%20%22lineCap%22%3A%20%22round%22%2C%20%22lineJoin%22%3A%20%22round%22%2C%20%22opacity%22%3A%201.0%2C%20%22radius%22%3A%205%2C%20%22stroke%22%3A%20true%2C%20%22weight%22%3A%203%7D%0A%20%20%20%20%20%20%20%20%20%20%20%20%29.addTo%28map_cdbc5fcad51342848be7392fd2cffd21%29%3B%0A%20%20%20%20%20%20%20%20%0A%20%20%20%20%0A%20%20%20%20%20%20%20%20var%20popup_24e79456f4ae4a2c843b5a93d8056a55%20%3D%20L.popup%28%7B%22maxWidth%22%3A%20%22100%25%22%7D%29%3B%0A%0A%20%20%20%20%20%20%20%20%0A%20%20%20%20%20%20%20%20%20%20%20%20var%20html_2aba59476d44466483187ad15216285d%20%3D%20%24%28%60%3Cdiv%20id%3D%22html_2aba59476d44466483187ad15216285d%22%20style%3D%22width%3A%20100.0%25%3B%20height%3A%20100.0%25%3B%22%3ESampaio%20Corr%C3%AAa%3C/div%3E%60%29%5B0%5D%3B%0A%20%20%20%20%20%20%20%20%20%20%20%20popup_24e79456f4ae4a2c843b5a93d8056a55.setContent%28html_2aba59476d44466483187ad15216285d%29%3B%0A%20%20%20%20%20%20%20%20%0A%0A%20%20%20%20%20%20%20%20circle_marker_8c7401ae42b5494c82069bc618e7f7fc.bindPopup%28popup_24e79456f4ae4a2c843b5a93d8056a55%29%0A%20%20%20%20%20%20%20%20%3B%0A%0A%20%20%20%20%20%20%20%20%0A%20%20%20%20%0A%20%20%20%20%0A%20%20%20%20%20%20%20%20%20%20%20%20var%20circle_marker_73c91529b7df4327a73951d7ed115442%20%3D%20L.circleMarker%28%0A%20%20%20%20%20%20%20%20%20%20%20%20%20%20%20%20%5B-22.9110137%2C%20-43.2093727%5D%2C%0A%20%20%20%20%20%20%20%20%20%20%20%20%20%20%20%20%7B%22bubblingMouseEvents%22%3A%20true%2C%20%22color%22%3A%20%22blue%22%2C%20%22dashArray%22%3A%20null%2C%20%22dashOffset%22%3A%20null%2C%20%22fill%22%3A%20true%2C%20%22fillColor%22%3A%20%22%233186cc%22%2C%20%22fillOpacity%22%3A%200.7%2C%20%22fillRule%22%3A%20%22evenodd%22%2C%20%22lineCap%22%3A%20%22round%22%2C%20%22lineJoin%22%3A%20%22round%22%2C%20%22opacity%22%3A%201.0%2C%20%22radius%22%3A%205%2C%20%22stroke%22%3A%20true%2C%20%22weight%22%3A%203%7D%0A%20%20%20%20%20%20%20%20%20%20%20%20%29.addTo%28map_cdbc5fcad51342848be7392fd2cffd21%29%3B%0A%20%20%20%20%20%20%20%20%0A%20%20%20%20%0A%20%20%20%20%20%20%20%20var%20popup_b4fa04c1a14e4035bb75d940fc0b4455%20%3D%20L.popup%28%7B%22maxWidth%22%3A%20%22100%25%22%7D%29%3B%0A%0A%20%20%20%20%20%20%20%20%0A%20%20%20%20%20%20%20%20%20%20%20%20var%20html_e6a7fac1fa87467c85f62c0ac190bc31%20%3D%20%24%28%60%3Cdiv%20id%3D%22html_e6a7fac1fa87467c85f62c0ac190bc31%22%20style%3D%22width%3A%20100.0%25%3B%20height%3A%20100.0%25%3B%22%3EVasco%20da%20Gama%3C/div%3E%60%29%5B0%5D%3B%0A%20%20%20%20%20%20%20%20%20%20%20%20popup_b4fa04c1a14e4035bb75d940fc0b4455.setContent%28html_e6a7fac1fa87467c85f62c0ac190bc31%29%3B%0A%20%20%20%20%20%20%20%20%0A%0A%20%20%20%20%20%20%20%20circle_marker_73c91529b7df4327a73951d7ed115442.bindPopup%28popup_b4fa04c1a14e4035bb75d940fc0b4455%29%0A%20%20%20%20%20%20%20%20%3B%0A%0A%20%20%20%20%20%20%20%20%0A%20%20%20%20%0A%20%20%20%20%0A%20%20%20%20%20%20%20%20%20%20%20%20var%20circle_marker_11fb3c45b14944ceb042f22e50fd4c17%20%3D%20L.circleMarker%28%0A%20%20%20%20%20%20%20%20%20%20%20%20%20%20%20%20%5B-16.680882%2C%20-49.2532691%5D%2C%0A%20%20%20%20%20%20%20%20%20%20%20%20%20%20%20%20%7B%22bubblingMouseEvents%22%3A%20true%2C%20%22color%22%3A%20%22blue%22%2C%20%22dashArray%22%3A%20null%2C%20%22dashOffset%22%3A%20null%2C%20%22fill%22%3A%20true%2C%20%22fillColor%22%3A%20%22%233186cc%22%2C%20%22fillOpacity%22%3A%200.7%2C%20%22fillRule%22%3A%20%22evenodd%22%2C%20%22lineCap%22%3A%20%22round%22%2C%20%22lineJoin%22%3A%20%22round%22%2C%20%22opacity%22%3A%201.0%2C%20%22radius%22%3A%205%2C%20%22stroke%22%3A%20true%2C%20%22weight%22%3A%203%7D%0A%20%20%20%20%20%20%20%20%20%20%20%20%29.addTo%28map_cdbc5fcad51342848be7392fd2cffd21%29%3B%0A%20%20%20%20%20%20%20%20%0A%20%20%20%20%0A%20%20%20%20%20%20%20%20var%20popup_de7a07a64453400496fe0e8ba21608cf%20%3D%20L.popup%28%7B%22maxWidth%22%3A%20%22100%25%22%7D%29%3B%0A%0A%20%20%20%20%20%20%20%20%0A%20%20%20%20%20%20%20%20%20%20%20%20var%20html_cebd45d5bdbe4358a4a9cf8eb1723033%20%3D%20%24%28%60%3Cdiv%20id%3D%22html_cebd45d5bdbe4358a4a9cf8eb1723033%22%20style%3D%22width%3A%20100.0%25%3B%20height%3A%20100.0%25%3B%22%3EVila%20Nova%3C/div%3E%60%29%5B0%5D%3B%0A%20%20%20%20%20%20%20%20%20%20%20%20popup_de7a07a64453400496fe0e8ba21608cf.setContent%28html_cebd45d5bdbe4358a4a9cf8eb1723033%29%3B%0A%20%20%20%20%20%20%20%20%0A%0A%20%20%20%20%20%20%20%20circle_marker_11fb3c45b14944ceb042f22e50fd4c17.bindPopup%28popup_de7a07a64453400496fe0e8ba21608cf%29%0A%20%20%20%20%20%20%20%20%3B%0A%0A%20%20%20%20%20%20%20%20%0A%20%20%20%20%0A%20%20%20%20%0A%20%20%20%20%20%20%20%20%20%20%20%20var%20circle_marker_cdbf9ed17cd548cd80adba7668f87b95%20%3D%20L.circleMarker%28%0A%20%20%20%20%20%20%20%20%20%20%20%20%20%20%20%20%5B-12.9822499%2C%20-38.4812772%5D%2C%0A%20%20%20%20%20%20%20%20%20%20%20%20%20%20%20%20%7B%22bubblingMouseEvents%22%3A%20true%2C%20%22color%22%3A%20%22blue%22%2C%20%22dashArray%22%3A%20null%2C%20%22dashOffset%22%3A%20null%2C%20%22fill%22%3A%20true%2C%20%22fillColor%22%3A%20%22%233186cc%22%2C%20%22fillOpacity%22%3A%200.7%2C%20%22fillRule%22%3A%20%22evenodd%22%2C%20%22lineCap%22%3A%20%22round%22%2C%20%22lineJoin%22%3A%20%22round%22%2C%20%22opacity%22%3A%201.0%2C%20%22radius%22%3A%205%2C%20%22stroke%22%3A%20true%2C%20%22weight%22%3A%203%7D%0A%20%20%20%20%20%20%20%20%20%20%20%20%29.addTo%28map_cdbc5fcad51342848be7392fd2cffd21%29%3B%0A%20%20%20%20%20%20%20%20%0A%20%20%20%20%0A%20%20%20%20%20%20%20%20var%20popup_37a47a76c6184d80b81dd58b9b03964a%20%3D%20L.popup%28%7B%22maxWidth%22%3A%20%22100%25%22%7D%29%3B%0A%0A%20%20%20%20%20%20%20%20%0A%20%20%20%20%20%20%20%20%20%20%20%20var%20html_90d0d69bf57a4279aa53fc6402d039ca%20%3D%20%24%28%60%3Cdiv%20id%3D%22html_90d0d69bf57a4279aa53fc6402d039ca%22%20style%3D%22width%3A%20100.0%25%3B%20height%3A%20100.0%25%3B%22%3EVit%C3%B3ria%3C/div%3E%60%29%5B0%5D%3B%0A%20%20%20%20%20%20%20%20%20%20%20%20popup_37a47a76c6184d80b81dd58b9b03964a.setContent%28html_90d0d69bf57a4279aa53fc6402d039ca%29%3B%0A%20%20%20%20%20%20%20%20%0A%0A%20%20%20%20%20%20%20%20circle_marker_cdbf9ed17cd548cd80adba7668f87b95.bindPopup%28popup_37a47a76c6184d80b81dd58b9b03964a%29%0A%20%20%20%20%20%20%20%20%3B%0A%0A%20%20%20%20%20%20%20%20%0A%20%20%20%20%0A%3C/script%3E onload=\"this.contentDocument.open();this.contentDocument.write(    decodeURIComponent(this.getAttribute('data-html')));this.contentDocument.close();\" allowfullscreen webkitallowfullscreen mozallowfullscreen></iframe></div></div>"
      ],
      "text/plain": [
       "<folium.folium.Map at 0x7fdf27062970>"
      ]
     },
     "execution_count": 292,
     "metadata": {
      "tags": []
     },
     "output_type": "execute_result"
    }
   ],
   "source": [
    "#mapa centrado em Brasília\n",
    "map_brasil_b = folium.Map(location=[-10.3333333, -53.2], zoom_start=4)\n",
    "\n",
    "# add markers to map\n",
    "for lat, lng, time in zip(lista_times_21b['Latitude'], lista_times_21b['Longitude'], lista_times_21b['Time']):\n",
    "    label = '{}'.format(time)\n",
    "    label = folium.Popup(label, parse_html=True)\n",
    "    folium.CircleMarker(\n",
    "        [lat, lng],\n",
    "        radius=5,\n",
    "        popup=label,\n",
    "        color='blue',\n",
    "        fill=True,\n",
    "        fill_color='#3186cc',\n",
    "        fill_opacity=0.7,\n",
    "        parse_html=False).add_to(map_brasil_b)  \n",
    "    \n",
    "map_brasil_b"
   ]
  },
  {
   "cell_type": "code",
   "execution_count": null,
   "metadata": {
    "id": "9xSw-cYVdmv0",
    "outputId": "b328b77b-2e09-4ac8-a875-12c8833e2783"
   },
   "outputs": [
    {
     "data": {
      "text/html": [
       "<div>\n",
       "<style scoped>\n",
       "    .dataframe tbody tr th:only-of-type {\n",
       "        vertical-align: middle;\n",
       "    }\n",
       "\n",
       "    .dataframe tbody tr th {\n",
       "        vertical-align: top;\n",
       "    }\n",
       "\n",
       "    .dataframe thead th {\n",
       "        text-align: right;\n",
       "    }\n",
       "</style>\n",
       "<table border=\"1\" class=\"dataframe\">\n",
       "  <thead>\n",
       "    <tr style=\"text-align: right;\">\n",
       "      <th></th>\n",
       "      <th>Avaí</th>\n",
       "      <th>Botafogo</th>\n",
       "      <th>Brasil de Pelotas</th>\n",
       "      <th>Brusque</th>\n",
       "      <th>CRB</th>\n",
       "      <th>CSA</th>\n",
       "      <th>Confiança</th>\n",
       "      <th>Coritiba</th>\n",
       "      <th>Cruzeiro</th>\n",
       "      <th>Goiás</th>\n",
       "      <th>Guarani</th>\n",
       "      <th>Londrina</th>\n",
       "      <th>Náutico</th>\n",
       "      <th>Operário-PR</th>\n",
       "      <th>Ponte Preta</th>\n",
       "      <th>Remo</th>\n",
       "      <th>Sampaio Corrêa</th>\n",
       "      <th>Vasco da Gama</th>\n",
       "      <th>Vila Nova</th>\n",
       "      <th>Vitória</th>\n",
       "    </tr>\n",
       "    <tr>\n",
       "      <th>Time</th>\n",
       "      <th></th>\n",
       "      <th></th>\n",
       "      <th></th>\n",
       "      <th></th>\n",
       "      <th></th>\n",
       "      <th></th>\n",
       "      <th></th>\n",
       "      <th></th>\n",
       "      <th></th>\n",
       "      <th></th>\n",
       "      <th></th>\n",
       "      <th></th>\n",
       "      <th></th>\n",
       "      <th></th>\n",
       "      <th></th>\n",
       "      <th></th>\n",
       "      <th></th>\n",
       "      <th></th>\n",
       "      <th></th>\n",
       "      <th></th>\n",
       "    </tr>\n",
       "  </thead>\n",
       "  <tbody>\n",
       "    <tr>\n",
       "      <th>Avaí</th>\n",
       "      <td>0</td>\n",
       "      <td>748.103</td>\n",
       "      <td>591.014</td>\n",
       "      <td>66.2881</td>\n",
       "      <td>2405.5</td>\n",
       "      <td>2405.5</td>\n",
       "      <td>2208.21</td>\n",
       "      <td>251.504</td>\n",
       "      <td>973.292</td>\n",
       "      <td>1216</td>\n",
       "      <td>542.739</td>\n",
       "      <td>543.819</td>\n",
       "      <td>2604.8</td>\n",
       "      <td>321.761</td>\n",
       "      <td>542.739</td>\n",
       "      <td>2907.4</td>\n",
       "      <td>2821.01</td>\n",
       "      <td>748.103</td>\n",
       "      <td>1216</td>\n",
       "      <td>1932.59</td>\n",
       "    </tr>\n",
       "    <tr>\n",
       "      <th>Botafogo</th>\n",
       "      <td>748.103</td>\n",
       "      <td>0</td>\n",
       "      <td>1334.4</td>\n",
       "      <td>739.424</td>\n",
       "      <td>1675.74</td>\n",
       "      <td>1675.74</td>\n",
       "      <td>1484.07</td>\n",
       "      <td>675.611</td>\n",
       "      <td>340.896</td>\n",
       "      <td>937.644</td>\n",
       "      <td>394.475</td>\n",
       "      <td>814.183</td>\n",
       "      <td>1875.55</td>\n",
       "      <td>746.328</td>\n",
       "      <td>394.475</td>\n",
       "      <td>2452.91</td>\n",
       "      <td>2265.3</td>\n",
       "      <td>0</td>\n",
       "      <td>937.644</td>\n",
       "      <td>1211.69</td>\n",
       "    </tr>\n",
       "    <tr>\n",
       "      <th>Brasil de Pelotas</th>\n",
       "      <td>591.014</td>\n",
       "      <td>1334.4</td>\n",
       "      <td>0</td>\n",
       "      <td>616.523</td>\n",
       "      <td>2996.45</td>\n",
       "      <td>2996.45</td>\n",
       "      <td>2798.85</td>\n",
       "      <td>765.956</td>\n",
       "      <td>1561.03</td>\n",
       "      <td>1706.53</td>\n",
       "      <td>1114.7</td>\n",
       "      <td>947.727</td>\n",
       "      <td>3195.68</td>\n",
       "      <td>772.812</td>\n",
       "      <td>1114.7</td>\n",
       "      <td>3395.78</td>\n",
       "      <td>3356.49</td>\n",
       "      <td>1334.4</td>\n",
       "      <td>1706.53</td>\n",
       "      <td>2523.13</td>\n",
       "    </tr>\n",
       "    <tr>\n",
       "      <th>Brusque</th>\n",
       "      <td>66.2881</td>\n",
       "      <td>739.424</td>\n",
       "      <td>616.523</td>\n",
       "      <td>0</td>\n",
       "      <td>2382.85</td>\n",
       "      <td>2382.85</td>\n",
       "      <td>2184.23</td>\n",
       "      <td>188.747</td>\n",
       "      <td>944.674</td>\n",
       "      <td>1158.69</td>\n",
       "      <td>501.997</td>\n",
       "      <td>477.676</td>\n",
       "      <td>2581.71</td>\n",
       "      <td>255.562</td>\n",
       "      <td>501.997</td>\n",
       "      <td>2852.09</td>\n",
       "      <td>2772.88</td>\n",
       "      <td>739.424</td>\n",
       "      <td>1158.69</td>\n",
       "      <td>1908.39</td>\n",
       "    </tr>\n",
       "    <tr>\n",
       "      <th>CRB</th>\n",
       "      <td>2405.5</td>\n",
       "      <td>1675.74</td>\n",
       "      <td>2996.45</td>\n",
       "      <td>2382.85</td>\n",
       "      <td>0</td>\n",
       "      <td>0</td>\n",
       "      <td>203.722</td>\n",
       "      <td>2263.15</td>\n",
       "      <td>1442.96</td>\n",
       "      <td>1658.5</td>\n",
       "      <td>1904.32</td>\n",
       "      <td>2235.2</td>\n",
       "      <td>199.823</td>\n",
       "      <td>2296.2</td>\n",
       "      <td>1904.32</td>\n",
       "      <td>1677.36</td>\n",
       "      <td>1226.71</td>\n",
       "      <td>1675.74</td>\n",
       "      <td>1658.5</td>\n",
       "      <td>476.641</td>\n",
       "    </tr>\n",
       "  </tbody>\n",
       "</table>\n",
       "</div>"
      ],
      "text/plain": [
       "                      Avaí Botafogo Brasil de Pelotas  Brusque      CRB  \\\n",
       "Time                                                                      \n",
       "Avaí                     0  748.103           591.014  66.2881   2405.5   \n",
       "Botafogo           748.103        0            1334.4  739.424  1675.74   \n",
       "Brasil de Pelotas  591.014   1334.4                 0  616.523  2996.45   \n",
       "Brusque            66.2881  739.424           616.523        0  2382.85   \n",
       "CRB                 2405.5  1675.74           2996.45  2382.85        0   \n",
       "\n",
       "                       CSA Confiança Coritiba Cruzeiro    Goiás  Guarani  \\\n",
       "Time                                                                       \n",
       "Avaí                2405.5   2208.21  251.504  973.292     1216  542.739   \n",
       "Botafogo           1675.74   1484.07  675.611  340.896  937.644  394.475   \n",
       "Brasil de Pelotas  2996.45   2798.85  765.956  1561.03  1706.53   1114.7   \n",
       "Brusque            2382.85   2184.23  188.747  944.674  1158.69  501.997   \n",
       "CRB                      0   203.722  2263.15  1442.96   1658.5  1904.32   \n",
       "\n",
       "                  Londrina  Náutico Operário-PR Ponte Preta     Remo  \\\n",
       "Time                                                                   \n",
       "Avaí               543.819   2604.8     321.761     542.739   2907.4   \n",
       "Botafogo           814.183  1875.55     746.328     394.475  2452.91   \n",
       "Brasil de Pelotas  947.727  3195.68     772.812      1114.7  3395.78   \n",
       "Brusque            477.676  2581.71     255.562     501.997  2852.09   \n",
       "CRB                 2235.2  199.823      2296.2     1904.32  1677.36   \n",
       "\n",
       "                  Sampaio Corrêa Vasco da Gama Vila Nova  Vitória  \n",
       "Time                                                               \n",
       "Avaí                     2821.01       748.103      1216  1932.59  \n",
       "Botafogo                  2265.3             0   937.644  1211.69  \n",
       "Brasil de Pelotas        3356.49        1334.4   1706.53  2523.13  \n",
       "Brusque                  2772.88       739.424   1158.69  1908.39  \n",
       "CRB                      1226.71       1675.74    1658.5  476.641  "
      ]
     },
     "execution_count": 293,
     "metadata": {
      "tags": []
     },
     "output_type": "execute_result"
    }
   ],
   "source": [
    "distanciasb=pd.DataFrame(columns=['Time']+lista_times_21b['Time'].tolist())\n",
    "distanciasb['Time']=lista_times_21b['Time'].tolist()\n",
    "for ii in range(len(lista_times_21b)):\n",
    "    for jj in range(len(lista_times_21b)):\n",
    "        loc1=(lista_times_21b.iloc[ii,-2],lista_times_21b.iloc[ii,-1])\n",
    "        loc2=(lista_times_21b.iloc[jj,-2],lista_times_21b.iloc[jj,-1])\n",
    "        distanciasb.iloc[ii,jj+1]=hs.haversine(loc1,loc2)\n",
    "distanciasb=distanciasb.set_index('Time')\n",
    "\n",
    "distanciasb.head()"
   ]
  },
  {
   "cell_type": "code",
   "execution_count": null,
   "metadata": {
    "id": "elQLzb03dmv1"
   },
   "outputs": [],
   "source": [
    "def avaliacao_b(ordem_times,ordem_mandos,ordem_rodadas):\n",
    "    percursos=[]\n",
    "    rodadas=ordem_rodadas.columns\n",
    "    for jj in range(len(generico)):\n",
    "        percurso_time=[generico[jj]]+2*ordem_rodadas.loc[generico[jj],:].tolist()+[generico[jj]]\n",
    "        for ii in range(len(rodadas)):\n",
    "            if mando.loc[generico[jj],rodadas[ii]]==0:\n",
    "                percurso_time[ii+1]=generico[jj]\n",
    "            else:\n",
    "                percurso_time[ii+ordem_times.shape[0]]=generico[jj]\n",
    "\n",
    "        percursos.append(percurso_time)\n",
    "\n",
    "    percursos=pd.DataFrame(percursos)\n",
    "    percorrido=[]\n",
    "    for ii in range(percursos.shape[0]):\n",
    "        viagens=0\n",
    "        for jj in range(percursos.shape[1]-1):\n",
    "            viagens += distanciasb.loc[ordem_times.loc[percursos.iloc[ii,jj],'Equipe'],\n",
    "                                      ordem_times.loc[percursos.iloc[ii,jj+1],'Equipe']]\n",
    "\n",
    "        percorrido.append(viagens)\n",
    "    \n",
    "    desvio_padrao = np.std(percorrido)\n",
    "    return desvio_padrao"
   ]
  },
  {
   "cell_type": "code",
   "execution_count": null,
   "metadata": {
    "id": "klGtc0Dxdmv3"
   },
   "outputs": [],
   "source": [
    "enfrentamentos_solucao = enfrentamentos.copy()\n",
    "mando_solucao = mando.copy()"
   ]
  },
  {
   "cell_type": "code",
   "execution_count": null,
   "metadata": {
    "id": "30jC9W4Ddmv4"
   },
   "outputs": [],
   "source": [
    "gene_pool=[]\n",
    "for ii in range(6):\n",
    "    gene = random.sample(range(0, 20),k=20)\n",
    "    gene_pool.append(gene)\n",
    "        \n",
    "gene_pool=pd.DataFrame(gene_pool)"
   ]
  },
  {
   "cell_type": "code",
   "execution_count": null,
   "metadata": {
    "id": "elq5qoLndmv4",
    "outputId": "1e547e14-419f-4ced-a485-180b7259f4fc"
   },
   "outputs": [
    {
     "name": "stdout",
     "output_type": "stream",
     "text": [
      "Geração: 0\n",
      "Geração: 50\n",
      "Geração: 100\n",
      "Geração: 150\n",
      "Geração: 200\n",
      "Geração: 250\n",
      "Geração: 300\n",
      "Geração: 350\n",
      "Geração: 400\n",
      "Geração: 450\n"
     ]
    }
   ],
   "source": [
    "geracao=0\n",
    "max_geracao=500\n",
    "metrica=[]\n",
    "while (geracao<max_geracao):\n",
    "    if (geracao%50==0):\n",
    "        print('Geração:', geracao)\n",
    "    notas=[]\n",
    "    #para cada gene\n",
    "    for ii in range(gene_pool.shape[0]):\n",
    "        #criando ordem dos times\n",
    "        lista_times_gene=[]\n",
    "        for jj in range(gene_pool.shape[1]):\n",
    "            lista_times_gene.append(lista_times_21b['Time'].tolist()[gene_pool.iloc[ii,jj].astype(int)])\n",
    "        \n",
    "        ordem_times=lista_times.copy()\n",
    "        ordem_times['Equipe']=lista_times_gene\n",
    "        #calculando distancias e desvio padrao\n",
    "        notas.append(avaliacao_b(ordem_times, mando_solucao, enfrentamentos_solucao))\n",
    "    \n",
    "    #vamos classificar os resultados\n",
    "    gene_pool['avaliacao']=notas\n",
    "    gene_pool = gene_pool.sort_values(by=['avaliacao']).reset_index(drop=True)\n",
    "    \n",
    "    #salvando o melhor resultado\n",
    "    metrica.append(gene_pool.iloc[0,-1])\n",
    "    \n",
    "    #gerando novos candidatos\n",
    "    gene_pool.iloc[2,:]=gene_pool.iloc[0,:]\n",
    "    gene_pool.iloc[3,:]=gene_pool.iloc[0,:]\n",
    "    gene_pool.iloc[4,:]=gene_pool.iloc[1,:]\n",
    "    gene_pool.iloc[5,:]=gene_pool.iloc[1,:]\n",
    "    \n",
    "    for ii in range(2,6):\n",
    "        x1=random.randint(0,19)\n",
    "        x2=x1\n",
    "        while x2==x1:\n",
    "            x2=random.randint(0,19)\n",
    "        pos1=gene_pool.iloc[ii,x1]\n",
    "        pos2=gene_pool.iloc[ii,x2]\n",
    "        gene_pool.iloc[ii,x1]=pos2\n",
    "        gene_pool.iloc[ii,x2]=pos1\n",
    "    \n",
    "    #preparando para próxima geração\n",
    "    gene_pool.drop(columns=['avaliacao'],inplace=True)\n",
    "    geracao+=1\n",
    "    "
   ]
  },
  {
   "cell_type": "code",
   "execution_count": null,
   "metadata": {
    "id": "zZ7NKF6tdmv4",
    "outputId": "7c25c9eb-8cee-47af-a021-c30ab1d5d86a"
   },
   "outputs": [
    {
     "data": {
      "image/png": "[encoded data removed]",
      "text/plain": [
       "<Figure size 432x288 with 1 Axes>"
      ]
     },
     "metadata": {
      "needs_background": "light",
      "tags": []
     },
     "output_type": "display_data"
    }
   ],
   "source": [
    "plt.plot(range(max_geracao), metrica)\n",
    "plt.xlabel('Geração')\n",
    "plt.ylabel('Menor Desvio Padrão')\n",
    "plt.title('Evolução da métrica de avaliação para Série B')\n",
    "plt.show()"
   ]
  },
  {
   "cell_type": "code",
   "execution_count": null,
   "metadata": {
    "id": "Q5Grl4gCdmv4",
    "outputId": "ad0d4e40-64ce-40a9-a20c-ec7c66c9c2fd"
   },
   "outputs": [
    {
     "name": "stdout",
     "output_type": "stream",
     "text": [
      "A melhor ordem para os times tem um desvio padrão de : 4768.920467037452 , ordenado como abaixo.\n"
     ]
    }
   ],
   "source": [
    "print('A melhor ordem para os times tem um desvio padrão de :',metrica[-1],', ordenado como abaixo.')"
   ]
  },
  {
   "cell_type": "code",
   "execution_count": null,
   "metadata": {
    "id": "i-_Z1IFwdmv5",
    "outputId": "713c07e5-96db-4d34-8ead-ad2164a0a5a1"
   },
   "outputs": [
    {
     "data": {
      "text/plain": [
       "['Ponte Preta',\n",
       " 'Brasil de Pelotas',\n",
       " 'Botafogo',\n",
       " 'Remo',\n",
       " 'Goiás',\n",
       " 'Confiança',\n",
       " 'Avaí',\n",
       " 'Coritiba',\n",
       " 'Operário-PR',\n",
       " 'Londrina',\n",
       " 'Vasco da Gama',\n",
       " 'CRB',\n",
       " 'Brusque',\n",
       " 'Vitória',\n",
       " 'Guarani',\n",
       " 'Sampaio Corrêa',\n",
       " 'Vila Nova',\n",
       " 'Cruzeiro',\n",
       " 'Náutico',\n",
       " 'CSA']"
      ]
     },
     "execution_count": 303,
     "metadata": {
      "tags": []
     },
     "output_type": "execute_result"
    }
   ],
   "source": [
    "melhor_lista_times=[]\n",
    "for jj in range(gene_pool.shape[1]):\n",
    "    melhor_lista_times.append(lista_times_21b['Time'].tolist()[gene_pool.iloc[0,jj].astype(int)])\n",
    "melhor_lista_times       "
   ]
  },
  {
   "cell_type": "code",
   "execution_count": null,
   "metadata": {
    "id": "lVxd--33dmv5",
    "outputId": "f4aeae02-30d5-4f6d-95b9-b029d5d74f69"
   },
   "outputs": [
    {
     "data": {
      "text/html": [
       "<div>\n",
       "<style scoped>\n",
       "    .dataframe tbody tr th:only-of-type {\n",
       "        vertical-align: middle;\n",
       "    }\n",
       "\n",
       "    .dataframe tbody tr th {\n",
       "        vertical-align: top;\n",
       "    }\n",
       "\n",
       "    .dataframe thead th {\n",
       "        text-align: right;\n",
       "    }\n",
       "</style>\n",
       "<table border=\"1\" class=\"dataframe\">\n",
       "  <thead>\n",
       "    <tr style=\"text-align: right;\">\n",
       "      <th></th>\n",
       "      <th>Equipe</th>\n",
       "      <th>Total Viagem</th>\n",
       "    </tr>\n",
       "    <tr>\n",
       "      <th>Time</th>\n",
       "      <th></th>\n",
       "      <th></th>\n",
       "    </tr>\n",
       "  </thead>\n",
       "  <tbody>\n",
       "    <tr>\n",
       "      <th>Time01</th>\n",
       "      <td>Ponte Preta</td>\n",
       "      <td>39406.485408</td>\n",
       "    </tr>\n",
       "    <tr>\n",
       "      <th>Time02</th>\n",
       "      <td>Brasil de Pelotas</td>\n",
       "      <td>51536.853359</td>\n",
       "    </tr>\n",
       "    <tr>\n",
       "      <th>Time03</th>\n",
       "      <td>Botafogo</td>\n",
       "      <td>39263.240948</td>\n",
       "    </tr>\n",
       "    <tr>\n",
       "      <th>Time04</th>\n",
       "      <td>Remo</td>\n",
       "      <td>53853.594152</td>\n",
       "    </tr>\n",
       "    <tr>\n",
       "      <th>Time05</th>\n",
       "      <td>Goiás</td>\n",
       "      <td>40275.625558</td>\n",
       "    </tr>\n",
       "    <tr>\n",
       "      <th>Time06</th>\n",
       "      <td>Confiança</td>\n",
       "      <td>47663.107693</td>\n",
       "    </tr>\n",
       "    <tr>\n",
       "      <th>Time07</th>\n",
       "      <td>Avaí</td>\n",
       "      <td>41278.159467</td>\n",
       "    </tr>\n",
       "    <tr>\n",
       "      <th>Time08</th>\n",
       "      <td>Coritiba</td>\n",
       "      <td>43867.769510</td>\n",
       "    </tr>\n",
       "    <tr>\n",
       "      <th>Time09</th>\n",
       "      <td>Operário-PR</td>\n",
       "      <td>42652.427038</td>\n",
       "    </tr>\n",
       "    <tr>\n",
       "      <th>Time10</th>\n",
       "      <td>Londrina</td>\n",
       "      <td>41405.781526</td>\n",
       "    </tr>\n",
       "    <tr>\n",
       "      <th>Time11</th>\n",
       "      <td>Vasco da Gama</td>\n",
       "      <td>41165.240225</td>\n",
       "    </tr>\n",
       "    <tr>\n",
       "      <th>Time12</th>\n",
       "      <td>CRB</td>\n",
       "      <td>47708.963277</td>\n",
       "    </tr>\n",
       "    <tr>\n",
       "      <th>Time13</th>\n",
       "      <td>Brusque</td>\n",
       "      <td>41508.117839</td>\n",
       "    </tr>\n",
       "    <tr>\n",
       "      <th>Time14</th>\n",
       "      <td>Vitória</td>\n",
       "      <td>45575.485396</td>\n",
       "    </tr>\n",
       "    <tr>\n",
       "      <th>Time15</th>\n",
       "      <td>Guarani</td>\n",
       "      <td>39335.305864</td>\n",
       "    </tr>\n",
       "    <tr>\n",
       "      <th>Time16</th>\n",
       "      <td>Sampaio Corrêa</td>\n",
       "      <td>52845.860548</td>\n",
       "    </tr>\n",
       "    <tr>\n",
       "      <th>Time17</th>\n",
       "      <td>Vila Nova</td>\n",
       "      <td>37732.212441</td>\n",
       "    </tr>\n",
       "    <tr>\n",
       "      <th>Time18</th>\n",
       "      <td>Cruzeiro</td>\n",
       "      <td>38625.847601</td>\n",
       "    </tr>\n",
       "    <tr>\n",
       "      <th>Time19</th>\n",
       "      <td>Náutico</td>\n",
       "      <td>46982.671702</td>\n",
       "    </tr>\n",
       "    <tr>\n",
       "      <th>Time20</th>\n",
       "      <td>CSA</td>\n",
       "      <td>46574.532349</td>\n",
       "    </tr>\n",
       "  </tbody>\n",
       "</table>\n",
       "</div>"
      ],
      "text/plain": [
       "                   Equipe  Total Viagem\n",
       "Time                                   \n",
       "Time01        Ponte Preta  39406.485408\n",
       "Time02  Brasil de Pelotas  51536.853359\n",
       "Time03           Botafogo  39263.240948\n",
       "Time04               Remo  53853.594152\n",
       "Time05              Goiás  40275.625558\n",
       "Time06          Confiança  47663.107693\n",
       "Time07               Avaí  41278.159467\n",
       "Time08           Coritiba  43867.769510\n",
       "Time09        Operário-PR  42652.427038\n",
       "Time10           Londrina  41405.781526\n",
       "Time11      Vasco da Gama  41165.240225\n",
       "Time12                CRB  47708.963277\n",
       "Time13            Brusque  41508.117839\n",
       "Time14            Vitória  45575.485396\n",
       "Time15            Guarani  39335.305864\n",
       "Time16     Sampaio Corrêa  52845.860548\n",
       "Time17          Vila Nova  37732.212441\n",
       "Time18           Cruzeiro  38625.847601\n",
       "Time19            Náutico  46982.671702\n",
       "Time20                CSA  46574.532349"
      ]
     },
     "execution_count": 312,
     "metadata": {
      "tags": []
     },
     "output_type": "execute_result"
    }
   ],
   "source": [
    "melhor_ordem_times=lista_times.copy()\n",
    "melhor_ordem_times['Equipe']=melhor_lista_times\n",
    "percorrido=[]\n",
    "for ii in range(percursos.shape[0]):\n",
    "    viagens=0\n",
    "    for jj in range(percursos.shape[1]-1):\n",
    "        viagens += distanciasb.loc[melhor_ordem_times.loc[percursos.iloc[ii,jj],'Equipe'],\n",
    "                                  melhor_ordem_times.loc[percursos.iloc[ii,jj+1],'Equipe']]\n",
    "    \n",
    "    percorrido.append(viagens)\n",
    "melhor_ordem_times['Total Viagem']=percorrido\n",
    "melhor_ordem_times\n"
   ]
  },
  {
   "cell_type": "code",
   "execution_count": null,
   "metadata": {
    "id": "Heliq4E0dmv5",
    "outputId": "eeed26eb-3bc3-492d-dce2-47569939fe8d"
   },
   "outputs": [
    {
     "data": {
      "image/png": "[encoded data removed]",
      "text/plain": [
       "<Figure size 432x288 with 1 Axes>"
      ]
     },
     "metadata": {
      "needs_background": "light",
      "tags": []
     },
     "output_type": "display_data"
    }
   ],
   "source": [
    "plt.hist(percorrido, bins = 3)\n",
    "plt.xlabel('Total viajado')\n",
    "plt.ylabel('Número de Equipes')\n",
    "plt.title('Distribuição de distância')\n",
    "plt.show()"
   ]
  },
  {
   "cell_type": "code",
   "execution_count": null,
   "metadata": {
    "id": "PZRUj2Wvdmv6"
   },
   "outputs": [],
   "source": []
  }
 ],
 "metadata": {
  "colab": {
   "collapsed_sections": [
    "C1XLbmlxdmvv",
    "OTzlKIgidmvx",
    "8WtAwiPEdmvz"
   ],
   "name": "brasileirao.ipynb",
   "provenance": [],
   "toc_visible": true
  },
  "kernelspec": {
   "display_name": "Python 3",
   "language": "python",
   "name": "python3"
  },
  "language_info": {
   "codemirror_mode": {
    "name": "ipython",
    "version": 3
   },
   "file_extension": ".py",
   "mimetype": "text/x-python",
   "name": "python",
   "nbconvert_exporter": "python",
   "pygments_lexer": "ipython3",
   "version": "3.8.3"
  }
 },
 "nbformat": 4,
 "nbformat_minor": 4
}
